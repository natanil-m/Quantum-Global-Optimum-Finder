{
 "cells": [
  {
   "cell_type": "code",
   "execution_count": 1,
   "metadata": {},
   "outputs": [],
   "source": [
    "# !pip install pennylane\n",
    "# !pip install pennylane-qiskit"
   ]
  },
  {
   "cell_type": "code",
   "execution_count": 2,
   "metadata": {},
   "outputs": [],
   "source": [
    "# !pip install pennylane-lightning"
   ]
  },
  {
   "cell_type": "code",
   "execution_count": 3,
   "metadata": {},
   "outputs": [],
   "source": [
    "# !pip install pennylane-lightning[gpu]  # has erro"
   ]
  },
  {
   "cell_type": "code",
   "execution_count": 4,
   "metadata": {},
   "outputs": [],
   "source": [
    "import numpy as np\n",
    "from pennylane.optimize import AdamOptimizer\n",
    "from pennylane import numpy as qml_np\n",
    "import pennylane as qml\n",
    "\n",
    "import math\n",
    "import matplotlib.pyplot as plt\n",
    "import datetime"
   ]
  },
  {
   "cell_type": "code",
   "execution_count": 5,
   "metadata": {},
   "outputs": [
    {
     "name": "stdout",
     "output_type": "stream",
     "text": [
      "initial_state_phi1=[0.5, 0.5, 0, 0.5, 0, 0, 0.5, 0]\n"
     ]
    }
   ],
   "source": [
    "num_of_qubits = 1+3\n",
    "eps_val_q = 1/math.sqrt(2**num_of_qubits)/100\n",
    "eps_val = min(1e-10, eps_val_q)\n",
    "tiny_change_threshold = 1e-4\n",
    "cnt_threshold_no_change = 5\n",
    "\n",
    "N = 2**(num_of_qubits-2)\n",
    "normal_val = math.sqrt(1/N)\n",
    "# initial_state_phi1 = [math.sqrt(1/N)]*(N-1) + [0]*N + [math.sqrt(1/N)] # 2**(num_of_qubits-1)\n",
    "# initial_state_phi1 = [.5,.5,.5, 0,   0, 0, 0, .5,  ] # 2**(num_of_qubits-1)\n",
    "\n",
    "initial_state2 = [1/math.sqrt(N)]*(N-2) + [0, 1/math.sqrt(N)] + [0]*(N-2) + [1/math.sqrt(N), 0] # 2**(num_qubits-1)\n",
    "initial_state_phi1 = initial_state2\n",
    "print(f'initial_state_phi1={initial_state_phi1}')\n",
    "# print(f'initial_state_phi1={initial_state_phi1[-5:]}')\n",
    "initial_state_0_phi1  = initial_state_phi1 + [0]*len(initial_state_phi1) # 2**num_of_qubits\n",
    "\n",
    "\n",
    "# print(f'initial_state3={initial_state3}')\n",
    "# initial_state  = initial_state3 + [0]*len(initial_state3) # 2**num_qubits"
   ]
  },
  {
   "cell_type": "code",
   "execution_count": 6,
   "metadata": {},
   "outputs": [
    {
     "name": "stdout",
     "output_type": "stream",
     "text": [
      "[1 4 7]\n",
      "[ 1.  4.  7. 10.]\n",
      "[0, 1, 2, 3, 4, 5, 6, 7, 8, 9]\n"
     ]
    }
   ],
   "source": [
    "print(np.arange(1,10, 3))\n",
    "print(np.linspace(1,10, 4))\n",
    "print(list(range(10)))"
   ]
  },
  {
   "cell_type": "code",
   "execution_count": 7,
   "metadata": {},
   "outputs": [],
   "source": [
    "\n",
    "\n",
    "def layer_t3_no_HT(theta, qubit_posi):\n",
    "    # type-2 layer\n",
    "    # length of theta: (num_of_qubits-1)*2\n",
    "    # length of qubit_posi: num_of_qubits-1\n",
    "    # number of wires: num_of_qubits\n",
    "    for i in range(num_of_qubits-1):\n",
    "        qml.RY(theta[i], wires=(qubit_posi[i]))    \n",
    "    for i in np.arange(0, num_of_qubits-2, 2):\n",
    "#         qml.ctrl(qml.PauliZ(qubit_posi[i+1]), qubit_posi[i]) # CZ struct2\n",
    "        qml.CNOT(wires=(qubit_posi[i],qubit_posi[i+1])) # CNOT struct3\n",
    "    for i in range(num_of_qubits-1):\n",
    "        qml.RY(theta[i+num_of_qubits-1], wires=(qubit_posi[i]))\n",
    "    for i in np.arange(1, num_of_qubits-2, 2):\n",
    "#         qml.ctrl(qml.PauliZ(qubit_posi[i+1]), qubit_posi[i]) # CZ struct2\n",
    "        qml.CNOT(wires=(qubit_posi[i],qubit_posi[i+1])) # CNOT struct3\n",
    "#     qml.ctrl(qml.PauliZ(qubit_posi[0]), qubit_posi[-1]) # CZ struct2\n",
    "    qml.CNOT(wires=(qubit_posi[-1],qubit_posi[0])) # CNOT struct3\n",
    "        \n",
    "def layer_t3_with_HT(theta, num_of_qubits):\n",
    "    # type-2 layer\n",
    "    # length of theta: (num_of_qubits-1)*2\n",
    "    # number of wires: num_of_qubits\n",
    "    for i in range(num_of_qubits-1):\n",
    "        qml.CRY(theta[i], wires=(0, i+1))    \n",
    "    for i in np.arange(0, num_of_qubits-2, 2):\n",
    "#         qml.ctrl(qml.PauliZ(i+2), (0, i+1)) # CZ struct2\n",
    "        qml.Toffoli(wires=(0,i+1,i+2)) # CCNOT struct3\n",
    "        \n",
    "    for i in range(num_of_qubits-1):\n",
    "        qml.CRY(theta[i+num_of_qubits-1], wires=(0, i+1))\n",
    "    for i in np.arange(1, num_of_qubits-2, 2):\n",
    "#         qml.ctrl(qml.PauliZ(i+2), (0, i+1)) # CZ struct2\n",
    "        qml.Toffoli(wires=(0,i+1,i+2)) # CCNOT struct3\n",
    "#     qml.ctrl(qml.PauliZ(1), (0, num_of_qubits-1)) # CZ struct2\n",
    "    qml.Toffoli(wires=(0,num_of_qubits-1, 1)) # CCNOT struct3\n",
    "    "
   ]
  }
 ],
 "metadata": {
  "kernelspec": {
   "display_name": "Python 3",
   "language": "python",
   "name": "python3"
  },
  "language_info": {
   "codemirror_mode": {
    "name": "ipython",
    "version": 3
   },
   "file_extension": ".py",
   "mimetype": "text/x-python",
   "name": "python",
   "nbconvert_exporter": "python",
   "pygments_lexer": "ipython3",
   "version": "3.7.6"
  },
  "orig_nbformat": 4
 },
 "nbformat": 4,
 "nbformat_minor": 2
}

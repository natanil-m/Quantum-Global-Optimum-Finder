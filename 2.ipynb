{
 "cells": [
  {
   "cell_type": "markdown",
   "id": "51563e4e-9c2d-4490-a30e-2361285fb8de",
   "metadata": {},
   "source": [
    "# use another position\n",
    "- initial_state2, 2nd last is flipped\n",
    "- has 2 circuits instead of 3 circuits.  11/16/2022"
   ]
  },
  {
   "cell_type": "code",
   "execution_count": 1,
   "id": "244f3c91",
   "metadata": {
    "scrolled": true
   },
   "outputs": [],
   "source": [
    "# !pip install pennylane\n",
    "# !pip install pennylane-qiskit"
   ]
  },
  {
   "cell_type": "code",
   "execution_count": null,
   "id": "c9a9a96f-1ffe-4a1e-bf0e-b163cd430420",
   "metadata": {},
   "outputs": [],
   "source": [
    "# !pip install pennylane-lightning"
   ]
  },
  {
   "cell_type": "code",
   "execution_count": null,
   "id": "5ec26cd5-2c29-4d16-afce-c0e7e39ef22a",
   "metadata": {},
   "outputs": [],
   "source": [
    "# !pip install pennylane-lightning[gpu]  # has erro"
   ]
  },
  {
   "cell_type": "code",
   "execution_count": null,
   "id": "9e736988",
   "metadata": {
    "scrolled": true
   },
   "outputs": [],
   "source": []
  },
  {
   "cell_type": "markdown",
   "id": "c9d24f20-1107-49de-894c-a8542fd49480",
   "metadata": {},
   "source": [
    "# 2nd last flipped"
   ]
  },
  {
   "cell_type": "code",
   "execution_count": null,
   "id": "3193ae0a",
   "metadata": {},
   "outputs": [],
   "source": [
    "import numpy as np\n",
    "from pennylane.optimize import AdamOptimizer\n",
    "from pennylane import numpy as qml_np\n",
    "import pennylane as qml\n",
    "\n",
    "import math\n",
    "import matplotlib.pyplot as plt\n",
    "import datetime"
   ]
  },
  {
   "cell_type": "code",
   "execution_count": null,
   "id": "9415dd44",
   "metadata": {
    "scrolled": true
   },
   "outputs": [
    {
     "name": "stdout",
     "output_type": "stream",
     "text": [
      "initial_state_phi1=[0.5, 0.5, 0, 0.5, 0, 0, 0.5, 0]\n"
     ]
    }
   ],
   "source": [
    "num_of_qubits = 1+3\n",
    "N = 2**(num_of_qubits-2)\n",
    "# initial_state_phi1 = [math.sqrt(1/N)]*(N-1) + [0]*N + [math.sqrt(1/N)] # 2**(num_of_qubits-1)\n",
    "# initial_state_phi1 = [.5,.5,.5, 0,   0, 0, 0, .5,  ] # 2**(num_of_qubits-1)\n",
    "\n",
    "initial_state2 = [1/math.sqrt(N)]*(N-2) + [0, 1/math.sqrt(N)] + [0]*(N-2) + [1/math.sqrt(N), 0] # 2**(num_qubits-1)\n",
    "initial_state_phi1 = initial_state2\n",
    "print(f'initial_state_phi1={initial_state_phi1}')\n",
    "# print(f'initial_state_phi1={initial_state_phi1[-5:]}')\n",
    "initial_state_0_phi1  = initial_state_phi1 + [0]*len(initial_state_phi1) # 2**num_of_qubits\n",
    "\n",
    "\n",
    "# print(f'initial_state3={initial_state3}')\n",
    "# initial_state  = initial_state3 + [0]*len(initial_state3) # 2**num_qubits"
   ]
  },
  {
   "cell_type": "code",
   "execution_count": null,
   "id": "1bae71f0-e8ee-4384-b258-a645c220fd0d",
   "metadata": {},
   "outputs": [],
   "source": [
    "## three quantum circuits\n",
    "def layer_with_HT(theta):\n",
    "    for i in range(num_of_qubits-1):\n",
    "        qml.CRY(theta[i], wires=(0,i+1))\n",
    "    for i in range(num_of_qubits-2):\n",
    "        qml.Toffoli(wires=(0,i+1,i+2))\n",
    "\n",
    "        \n",
    "def layer_no_HT(theta, qubit_posi):\n",
    "    for i in range(num_of_qubits-1):\n",
    "        qml.RY(theta[i], wires=(qubit_posi[i]))\n",
    "    for i in range(num_of_qubits-2):\n",
    "        qml.CNOT(wires=(qubit_posi[i],qubit_posi[i+1]))\n",
    "    \n"
   ]
  },
  {
   "cell_type": "code",
   "execution_count": null,
   "id": "a09991a7",
   "metadata": {
    "scrolled": true
   },
   "outputs": [],
   "source": [
    "device_name = 'default.qubit'  #'default.qubit' # \n",
    "device_name2 = 'default.qubit' # has qml.state()"
   ]
  },
  {
   "cell_type": "code",
   "execution_count": null,
   "id": "9d027bd2",
   "metadata": {
    "scrolled": true
   },
   "outputs": [
    {
     "name": "stdout",
     "output_type": "stream",
     "text": [
      "0: ─╭QubitStateVector(M0)──H─╭●────────╭●────────╭●────────╭●─╭●──H─┤  <Z>\n",
      "1: ─├QubitStateVector(M0)────╰RY(0.10)─│─────────│─────────├●─│─────┤     \n",
      "2: ─├QubitStateVector(M0)──────────────╰RY(0.10)─│─────────╰X─├●────┤     \n",
      "3: ─╰QubitStateVector(M0)────────────────────────╰RY(0.10)────╰X────┤     \n"
     ]
    }
   ],
   "source": [
    "\n",
    "        \n",
    "# dev_with_HT=qml.device(device_name2, wires=num_of_qubits+1) #AerDevice(wires=num_of_qubits, shots=20000, backend='qasm_simulator')\n",
    "dev_with_HT=qml.device(device_name, wires=num_of_qubits)\n",
    "@qml.qnode(dev_with_HT)\n",
    "def quantum_circuit_with_HT(theta):\n",
    "    # initiate state vector |phi_1>\n",
    "    qml.QubitStateVector(np.array(initial_state_0_phi1), wires=range(num_of_qubits))\n",
    "#     qubit_position = list(range(1,num_of_qubits))\n",
    "#     initiate_state_0_phi1(qml, qubit_position, work_wires=num_of_qubits)\n",
    "    qml.Hadamard(0)\n",
    "    for theta_i in theta:\n",
    "        layer_with_HT(theta_i)\n",
    "    qml.Hadamard(0)    \n",
    "    return qml.expval(qml.PauliZ(0)) \n",
    "    # return qml.sample(qml.PauliZ(0)), qml.sample(qml.PauliZ(1))\n",
    "print(qml.draw(quantum_circuit_with_HT)([[0.1]*(num_of_qubits-1)]))\n",
    "# print(quantum_circuit_with_HT([[0.1]*(num_of_qubits-1)]))\n",
    "\n",
    "\n"
   ]
  },
  {
   "cell_type": "code",
   "execution_count": null,
   "id": "b019fe2d-39c1-4fc5-9549-322c0b563b90",
   "metadata": {},
   "outputs": [
    {
     "name": "stdout",
     "output_type": "stream",
     "text": [
      "newly added\n",
      "0: ─╭QubitStateVector(M0)──H─╭●────────╭●────────╭●────────╭●─╭●─╭●──H─┤  <Z>\n",
      "1: ─├QubitStateVector(M0)────╰RY(0.10)─│─────────│─────────├●─│──╰Z────┤     \n",
      "2: ─├QubitStateVector(M0)──────────────╰RY(0.10)─│─────────╰X─├●───────┤     \n",
      "3: ─╰QubitStateVector(M0)────────────────────────╰RY(0.10)────╰X───────┤     \n",
      "newly added 2\n",
      "0: ─╭QubitStateVector(M0)──RY(0.20)─╭●────┤  <Z>\n",
      "1: ─├QubitStateVector(M0)──RY(0.20)─╰X─╭●─┤     \n",
      "2: ─╰QubitStateVector(M0)──RY(0.20)────╰X─┤     \n",
      "newly added 3\n"
     ]
    }
   ],
   "source": [
    "\n",
    "# dev_with_HTZ=qml.device(device_name2, wires=num_of_qubits+1) #AerDevice(wires=num_of_qubits, shots=20000, backend='qasm_simulator')\n",
    "dev_with_HTZ=qml.device(device_name, wires=num_of_qubits)\n",
    "@qml.qnode(dev_with_HTZ)\n",
    "def quantum_circuit_with_HTZ(theta):\n",
    "    # initiate state vector |phi_1>\n",
    "    qml.QubitStateVector(np.array(initial_state_0_phi1), wires=range(num_of_qubits))\n",
    "#     qubit_position = list(range(1,num_of_qubits))\n",
    "#     initiate_state_0_phi1(qml, qubit_position, work_wires=num_of_qubits)\n",
    "    qml.Hadamard(0)\n",
    "    for theta_i in theta:\n",
    "        layer_with_HT(theta_i)\n",
    "    qml.CZ([0,1])\n",
    "    qml.Hadamard(0)    \n",
    "    return qml.expval(qml.PauliZ(0)) \n",
    "    # return qml.sample(qml.PauliZ(0)), qml.sample(qml.PauliZ(1))\n",
    "print('newly added')\n",
    "print(qml.draw(quantum_circuit_with_HTZ)([[0.1]*(num_of_qubits-1)]))\n",
    "# print(quantum_circuit_with_HTZ([[0.1]*(num_of_qubits-1)]))\n",
    "\n",
    "\n",
    "\n",
    "# dev_no_HT_Z=qml.device(device_name2, wires=num_of_qubits+1) #AerDevice(wires=num_of_qubits-1, shots=20000, backend='qasm_simulator')\n",
    "dev_no_HT_Z=qml.device(device_name, wires=num_of_qubits-1)        \n",
    "@qml.qnode(dev_no_HT_Z)\n",
    "def quantum_circuit_no_HT_return_Z(theta):\n",
    "    # initiate state vector |phi_1>\n",
    "    qml.QubitStateVector(np.array(initial_state_phi1), wires=range(num_of_qubits-1))\n",
    "#     qubit_position = list(range(num_of_qubits-1))\n",
    "#     initiate_state_0_phi1(qml, qubit_position, work_wires=num_of_qubits-1)\n",
    "    for theta_i in theta:\n",
    "        layer_no_HT(theta_i, list(range(num_of_qubits-1)))\n",
    "    \n",
    "    return qml.expval(qml.PauliZ(0))  \n",
    "    # return qml.sample(qml.PauliZ(0)) \n",
    "print('newly added 2')   \n",
    "print(qml.draw(quantum_circuit_no_HT_return_Z)([[0.2]*(num_of_qubits-1)]))\n",
    "# print(quantum_circuit_with_HT([[0.2]*(num_of_qubits-1)]))\n",
    "\n",
    "\n",
    "# dev_no_HT_S=qml.device(device_name2, wires=num_of_qubits+1) #AerDevice(wires=num_of_qubits-1, backend='qasm_simulator')\n",
    "dev_no_HT_S=qml.device(device_name2, wires=num_of_qubits-1)  \n",
    "@qml.qnode(dev_no_HT_S)\n",
    "def quantum_circuit_no_HT_return_state(theta):\n",
    "    # initiate state vector |phi_1>\n",
    "    qml.QubitStateVector(np.array(initial_state_phi1), wires=range(num_of_qubits-1))\n",
    "#     qubit_position = list(range(num_of_qubits-1))\n",
    "#     initiate_state_0_phi1(qml, qubit_position, work_wires=num_of_qubits-1)\n",
    "    for theta_i in theta:\n",
    "        layer_no_HT(theta_i, list(range(num_of_qubits-1)))    \n",
    "    return qml.state()\n",
    "\n",
    "print('newly added 3')"
   ]
  },
  {
   "cell_type": "code",
   "execution_count": null,
   "id": "67b13f54",
   "metadata": {
    "scrolled": true
   },
   "outputs": [],
   "source": [
    "coef2 = 1\n",
    "def objective_fn(theta):\n",
    "    val1_1 = quantum_circuit_with_HT(theta)\n",
    "    val1_2 = quantum_circuit_with_HTZ(theta)\n",
    "#     val2 = quantum_circuit_no_HT_return_Z(theta)\n",
    "#     return coef2*val2-0.5*(val1_1 - val1_2)\n",
    "    return -0.5*(val1_1 - val1_2)"
   ]
  },
  {
   "cell_type": "code",
   "execution_count": null,
   "id": "fa8a3c37",
   "metadata": {
    "scrolled": true
   },
   "outputs": [
    {
     "name": "stdout",
     "output_type": "stream",
     "text": [
      "\n",
      "\n",
      "rep=1\n",
      "iter=  1 :: obj=  0.06869745 :: val1_1=  0.11519903                  :: val1_2=  0.18772902 :: val2=  0.55304731                   coef2*val2-0.5*(val1_1 - val1_2)=  0.58931231                   :: theta=[[0.08527298 5.45654854 3.26235483]\n",
      " [5.74774341 3.81395492 3.5094945 ]\n",
      " [0.14484543 0.15277612 5.80793008]]\n",
      "iter= 20 :: obj= -0.36296344 :: val1_1=  0.59477002                  :: val1_2= -0.14429400 :: val2= -0.23469030                   coef2*val2-0.5*(val1_1 - val1_2)= -0.60422231                   :: theta=[[ 0.64545051  5.53967988  3.78105948]\n",
      " [ 6.61832943  4.74270508  4.33932407]\n",
      " [-0.80902031  0.4447367   6.64297412]]\n",
      "iter= 40 :: obj= -0.45062139 :: val1_1=  0.55024144                  :: val1_2= -0.35443662 :: val2= -0.64746278                   coef2*val2-0.5*(val1_1 - val1_2)= -1.09980180                   :: theta=[[ 1.24653312  5.28025738  3.08560581]\n",
      " [ 6.87182318  5.03381248  4.06717977]\n",
      " [-1.45425391  0.15371302  6.44616459]]\n",
      "iter= 60 :: obj= -0.47965128 :: val1_1=  0.58595580                  :: val1_2= -0.37695541 :: val2= -0.88578680                   coef2*val2-0.5*(val1_1 - val1_2)= -1.36724240                   :: theta=[[ 1.03895946  4.83907022  2.63792663]\n",
      " [ 6.74215114  5.09479721  3.93797861]\n",
      " [-1.83484187  0.47441322  6.203925  ]]\n",
      "iter= 80 :: obj= -0.49839198 :: val1_1=  0.51337965                  :: val1_2= -0.48360407 :: val2= -0.98940274                   coef2*val2-0.5*(val1_1 - val1_2)= -1.48789460                   :: theta=[[ 0.60580566  4.63087446  2.41360427]\n",
      " [ 6.69004188  5.35135096  4.10577157]\n",
      " [-2.10674885  0.91575243  6.08130351]]\n",
      "iter=100 :: obj= -0.49955420 :: val1_1=  0.50640997                  :: val1_2= -0.49280937 :: val2= -0.99700483                   coef2*val2-0.5*(val1_1 - val1_2)= -1.49661450                   :: theta=[[ 0.70605066  4.6383572   2.28198796]\n",
      " [ 6.67182464  5.42670911  4.22020684]\n",
      " [-2.14010959  1.00888626  6.03128245]]\n",
      "iter=120 :: obj= -0.49999596 :: val1_1=  0.50071225                  :: val1_2= -0.49927934 :: val2= -0.99997208                   coef2*val2-0.5*(val1_1 - val1_2)= -1.49996787                   :: theta=[[ 0.7904839   4.65070193  2.25049352]\n",
      " [ 6.70488286  5.42895459  4.24216377]\n",
      " [-2.07292377  1.01429688  5.97747704]]\n",
      "iter=140 :: obj= -0.49999347 :: val1_1=  0.49873741                  :: val1_2= -0.50125118 :: val2= -0.99995752                   coef2*val2-0.5*(val1_1 - val1_2)= -1.49995182                   :: theta=[[ 0.79534883  4.64742784  2.24227263]\n",
      " [ 6.7017916   5.4295239   4.24671183]\n",
      " [-2.06951183  1.01800014  5.97423128]]\n",
      "iter=160 :: obj= -0.49999960 :: val1_1=  0.49985493                  :: val1_2= -0.50014433 :: val2= -0.99999790                   coef2*val2-0.5*(val1_1 - val1_2)= -1.49999753                   :: theta=[[ 0.78585966  4.64760254  2.24765193]\n",
      " [ 6.7004074   5.43108379  4.24495895]\n",
      " [-2.07807122  1.01758942  5.98068906]]\n",
      "iter=180 :: obj= -0.49999994 :: val1_1=  0.50005106                  :: val1_2= -0.49994884 :: val2= -0.99999970                   coef2*val2-0.5*(val1_1 - val1_2)= -1.49999965                   :: theta=[[ 0.78439516  4.64662358  2.24956559]\n",
      " [ 6.70034046  5.42880211  4.24219941]\n",
      " [-2.07741585  1.01570407  5.98115508]]\n",
      "iter=200 :: obj= -0.49999999 :: val1_1=  0.50008128                  :: val1_2= -0.49991871 :: val2= -0.99999996                   coef2*val2-0.5*(val1_1 - val1_2)= -1.49999995                   :: theta=[[ 0.7853483   4.64703238  2.24913899]\n",
      " [ 6.70057855  5.4289706   4.24277748]\n",
      " [-2.07704189  1.01585694  5.98081164]]\n",
      "iter=220 :: obj= -0.50000000 :: val1_1=  0.49997213                  :: val1_2= -0.50002787 :: val2= -0.99999999                   coef2*val2-0.5*(val1_1 - val1_2)= -1.49999999                   :: theta=[[ 0.7854504   4.64700103  2.24873919]\n",
      " [ 6.70048345  5.42932953  4.24312839]\n",
      " [-2.07709694  1.01622828  5.98065644]]\n",
      "iter=240 :: obj= -0.50000000 :: val1_1=  0.49999618                  :: val1_2= -0.50000382 :: val2= -1.00000000                   coef2*val2-0.5*(val1_1 - val1_2)= -1.50000000                   :: theta=[[ 0.78542705  4.64700221  2.24884788]\n",
      " [ 6.70052221  5.4292317   4.24302133]\n",
      " [-2.07706065  1.01610988  5.98068933]]\n",
      "iter=260 :: obj= -0.50000000 :: val1_1=  0.50000283                  :: val1_2= -0.49999717 :: val2= -1.00000000                   coef2*val2-0.5*(val1_1 - val1_2)= -1.50000000                   :: theta=[[ 0.78538803  4.64699483  2.24887761]\n",
      " [ 6.70051001  5.42921681  4.24299344]\n",
      " [-2.07708768  1.01610061  5.98071253]]\n"
     ]
    }
   ],
   "source": [
    "max_repeat = 1 #100\n",
    "iter_max = 300  #300\n",
    "num_of_layers = 3\n",
    "prb_last_list = []\n",
    "obj_list_rep = []\n",
    "theta_list = []\n",
    "debug_flag, print_flag = 0, True\n",
    "start_time = datetime.datetime.now()\n",
    "for rep in range(1,max_repeat+1):\n",
    "    if print_flag:\n",
    "        print(f'\\n\\nrep={rep}')\n",
    "    else:\n",
    "        print(f'\\n\\nrep={rep}', end='  ')\n",
    "    \n",
    "    optimizer = AdamOptimizer(0.05, beta1=0.9, beta2=0.999)\n",
    "    theta=qml_np.random.uniform(0, 2*math.pi, size=(num_of_layers, num_of_qubits-1), requires_grad=True)\n",
    "    obj_list = []\n",
    "    for iter in range(1, iter_max+1):    \n",
    "        theta, obj = optimizer.step_and_cost(objective_fn, theta)\n",
    "        val1_1 = quantum_circuit_with_HT(theta)\n",
    "        val1_2 = quantum_circuit_with_HTZ(theta)\n",
    "        val2 = quantum_circuit_no_HT_return_Z(theta)\n",
    "        if (iter==1 or iter%20==0 or iter==iter_max) and print_flag:\n",
    "            print(f'iter={iter:3d} :: obj={obj:12.8f} :: val1_1={val1_1:12.8f} \\\n",
    "                 :: val1_2={val1_2:12.8f} :: val2={val2:12.8f}  \\\n",
    "                 coef2*val2-0.5*(val1_1 - val1_2)={coef2*val2-0.5*(val1_1 - val1_2):12.8f}  \\\n",
    "                 :: theta={theta}')\n",
    "            # print(f'iter={iter:3d} :: obj={obj:12.8f} :: theta={theta}')\n",
    "        obj_list.append(obj)\n",
    "    theta_list.append(theta)\n",
    "    print(f'obj_list(last 3)={obj_list[-3:]}')\n",
    "    obj_list_rep.append(obj_list)\n",
    "    \n",
    "    ## display the amplified state\n",
    "    state = quantum_circuit_no_HT_return_state(theta)\n",
    "    prb = [i.item()**2 for i in state]\n",
    "    # print(f'state={state}')\n",
    "    if len(prb)>20:\n",
    "        print(f'prb(last 2)={prb[-2:]}')\n",
    "    else: print(f'prb={prb}')\n",
    "    prb_last_list.append(prb[-1])\n",
    "end_time = datetime.datetime.now()\n",
    "duration = end_time - start_time\n",
    "duration_in_s = duration.total_seconds()\n",
    "print(f'time consumed: {duration_in_s}s')"
   ]
  },
  {
   "cell_type": "code",
   "execution_count": null,
   "id": "718e1740",
   "metadata": {},
   "outputs": [
    {
     "name": "stdout",
     "output_type": "stream",
     "text": [
      "time now:  2023-03-13 20:33:50.713609\n"
     ]
    }
   ],
   "source": [
    "print('time now: ', end_time)"
   ]
  },
  {
   "cell_type": "code",
   "execution_count": 1,
   "id": "261432a9",
   "metadata": {},
   "outputs": [],
   "source": [
    "import numpy as np\n",
    "from pennylane.optimize import AdamOptimizer\n",
    "from pennylane import numpy as qml_np\n",
    "import pennylane as qml\n",
    "\n",
    "import math\n",
    "import matplotlib.pyplot as plt\n",
    "import datetime\n",
    "\n",
    "\n",
    "coef2 = 1\n",
    "def objective_fn(theta):\n",
    "    val1_1 = quantum_circuit_with_HT(theta)\n",
    "    val1_2 = quantum_circuit_with_HTZ(theta)\n",
    "#     val2 = quantum_circuit_no_HT_return_Z(theta)\n",
    "#     return coef2*val2-0.5*(val1_1 - val1_2)\n",
    "    return -0.5*(val1_1 - val1_2)"
   ]
  },
  {
   "cell_type": "markdown",
   "id": "1c124e78-c2b7-4cb2-b9e5-3a5a8ef58a0a",
   "metadata": {},
   "source": []
  },
  {
   "cell_type": "markdown",
   "id": "84661931-8c1c-4f25-8f0c-d051a7178482",
   "metadata": {},
   "source": [
    "# 3rd last flipped"
   ]
  },
  {
   "cell_type": "code",
   "execution_count": 2,
   "id": "bf5900fd-e342-4f4b-9ad6-804df4a3eb0a",
   "metadata": {
    "scrolled": true
   },
   "outputs": [
    {
     "name": "stdout",
     "output_type": "stream",
     "text": [
      "initial_state_phi1=[0.99388373, 0.0, 0.0, 0.0, 0.0, 0.11043153, 0.0, 0.0]\n"
     ]
    }
   ],
   "source": [
    "\n",
    "num_of_qubits = 1+3\n",
    "N = 2**(num_of_qubits-2)\n",
    "# initial_state_phi1 = [math.sqrt(1/N)]*(N-1) + [0]*N + [math.sqrt(1/N)] # 2**(num_of_qubits-1)\n",
    "# initial_state_phi1 = [.5,.5,.5, 0,   0, 0, 0, .5,  ] # 2**(num_of_qubits-1)\n",
    "\n",
    "initial_state3 = [1/math.sqrt(N)]*(N-3) + [0, 1/math.sqrt(N), 1/math.sqrt(N)] + [0]*(N-3) + [1/math.sqrt(N), 0, 0] # 2**(num_qubits-1)\n",
    "initial_state_phi1 = initial_state3\n",
    "# initial_state_phi1 = np.array([0.9, 0, 0.0, 0.0, 0, 0.1, 0, 0])/np.linalg.norm([0.9, 0, 0.0, 0.0, 0, 0.1, 0, 0])\n",
    "initial_state_phi1 = [0.99388373 ,0.0,0.0, 0.0, 0.0, 0.11043153,0.0, 0.0 ]\n",
    "\n",
    "# print(f'initial_state_phi1={initial_state_phi1} - {len(initial_state_phi1)}')\n",
    "# initial_state_phi1 = [0.9, 0.0, 0.0, 0.0, 0.0, 0.1, 0, 0]/np.linalg.norm([0.9, 0, 0.0, 0.0, 0, 0.1, 0, 0])\n",
    "# print(f'initial_state_phi1={initial_state_phi1} - {len(initial_state_phi1)}')\n",
    "\n",
    "print(f'initial_state_phi1={initial_state_phi1}')\n",
    "# print(f'initial_state_phi1={initial_state_phi1[-5:]}')\n",
    "initial_state_0_phi1  = initial_state_phi1 + [0]*len(initial_state_phi1) # 2**num_of_qubits\n",
    "\n",
    "\n",
    "# print(f'initial_state3={initial_state3}')\n",
    "# initial_state  = initial_state3 + [0]*len(initial_state3) # 2**num_qubits"
   ]
  },
  {
   "cell_type": "code",
   "execution_count": 3,
   "id": "5dffe924-61a5-4973-ad75-7ec9c75b763e",
   "metadata": {},
   "outputs": [],
   "source": [
    "## three quantum circuits\n",
    "def layer_with_HT(theta):\n",
    "    for i in range(num_of_qubits-1):\n",
    "        qml.CRY(theta[i], wires=(0,i+1))\n",
    "    for i in range(num_of_qubits-2):\n",
    "        qml.Toffoli(wires=(0,i+1,i+2))\n",
    "\n",
    "        \n",
    "def layer_no_HT(theta, qubit_posi):\n",
    "    for i in range(num_of_qubits-1):\n",
    "        qml.RY(theta[i], wires=(qubit_posi[i]))\n",
    "    for i in range(num_of_qubits-2):\n",
    "        qml.CNOT(wires=(qubit_posi[i],qubit_posi[i+1]))\n",
    "\n"
   ]
  },
  {
   "cell_type": "code",
   "execution_count": 4,
   "id": "72699250-0bba-418b-bd1c-df10c8f42c74",
   "metadata": {
    "scrolled": true
   },
   "outputs": [],
   "source": [
    "device_name = 'default.qubit'  #'default.qubit' # \n",
    "device_name2 = 'default.qubit' # has qml.state()"
   ]
  },
  {
   "cell_type": "code",
   "execution_count": 5,
   "id": "32b18c8d-2bee-41f1-bf9a-16a0e32ecb12",
   "metadata": {
    "scrolled": true
   },
   "outputs": [
    {
     "name": "stdout",
     "output_type": "stream",
     "text": [
      "0: ─╭QubitStateVector(M0)──H─╭●────────╭●────────╭●────────╭●─╭●──H─┤  <Z>\n",
      "1: ─├QubitStateVector(M0)────╰RY(0.10)─│─────────│─────────├●─│─────┤     \n",
      "2: ─├QubitStateVector(M0)──────────────╰RY(0.10)─│─────────╰X─├●────┤     \n",
      "3: ─╰QubitStateVector(M0)────────────────────────╰RY(0.10)────╰X────┤     \n"
     ]
    }
   ],
   "source": [
    "\n",
    "        \n",
    "# dev_with_HT=qml.device(device_name2, wires=num_of_qubits+1) #AerDevice(wires=num_of_qubits, shots=20000, backend='qasm_simulator')\n",
    "dev_with_HT=qml.device(device_name, wires=num_of_qubits)\n",
    "@qml.qnode(dev_with_HT)\n",
    "def quantum_circuit_with_HT(theta):\n",
    "    # initiate state vector |phi_1>\n",
    "    qml.QubitStateVector(np.array(initial_state_0_phi1), wires=range(num_of_qubits))\n",
    "#     qubit_position = list(range(1,num_of_qubits))\n",
    "#     initiate_state_0_phi1(qml, qubit_position, work_wires=num_of_qubits)\n",
    "    qml.Hadamard(0)\n",
    "    for theta_i in theta:\n",
    "        layer_with_HT(theta_i)\n",
    "    qml.Hadamard(0)    \n",
    "    return qml.expval(qml.PauliZ(0)) \n",
    "    # return qml.sample(qml.PauliZ(0)), qml.sample(qml.PauliZ(1))\n",
    "print(qml.draw(quantum_circuit_with_HT)([[0.1]*(num_of_qubits-1)]))\n",
    "# print(quantum_circuit_with_HT([[0.1]*(num_of_qubits-1)]))\n",
    "\n",
    "\n"
   ]
  },
  {
   "cell_type": "code",
   "execution_count": 6,
   "id": "3940859b-a89e-41d1-860d-c0a3aa7f7947",
   "metadata": {},
   "outputs": [
    {
     "name": "stdout",
     "output_type": "stream",
     "text": [
      "newly added\n",
      "0: ─╭QubitStateVector(M0)──H─╭●────────╭●────────╭●────────╭●─╭●─╭●──H─┤  <Z>\n",
      "1: ─├QubitStateVector(M0)────╰RY(0.10)─│─────────│─────────├●─│──╰Z────┤     \n",
      "2: ─├QubitStateVector(M0)──────────────╰RY(0.10)─│─────────╰X─├●───────┤     \n",
      "3: ─╰QubitStateVector(M0)────────────────────────╰RY(0.10)────╰X───────┤     \n",
      "newly added 2\n",
      "0: ─╭QubitStateVector(M0)──RY(0.20)─╭●────┤  <Z>\n",
      "1: ─├QubitStateVector(M0)──RY(0.20)─╰X─╭●─┤     \n",
      "2: ─╰QubitStateVector(M0)──RY(0.20)────╰X─┤     \n",
      "newly added 3\n"
     ]
    }
   ],
   "source": [
    "\n",
    "# dev_with_HTZ=qml.device(device_name2, wires=num_of_qubits+1) #AerDevice(wires=num_of_qubits, shots=20000, backend='qasm_simulator')\n",
    "dev_with_HTZ=qml.device(device_name, wires=num_of_qubits)\n",
    "@qml.qnode(dev_with_HTZ)\n",
    "def quantum_circuit_with_HTZ(theta):\n",
    "    # initiate state vector |phi_1>\n",
    "    qml.QubitStateVector(np.array(initial_state_0_phi1), wires=range(num_of_qubits))\n",
    "#     qubit_position = list(range(1,num_of_qubits))\n",
    "#     initiate_state_0_phi1(qml, qubit_position, work_wires=num_of_qubits)\n",
    "    qml.Hadamard(0)\n",
    "    for theta_i in theta:\n",
    "        layer_with_HT(theta_i)\n",
    "    qml.CZ([0,1])\n",
    "    qml.Hadamard(0)    \n",
    "    return qml.expval(qml.PauliZ(0)) \n",
    "    # return qml.sample(qml.PauliZ(0)), qml.sample(qml.PauliZ(1))\n",
    "print('newly added')\n",
    "print(qml.draw(quantum_circuit_with_HTZ)([[0.1]*(num_of_qubits-1)]))\n",
    "# print(quantum_circuit_with_HTZ([[0.1]*(num_of_qubits-1)]))\n",
    "\n",
    "\n",
    "\n",
    "# dev_no_HT_Z=qml.device(device_name2, wires=num_of_qubits+1) #AerDevice(wires=num_of_qubits-1, shots=20000, backend='qasm_simulator')\n",
    "dev_no_HT_Z=qml.device(device_name, wires=num_of_qubits-1)        \n",
    "@qml.qnode(dev_no_HT_Z)\n",
    "def quantum_circuit_no_HT_return_Z(theta):\n",
    "    # initiate state vector |phi_1>\n",
    "    qml.QubitStateVector(np.array(initial_state_phi1), wires=range(num_of_qubits-1))\n",
    "#     qubit_position = list(range(num_of_qubits-1))\n",
    "#     initiate_state_0_phi1(qml, qubit_position, work_wires=num_of_qubits-1)\n",
    "    for theta_i in theta:\n",
    "        layer_no_HT(theta_i, list(range(num_of_qubits-1)))\n",
    "    \n",
    "    return qml.expval(qml.PauliZ(0))  \n",
    "    # return qml.sample(qml.PauliZ(0)) \n",
    "print('newly added 2')   \n",
    "print(qml.draw(quantum_circuit_no_HT_return_Z)([[0.2]*(num_of_qubits-1)]))\n",
    "# print(quantum_circuit_with_HT([[0.2]*(num_of_qubits-1)]))\n",
    "\n",
    "\n",
    "# dev_no_HT_S=qml.device(device_name2, wires=num_of_qubits+1) #AerDevice(wires=num_of_qubits-1, backend='qasm_simulator')\n",
    "dev_no_HT_S=qml.device(device_name2, wires=num_of_qubits-1)  \n",
    "@qml.qnode(dev_no_HT_S)\n",
    "def quantum_circuit_no_HT_return_state(theta):\n",
    "    # initiate state vector |phi_1>\n",
    "    qml.QubitStateVector(np.array(initial_state_phi1), wires=range(num_of_qubits-1))\n",
    "#     qubit_position = list(range(num_of_qubits-1))\n",
    "#     initiate_state_0_phi1(qml, qubit_position, work_wires=num_of_qubits-1)\n",
    "    for theta_i in theta:\n",
    "        layer_no_HT(theta_i, list(range(num_of_qubits-1)))    \n",
    "    return qml.state()\n",
    "\n",
    "print('newly added 3')"
   ]
  },
  {
   "cell_type": "code",
   "execution_count": 7,
   "id": "f9598e90-97f3-4ef9-b65f-1d90b625d9ad",
   "metadata": {
    "scrolled": true
   },
   "outputs": [],
   "source": [
    "# coef2 = 1\n",
    "# def objective_fn(theta):\n",
    "#     val1_1 = quantum_circuit_with_HT(theta)\n",
    "#     val1_2 = quantum_circuit_with_HTZ(theta)\n",
    "#     val2 = quantum_circuit_no_HT_return_Z(theta)\n",
    "#     return coef2*val2-0.5*(val1_1 - val1_2)"
   ]
  },
  {
   "cell_type": "code",
   "execution_count": 8,
   "id": "5dd5bc3e-e32c-44c9-ba2f-00755e87dba6",
   "metadata": {
    "scrolled": true
   },
   "outputs": [
    {
     "name": "stdout",
     "output_type": "stream",
     "text": [
      "\n",
      "\n",
      "rep=1\n",
      "iter=  1 :: obj= -0.00989828 :: val1_1=  0.41404937                  :: val1_2=  0.37618980 :: val2=  0.23946681                   coef2*val2-0.5*(val1_1 - val1_2)=  0.22053703                   :: theta=[[3.90537033 1.34868762 1.55630995]\n",
      " [2.89190098 0.19381087 2.11840135]\n",
      " [4.42461288 2.1652948  5.67769758]]\n",
      "iter= 40 :: obj= -0.10895325 :: val1_1=  0.09051358                  :: val1_2= -0.12741994 :: val2= -0.95783649                   coef2*val2-0.5*(val1_1 - val1_2)= -1.06680325                   :: theta=[[ 3.46384964  2.3604931   2.08079111]\n",
      " [ 2.97636391 -0.78192656  0.98230536]\n",
      " [ 2.98553578  2.76328162  6.57800322]]\n",
      "iter= 80 :: obj= -0.10963231 :: val1_1=  0.06000516                  :: val1_2= -0.15927156 :: val2= -0.97144722                   coef2*val2-0.5*(val1_1 - val1_2)= -1.08108558                   :: theta=[[ 3.27319865  2.24984519  1.92779885]\n",
      " [ 2.99718678 -0.76282049  0.97749469]\n",
      " [ 3.1413783   2.84548487  6.63130836]]\n",
      "iter=120 :: obj= -0.10980174 :: val1_1=  0.07477862                  :: val1_2= -0.14483236 :: val2= -0.97740597                   coef2*val2-0.5*(val1_1 - val1_2)= -1.08721146                   :: theta=[[ 3.12814426  2.22616009  1.92593287]\n",
      " [ 3.12789263 -0.77632039  0.97090119]\n",
      " [ 3.19948474  2.84576465  6.63865583]]\n",
      "iter=160 :: obj= -0.11001346 :: val1_1=  0.07573879                  :: val1_2= -0.14430328 :: val2= -0.98520915                   coef2*val2-0.5*(val1_1 - val1_2)= -1.09523019                   :: theta=[[ 2.95546913  2.24878204  2.01209272]\n",
      " [ 3.25299237 -0.74543572  0.94656407]\n",
      " [ 3.31477452  2.78889967  6.57960544]]\n",
      "iter=200 :: obj= -0.11035562 :: val1_1=  0.09090616                  :: val1_2= -0.12981779 :: val2= -0.99750312                   coef2*val2-0.5*(val1_1 - val1_2)= -1.10786510                   :: theta=[[ 2.7571188   2.33251373  2.18870676]\n",
      " [ 3.39016986 -0.65856971  0.90106383]\n",
      " [ 3.46935123  2.68875904  6.4552136 ]]\n",
      "iter=240 :: obj= -0.11043130 :: val1_1=  0.11179501                  :: val1_2= -0.10906752 :: val2= -0.99999056                   coef2*val2-0.5*(val1_1 - val1_2)= -1.11042182                   :: theta=[[ 2.67085435  2.39163797  2.2846096 ]\n",
      " [ 3.4551564  -0.60720605  0.87274543]\n",
      " [ 3.54455992  2.64550367  6.38776553]]\n",
      "iter=280 :: obj= -0.11043153 :: val1_1=  0.11042643                  :: val1_2= -0.11043663 :: val2= -0.99999999                   coef2*val2-0.5*(val1_1 - val1_2)= -1.11043152                   :: theta=[[ 2.67501971  2.38797884  2.27965412]\n",
      " [ 3.45190204 -0.61022646  0.87435893]\n",
      " [ 3.54068049  2.64729801  6.3913131 ]]\n",
      "iter=300 :: obj= -0.11043153 :: val1_1=  0.11031643                  :: val1_2= -0.11054663 :: val2= -0.99999992                   coef2*val2-0.5*(val1_1 - val1_2)= -1.11043145                   :: theta=[[ 2.67535909  2.38769273  2.27925097]\n",
      " [ 3.45163231 -0.61046186  0.87448914]\n",
      " [ 3.54037002  2.64744943  6.39159873]]\n",
      "obj_list(last 3)=[-0.11043152721825461, -0.11043152733943917, -0.11043152747628873]\n",
      "prb=[(1.3411476256140104e-08+0j), (1.5885234283917036e-10+0j), (6.54675388070643e-10+0j), (2.0022852333773878e-08+0j), (1.636984434365142e-10+0j), (0.9999999569742302+0j), (1.9097721074830778e-10+0j), (9.12331061122362e-14+0j)]\n",
      "[(1.3411476256140104e-08+0j), (1.5885234283917036e-10+0j), (6.54675388070643e-10+0j), (2.0022852333773878e-08+0j), (1.636984434365142e-10+0j), (0.9999999569742302+0j), (1.9097721074830778e-10+0j), (9.12331061122362e-14+0j)]\n",
      "time consumed: 43.326302s\n"
     ]
    }
   ],
   "source": [
    "max_repeat = 1 #100\n",
    "iter_max = 300  #300\n",
    "num_of_layers = 3\n",
    "prb_last_list = []\n",
    "obj_list_rep = []\n",
    "theta_list = []\n",
    "\n",
    "test_prb=[]\n",
    "\n",
    "\n",
    "debug_flag, print_flag = 0, True\n",
    "start_time = datetime.datetime.now()\n",
    "for rep in range(1,max_repeat+1):\n",
    "    if print_flag:\n",
    "        print(f'\\n\\nrep={rep}')\n",
    "    else:\n",
    "        print(f'\\n\\nrep={rep}', end='  ')\n",
    "    \n",
    "    optimizer = AdamOptimizer(0.05, beta1=0.9, beta2=0.999)\n",
    "    theta=qml_np.random.uniform(0, 2*math.pi, size=(num_of_layers, num_of_qubits-1), requires_grad=True)\n",
    "    obj_list = []\n",
    "    for iter in range(1, iter_max+1):    \n",
    "        theta, obj = optimizer.step_and_cost(objective_fn, theta)\n",
    "        val1_1 = quantum_circuit_with_HT(theta)\n",
    "        val1_2 = quantum_circuit_with_HTZ(theta)\n",
    "        val2 = quantum_circuit_no_HT_return_Z(theta)\n",
    "        if (iter==1 or iter%40==0 or iter==iter_max) and print_flag:\n",
    "            print(f'iter={iter:3d} :: obj={obj:12.8f} :: val1_1={val1_1:12.8f} \\\n",
    "                 :: val1_2={val1_2:12.8f} :: val2={val2:12.8f}  \\\n",
    "                 coef2*val2-0.5*(val1_1 - val1_2)={coef2*val2-0.5*(val1_1 - val1_2):12.8f}  \\\n",
    "                 :: theta={theta}')\n",
    "            # print(f'iter={iter:3d} :: obj={obj:12.8f} :: theta={theta}')\n",
    "        obj_list.append(obj)\n",
    "    theta_list.append(theta)\n",
    "    print(f'obj_list(last 3)={obj_list[-3:]}')\n",
    "    obj_list_rep.append(obj_list)\n",
    "    \n",
    "    ## display the amplified state\n",
    "    state = quantum_circuit_no_HT_return_state(theta)\n",
    "    prb = [i.item()**2 for i in state]\n",
    "    \n",
    "    test_prb = prb\n",
    "    \n",
    "    # print(f'state={state}')\n",
    "    if len(prb)>20:\n",
    "        print(f'prb(last 3)={prb[-3:]}')\n",
    "        print(f'prb(last 3)={prb[-1]}')\n",
    "    else: print(f'prb={prb}')\n",
    "    prb_last_list.append(prb[-3])\n",
    "    \n",
    "    \n",
    "print(test_prb)\n",
    "\n",
    "end_time = datetime.datetime.now()\n",
    "duration = end_time - start_time\n",
    "duration_in_s = duration.total_seconds()\n",
    "print(f'time consumed: {duration_in_s}s')"
   ]
  },
  {
   "cell_type": "code",
   "execution_count": 9,
   "id": "307ea4de-2c59-4550-9fe8-b78bcabc31d6",
   "metadata": {},
   "outputs": [
    {
     "name": "stdout",
     "output_type": "stream",
     "text": [
      "time now:  2023-03-13 20:50:11.475676\n"
     ]
    }
   ],
   "source": [
    "print('time now: ', end_time)"
   ]
  },
  {
   "cell_type": "code",
   "execution_count": null,
   "id": "29462e42-9709-4439-bb6d-f7e464130158",
   "metadata": {},
   "outputs": [],
   "source": []
  },
  {
   "cell_type": "code",
   "execution_count": null,
   "id": "29bf975d-c0a3-45df-8fb6-12c23543f860",
   "metadata": {},
   "outputs": [],
   "source": []
  }
 ],
 "metadata": {
  "kernelspec": {
   "display_name": "Python 3",
   "language": "python",
   "name": "python3"
  },
  "language_info": {
   "codemirror_mode": {
    "name": "ipython",
    "version": 3
   },
   "file_extension": ".py",
   "mimetype": "text/x-python",
   "name": "python",
   "nbconvert_exporter": "python",
   "pygments_lexer": "ipython3",
   "version": "3.7.6"
  }
 },
 "nbformat": 4,
 "nbformat_minor": 5
}

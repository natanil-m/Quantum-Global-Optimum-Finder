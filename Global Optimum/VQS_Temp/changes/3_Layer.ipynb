{
 "cells": [
  {
   "cell_type": "markdown",
   "id": "51563e4e-9c2d-4490-a30e-2361285fb8de",
   "metadata": {},
   "source": [
    "# use another position\n",
    "- initial_state2, 2nd last is flipped\n",
    "- has 2 circuits instead of 3 circuits.  11/16/2022\n",
    "- integrate early termination if obj does not change for 5 iterations.\n",
    "- use structure3: replace CZ in struct2 by CNOT here"
   ]
  },
  {
   "cell_type": "code",
   "execution_count": 27,
   "id": "244f3c91",
   "metadata": {
    "scrolled": true
   },
   "outputs": [],
   "source": [
    "# !pip install pennylane\n",
    "# !pip install pennylane-qiskit"
   ]
  },
  {
   "cell_type": "code",
   "execution_count": 28,
   "id": "c9a9a96f-1ffe-4a1e-bf0e-b163cd430420",
   "metadata": {},
   "outputs": [],
   "source": [
    "# !pip install pennylane-lightning"
   ]
  },
  {
   "cell_type": "code",
   "execution_count": 29,
   "id": "5ec26cd5-2c29-4d16-afce-c0e7e39ef22a",
   "metadata": {},
   "outputs": [],
   "source": [
    "# !pip install pennylane-lightning[gpu]  # has erro"
   ]
  },
  {
   "cell_type": "code",
   "execution_count": 30,
   "id": "9e736988",
   "metadata": {
    "scrolled": true
   },
   "outputs": [],
   "source": [
    "import numpy as np\n",
    "from pennylane.optimize import AdamOptimizer\n",
    "from pennylane import numpy as qml_np\n",
    "import pennylane as qml\n",
    "\n",
    "import math\n",
    "import matplotlib.pyplot as plt\n",
    "import datetime"
   ]
  },
  {
   "cell_type": "markdown",
   "id": "c9d24f20-1107-49de-894c-a8542fd49480",
   "metadata": {},
   "source": [
    "# 2nd last flipped"
   ]
  },
  {
   "cell_type": "code",
   "execution_count": 31,
   "id": "9415dd44",
   "metadata": {
    "scrolled": true
   },
   "outputs": [
    {
     "name": "stdout",
     "output_type": "stream",
     "text": [
      "initial_state_phi1=[0.5855400437691198, 0.7807200583588265, 0.19518001458970663, 0.09759000729485331, 0.0, 0.0, 0.0, 0.0, 0.0, 0.0, 0.0, 0.0, 0.0, 0.0, 0.0, 0.0]\n"
     ]
    }
   ],
   "source": [
    "num_of_qubits = 1+4\n",
    "eps_val_q = 1/math.sqrt(2**num_of_qubits)/100\n",
    "eps_val = min(1e-10, eps_val_q)\n",
    "tiny_change_threshold = 1e-4\n",
    "cnt_threshold_no_change = 5\n",
    "\n",
    "N = 2**(num_of_qubits-2)\n",
    "normal_val = math.sqrt(1/N)\n",
    "# initial_state_phi1 = [math.sqrt(1/N)]*(N-1) + [0]*N + [math.sqrt(1/N)] # 2**(num_of_qubits-1)\n",
    "# initial_state_phi1 = [.5,.5,.5, 0,   0, 0, 0, .5,  ] # 2**(num_of_qubits-1)\n",
    "\n",
    "# initial_state2 = [1/math.sqrt(N)]*(N-2) + [0, 1/math.sqrt(N)] + [0]*(N-2) + [1/math.sqrt(N), 0] # 2**(num_qubits-1)\n",
    "# start_state = np.array([0.6, 0.3, 0.0, 0.1, 0.0, 0.0, 0.5, 0.5])\n",
    "start_state = np.array([0.6, 0.8, 0.2, 0.1, 0.0, 0.0,0.0,0.0,0.0,0.0,0.0,0.0,0.0,0.0, 0.0, 0.0])\n",
    "start_state = start_state/np.linalg.norm(start_state)\n",
    "initial_state2 = start_state.tolist()\n",
    "\n",
    "initial_state_phi1 = initial_state2\n",
    "print(f'initial_state_phi1={initial_state_phi1}')\n",
    "# print(f'initial_state_phi1={initial_state_phi1[-5:]}')\n",
    "initial_state_0_phi1  = initial_state_phi1 + [0]*len(initial_state_phi1) # 2**num_of_qubits\n",
    "\n",
    "\n",
    "# print(f'initial_state3={initial_state3}')\n",
    "# initial_state  = initial_state3 + [0]*len(initial_state3) # 2**num_qubits"
   ]
  },
  {
   "cell_type": "code",
   "execution_count": 32,
   "id": "065b4ac5-7bef-40e7-a391-09c87fa7659e",
   "metadata": {},
   "outputs": [
    {
     "name": "stdout",
     "output_type": "stream",
     "text": [
      "[1 4 7]\n",
      "[ 1.  4.  7. 10.]\n",
      "[0, 1, 2, 3, 4, 5, 6, 7, 8, 9]\n"
     ]
    }
   ],
   "source": [
    "print(np.arange(1,10, 3))\n",
    "print(np.linspace(1,10, 4))\n",
    "print(list(range(10)))"
   ]
  },
  {
   "cell_type": "code",
   "execution_count": 33,
   "id": "9ca17f40-212c-4bea-abfd-ab7e54220d09",
   "metadata": {
    "scrolled": true
   },
   "outputs": [],
   "source": [
    "device_name = 'default.qubit'  #'default.qubit' # \n",
    "device_name2 = 'default.qubit' # has qml.state()"
   ]
  },
  {
   "cell_type": "code",
   "execution_count": 34,
   "id": "1bae71f0-e8ee-4384-b258-a645c220fd0d",
   "metadata": {
    "tags": []
   },
   "outputs": [],
   "source": [
    "\n",
    "\n",
    "def layer_t3_no_HT(theta, qubit_posi):\n",
    "    # type-2 layer\n",
    "    # length of theta: (num_of_qubits-1)*2\n",
    "    # length of qubit_posi: num_of_qubits-1\n",
    "    # number of wires: num_of_qubits\n",
    "    for i in range(num_of_qubits-1):\n",
    "        qml.RY(theta[i], wires=(qubit_posi[i]))    \n",
    "    for i in np.arange(0, num_of_qubits-2, 2):\n",
    "#         qml.ctrl(qml.PauliZ(qubit_posi[i+1]), qubit_posi[i]) # CZ struct2\n",
    "        qml.CNOT(wires=(qubit_posi[i],qubit_posi[i+1])) # CNOT struct3\n",
    "    for i in range(num_of_qubits-1):\n",
    "        qml.RY(theta[i+num_of_qubits-1], wires=(qubit_posi[i]))\n",
    "    for i in np.arange(1, num_of_qubits-2, 2):\n",
    "#         qml.ctrl(qml.PauliZ(qubit_posi[i+1]), qubit_posi[i]) # CZ struct2\n",
    "        qml.CNOT(wires=(qubit_posi[i],qubit_posi[i+1])) # CNOT struct3\n",
    "#     qml.ctrl(qml.PauliZ(qubit_posi[0]), qubit_posi[-1]) # CZ struct2\n",
    "    qml.CNOT(wires=(qubit_posi[-1],qubit_posi[0])) # CNOT struct3\n",
    "        \n",
    "def layer_t3_with_HT(theta, num_of_qubits):\n",
    "    # type-2 layer\n",
    "    # length of theta: (num_of_qubits-1)*2\n",
    "    # number of wires: num_of_qubits\n",
    "    for i in range(num_of_qubits-1):\n",
    "        qml.CRY(theta[i], wires=(0, i+1))    \n",
    "    for i in np.arange(0, num_of_qubits-2, 2):\n",
    "#         qml.ctrl(qml.PauliZ(i+2), (0, i+1)) # CZ struct2\n",
    "        qml.Toffoli(wires=(0,i+1,i+2)) # CCNOT struct3\n",
    "        \n",
    "    for i in range(num_of_qubits-1):\n",
    "        qml.CRY(theta[i+num_of_qubits-1], wires=(0, i+1))\n",
    "    for i in np.arange(1, num_of_qubits-2, 2):\n",
    "#         qml.ctrl(qml.PauliZ(i+2), (0, i+1)) # CZ struct2\n",
    "        qml.Toffoli(wires=(0,i+1,i+2)) # CCNOT struct3\n",
    "#     qml.ctrl(qml.PauliZ(1), (0, num_of_qubits-1)) # CZ struct2\n",
    "    qml.Toffoli(wires=(0,num_of_qubits-1, 1)) # CCNOT struct3\n",
    "    \n",
    "test_flag = False  # True # False\n",
    "if test_flag:\n",
    "    for num_of_qubits in [10, 11]:   # 10 or 11 for the test below\n",
    "        print('num_of_qubits=', num_of_qubits)\n",
    "        dev_with_HT=qml.device(device_name, wires=num_of_qubits)\n",
    "        @qml.qnode(dev_with_HT)\n",
    "        def quantum_circuit_test3(theta):\n",
    "            qubit_posi = list(range(math.floor(len(theta)/2)))\n",
    "            layer_t3_no_HT(theta, qubit_posi)\n",
    "            # length of theta: (num_of_qubits-1)*2\n",
    "            # number of wires: num_of_qubits\n",
    "            return qml.expval(qml.PauliZ(0))\n",
    "\n",
    "        dev_with_HT=qml.device(device_name, wires=num_of_qubits)\n",
    "        @qml.qnode(dev_with_HT)\n",
    "        def quantum_circuit_test4(theta):\n",
    "            qubit_posi = list(range(math.floor(len(theta)/2)))\n",
    "            layer_t3_with_HT(theta, num_of_qubits)\n",
    "            # length of theta: (num_of_qubits-1)*2\n",
    "            # number of wires: num_of_qubits\n",
    "            return qml.expval(qml.PauliZ(0))\n",
    "\n",
    "        if num_of_qubits == 10:\n",
    "            theta = [1,2,3,4,5,6,7,8,9,  1.1,2.1,3.1,4.1,5.1,6.1,7.1,8.1,9.1]\n",
    "            test1_val = quantum_circuit_test3(theta)\n",
    "            print(qml.draw(quantum_circuit_test3)(theta))\n",
    "            print('test3_val=', test1_val)\n",
    "\n",
    "            theta = [1,2,3,4,5,6,7,8,9,  1.1,2.1,3.1,4.1,5.1,6.1,7.1,8.1,9.1]\n",
    "            test1_val = quantum_circuit_test4(theta)\n",
    "            print(qml.draw(quantum_circuit_test4)(theta))\n",
    "            print('test4_val=', test1_val)\n",
    "\n",
    "        if num_of_qubits == 11:\n",
    "            theta = [1,2,3,4,5,6,7,8,9,10,  1.1,2.1,3.1,4.1,5.1,6.1,7.1,8.1,9.1,10.1]\n",
    "            test1_val = quantum_circuit_test3(theta)\n",
    "            print(qml.draw(quantum_circuit_test3)(theta))\n",
    "            print('test3_val=', test1_val)\n",
    "\n",
    "            theta = [1,2,3,4,5,6,7,8,9,10,  1.1,2.1,3.1,4.1,5.1,6.1,7.1,8.1,9.1,10.1]\n",
    "            test1_val = quantum_circuit_test4(theta)\n",
    "            print(qml.draw(quantum_circuit_test4)(theta))\n",
    "            print('test4_val=', test1_val)\n"
   ]
  },
  {
   "cell_type": "code",
   "execution_count": 35,
   "id": "9d027bd2",
   "metadata": {
    "scrolled": true
   },
   "outputs": [
    {
     "name": "stdout",
     "output_type": "stream",
     "text": [
      "0: ─╭QubitStateVector(M0)──H─╭●────────╭●────────╭●────────╭●────────╭●─╭●─╭●────────╭●───────\n",
      "1: ─├QubitStateVector(M0)────╰RY(0.10)─│─────────│─────────│─────────├●─│──╰RY(0.10)─│────────\n",
      "2: ─├QubitStateVector(M0)──────────────╰RY(0.10)─│─────────│─────────╰X─│────────────╰RY(0.10)\n",
      "3: ─├QubitStateVector(M0)────────────────────────╰RY(0.10)─│────────────├●────────────────────\n",
      "4: ─╰QubitStateVector(M0)──────────────────────────────────╰RY(0.10)────╰X────────────────────\n",
      "\n",
      "──╭●────────╭●────────╭●─╭●──H─┤  <Z>\n",
      "──│─────────│─────────│──├X────┤     \n",
      "──│─────────│─────────├●─│─────┤     \n",
      "──╰RY(0.10)─│─────────╰X─│─────┤     \n",
      "────────────╰RY(0.10)────╰●────┤     \n"
     ]
    }
   ],
   "source": [
    "     \n",
    "# dev_with_HT=qml.device(device_name2, wires=num_of_qubits+1) #AerDevice(wires=num_of_qubits, shots=20000, backend='qasm_simulator')\n",
    "dev_with_HT=qml.device(device_name, wires=num_of_qubits)\n",
    "@qml.qnode(dev_with_HT)\n",
    "def quantum_circuit_with_HT(theta):\n",
    "    # initiate state vector |phi_1>\n",
    "    qml.QubitStateVector(np.array(initial_state_0_phi1), wires=range(num_of_qubits))\n",
    "#     qubit_position = list(range(1,num_of_qubits))\n",
    "#     initiate_state_0_phi1(qml, qubit_position, work_wires=num_of_qubits)\n",
    "    qml.Hadamard(0)\n",
    "    for theta_i in theta:\n",
    "        layer_t3_with_HT(theta_i, num_of_qubits)\n",
    "    qml.Hadamard(0)    \n",
    "    return qml.expval(qml.PauliZ(0)) \n",
    "    # return qml.sample(qml.PauliZ(0)), qml.sample(qml.PauliZ(1))\n",
    "print(qml.draw(quantum_circuit_with_HT)([[0.1]*2*(num_of_qubits-1)]))\n",
    "# print(quantum_circuit_with_HT([[0.1]*(num_of_qubits-1)]))\n",
    "\n",
    "\n"
   ]
  },
  {
   "cell_type": "code",
   "execution_count": 36,
   "id": "b019fe2d-39c1-4fc5-9549-322c0b563b90",
   "metadata": {
    "scrolled": true,
    "tags": []
   },
   "outputs": [
    {
     "name": "stdout",
     "output_type": "stream",
     "text": [
      "newly added\n",
      "0: ─╭QubitStateVector(M0)──H─╭●────────╭●────────╭●────────╭●────────╭●─╭●─╭●────────╭●───────\n",
      "1: ─├QubitStateVector(M0)────╰RY(0.10)─│─────────│─────────│─────────├●─│──╰RY(0.10)─│────────\n",
      "2: ─├QubitStateVector(M0)──────────────╰RY(0.10)─│─────────│─────────╰X─│────────────╰RY(0.10)\n",
      "3: ─├QubitStateVector(M0)────────────────────────╰RY(0.10)─│────────────├●────────────────────\n",
      "4: ─╰QubitStateVector(M0)──────────────────────────────────╰RY(0.10)────╰X────────────────────\n",
      "\n",
      "──╭●────────╭●────────╭●─╭●─╭●──H─┤  <Z>\n",
      "──│─────────│─────────│──├X─╰Z────┤     \n",
      "──│─────────│─────────├●─│────────┤     \n",
      "──╰RY(0.10)─│─────────╰X─│────────┤     \n",
      "────────────╰RY(0.10)────╰●───────┤     \n",
      "newly added 2\n",
      "0: ─╭QubitStateVector(M0)──RY(0.20)─╭●──RY(0.20)────╭X─┤  <Z>\n",
      "1: ─├QubitStateVector(M0)──RY(0.20)─╰X──RY(0.20)─╭●─│──┤     \n",
      "2: ─├QubitStateVector(M0)──RY(0.20)─╭●──RY(0.20)─╰X─│──┤     \n",
      "3: ─╰QubitStateVector(M0)──RY(0.20)─╰X──RY(0.20)────╰●─┤     \n",
      "newly added 3\n"
     ]
    }
   ],
   "source": [
    "\n",
    "# dev_with_HTZ=qml.device(device_name2, wires=num_of_qubits+1) #AerDevice(wires=num_of_qubits, shots=20000, backend='qasm_simulator')\n",
    "dev_with_HTZ=qml.device(device_name, wires=num_of_qubits)\n",
    "@qml.qnode(dev_with_HTZ)\n",
    "def quantum_circuit_with_HTZ(theta):\n",
    "    # initiate state vector |phi_1>\n",
    "    qml.QubitStateVector(np.array(initial_state_0_phi1), wires=range(num_of_qubits))\n",
    "#     qubit_position = list(range(1,num_of_qubits))\n",
    "#     initiate_state_0_phi1(qml, qubit_position, work_wires=num_of_qubits)\n",
    "    qml.Hadamard(0)\n",
    "    for theta_i in theta:\n",
    "        layer_t3_with_HT(theta_i, num_of_qubits)\n",
    "    qml.CZ([0,1])\n",
    "    qml.Hadamard(0)    \n",
    "    return qml.expval(qml.PauliZ(0)) \n",
    "    # return qml.sample(qml.PauliZ(0)), qml.sample(qml.PauliZ(1))\n",
    "print('newly added')\n",
    "print(qml.draw(quantum_circuit_with_HTZ)([[0.1]*2*(num_of_qubits-1)]))\n",
    "# print(quantum_circuit_with_HTZ([[0.1]*(num_of_qubits-1)]))\n",
    "\n",
    "\n",
    "\n",
    "# dev_no_HT_Z=qml.device(device_name2, wires=num_of_qubits+1) #AerDevice(wires=num_of_qubits-1, shots=20000, backend='qasm_simulator')\n",
    "dev_no_HT_Z=qml.device(device_name, wires=num_of_qubits-1)        \n",
    "@qml.qnode(dev_no_HT_Z)\n",
    "def quantum_circuit_no_HT_return_Z(theta):\n",
    "    # initiate state vector |phi_1>\n",
    "    qml.QubitStateVector(np.array(initial_state_phi1), wires=range(num_of_qubits-1))\n",
    "#     qubit_position = list(range(num_of_qubits-1))\n",
    "#     initiate_state_0_phi1(qml, qubit_position, work_wires=num_of_qubits-1)\n",
    "    for theta_i in theta:\n",
    "        layer_t3_no_HT(theta_i, list(range(num_of_qubits-1)))\n",
    "    \n",
    "    return qml.expval(qml.PauliZ(0))  \n",
    "    # return qml.sample(qml.PauliZ(0)) \n",
    "print('newly added 2')   \n",
    "print(qml.draw(quantum_circuit_no_HT_return_Z)([[0.2]*2*(num_of_qubits-1)]))\n",
    "# print(quantum_circuit_with_HT([[0.2]*(num_of_qubits-1)]))\n",
    "\n",
    "\n",
    "# dev_no_HT_S=qml.device(device_name2, wires=num_of_qubits+1) #AerDevice(wires=num_of_qubits-1, backend='qasm_simulator')\n",
    "dev_no_HT_S=qml.device(device_name2, wires=num_of_qubits-1)  \n",
    "@qml.qnode(dev_no_HT_S)\n",
    "def quantum_circuit_no_HT_return_state(theta):\n",
    "    # initiate state vector |phi_1>\n",
    "    qml.QubitStateVector(np.array(initial_state_phi1), wires=range(num_of_qubits-1))\n",
    "#     qubit_position = list(range(num_of_qubits-1))\n",
    "#     initiate_state_0_phi1(qml, qubit_position, work_wires=num_of_qubits-1)\n",
    "    for theta_i in theta:\n",
    "        layer_t3_no_HT(theta_i, list(range(num_of_qubits-1)))    \n",
    "    return qml.state()\n",
    "\n",
    "print('newly added 3')"
   ]
  },
  {
   "cell_type": "code",
   "execution_count": 37,
   "id": "67b13f54",
   "metadata": {
    "scrolled": true
   },
   "outputs": [],
   "source": [
    "\n",
    "val_global = []\n",
    "coef2 = 1\n",
    "def objective_fn(theta):\n",
    "    global val_global\n",
    "    val1_1 = quantum_circuit_with_HT(theta)\n",
    "    val1_2 = quantum_circuit_with_HTZ(theta)\n",
    "    val1_1 = val1_1/normal_val\n",
    "    val1_2 = val1_2/normal_val\n",
    "#     val2 = quantum_circuit_no_HT_return_Z(theta)\n",
    "#     return coef2*val2-0.5*(val1_1 - val1_2)\n",
    "    obj = -0.5*(val1_1 - val1_2)\n",
    "    val_global.append([val1_1._value.tolist(), val1_2._value.tolist(), obj._value.tolist()])\n",
    "    return obj\n"
   ]
  },
  {
   "cell_type": "markdown",
   "id": "04c9e0b8-b215-49ee-a818-24c5452d5560",
   "metadata": {},
   "source": [
    "## 3 layers"
   ]
  },
  {
   "cell_type": "code",
   "execution_count": 38,
   "id": "fa8a3c37",
   "metadata": {
    "scrolled": true,
    "tags": []
   },
   "outputs": [
    {
     "name": "stdout",
     "output_type": "stream",
     "text": [
      "\n",
      "\n",
      "rep=1\n",
      "iter=  1 :: obj= -0.00000000 :: val1_1= -0.70530389 :: val1_2= -0.70530389 :: -0.5*(val1_1 - val1_2)= -0.00000000\n",
      "iter= 50 :: obj= -0.00000000 :: val1_1= -0.70530389 :: val1_2= -0.70530389 :: -0.5*(val1_1 - val1_2)= -0.00000000\n",
      "iter=100 :: obj= -0.00000000 :: val1_1= -0.70530389 :: val1_2= -0.70530389 :: -0.5*(val1_1 - val1_2)= -0.00000000\n",
      "iter=150 :: obj= -0.00000000 :: val1_1= -0.70530389 :: val1_2= -0.70530389 :: -0.5*(val1_1 - val1_2)= -0.00000000\n",
      "iter=200 :: obj= -0.00000000 :: val1_1= -0.70530389 :: val1_2= -0.70530389 :: -0.5*(val1_1 - val1_2)= -0.00000000\n",
      "iter=250 :: obj= -0.00000000 :: val1_1= -0.70530389 :: val1_2= -0.70530389 :: -0.5*(val1_1 - val1_2)= -0.00000000\n",
      "iter=300 :: obj= -0.00000000 :: val1_1= -0.70530389 :: val1_2= -0.70530389 :: -0.5*(val1_1 - val1_2)= -0.00000000\n",
      "time consumed: 53.671675s, after for-iter\n",
      "prb=[(0.06931596068892416+0j), (0.012117933336619341+0j), (0.08317210184730373+0j), (0.23223986354906995+0j), (2.825025126149402e-05+0j), (0.027067945774146535+0j), (0.007145116760377822+0j), (0.019688430389476274+0j), (0.0764241531968711+0j), (0.000642998334875878+0j), (0.056547393236085264+0j), (0.025193612231799025+0j), (0.0008331755454971246+0j), (0.172223713785899+0j), (0.21027109963402663+0j), (0.007088251437767499+0j)]\n",
      "time consumed: 53.691261s\n"
     ]
    }
   ],
   "source": [
    "max_repeat = 1 #100\n",
    "iter_max = 300  #300\n",
    "num_of_layers = 3\n",
    "prb_last_list = []\n",
    "obj_list_rep = []\n",
    "theta_list = []\n",
    "iter_terminate_list = []\n",
    "debug_flag, print_flag = 0, True\n",
    "start_time = datetime.datetime.now()\n",
    "\n",
    "for rep in range(1,max_repeat+1):\n",
    "    if print_flag:\n",
    "        print(f'\\n\\nrep={rep}')\n",
    "    else:\n",
    "        print(f'\\n\\nrep={rep}', end='  ')\n",
    "    \n",
    "    optimizer = AdamOptimizer(0.05, beta1=0.9, beta2=0.999)\n",
    "    theta=qml_np.random.uniform(0, 2*math.pi, size=(num_of_layers, 2*(num_of_qubits-1)), requires_grad=True)\n",
    "    obj_list = []\n",
    "    tiny_change_cnt = 0\n",
    "    break_flag = False\n",
    "    iter_terminate=iter_max\n",
    "    for iter in range(1, iter_max+1):    \n",
    "        theta, obj = optimizer.step_and_cost(objective_fn, theta)\n",
    "#         val1_1 = quantum_circuit_with_HT(theta)\n",
    "#         val1_2 = quantum_circuit_with_HTZ(theta)\n",
    "#         val2 = quantum_circuit_no_HT_return_Z(theta)\n",
    "        val1_1 = val_global[-1][0]\n",
    "        val1_2 = val_global[-1][1]\n",
    "#         val2 = val_global[-1][2]\n",
    "        if iter>=2:\n",
    "            val1_1_old = val_global[-2][0]\n",
    "            val1_2_old = val_global[-2][1]\n",
    "            #val2_old = val_global[-2][2]\n",
    "        else:\n",
    "            val1_1_old = 999\n",
    "            val1_2_old = 999\n",
    "            #val2_old = 999\n",
    "        val1 = val1_1 - val1_2\n",
    "        val1_old = val1_1_old - val1_2_old\n",
    "        if abs(val1) > eps_val: # eps_val=1e-10\n",
    "            if abs( (val1-val1_old)/val1 ) < tiny_change_threshold: # 1e-3\n",
    "                tiny_change_cnt += 1\n",
    "            else:\n",
    "                tiny_change_cnt = 0\n",
    "        if tiny_change_cnt >= cnt_threshold_no_change: # no change for a consequtive of 5 iterations, then break\n",
    "            break_flag = True\n",
    "        if (iter==1 or iter%50==0 or iter==iter_max) and print_flag:\n",
    "            print(f'iter={iter:3d} :: obj={obj:12.8f} :: val1_1={val1_1:12.8f} :: val1_2={val1_2:12.8f} :: -0.5*(val1_1 - val1_2)={-0.5*(val1_1 - val1_2):12.8f}')\n",
    "            # print(f'iter={iter:3d} :: obj={obj:12.8f} :: val1_1={val1_1:12.8f} \\\n",
    "            #      :: val1_2={val1_2:12.8f} :: -0.5*(val1_1 - val1_2)={-0.5*(val1_1 - val1_2):12.8f}  \\\n",
    "            #      :: theta={theta}')\n",
    "\n",
    "        obj_list.append(obj)\n",
    "        if break_flag:\n",
    "            iter_terminate=iter\n",
    "            break\n",
    "    theta_list.append(theta)\n",
    "    # print(f'obj_list(last 3)={obj_list[-3:]}')\n",
    "    obj_list_rep.append(obj_list)\n",
    "    \n",
    "    end_time = datetime.datetime.now()\n",
    "    duration = end_time - start_time\n",
    "    duration_in_s = duration.total_seconds()\n",
    "    print(f'time consumed: {duration_in_s}s, after for-iter')\n",
    "    \n",
    "    # print('val_global=')\n",
    "    # print(val_global)\n",
    "    val_global = [] # reset to empty\n",
    "    \n",
    "    ## display the amplified state\n",
    "    state = quantum_circuit_no_HT_return_state(theta)\n",
    "    prb = [i.item()**2 for i in state]\n",
    "\n",
    "    # print(f'state={state}')\n",
    "    if len(prb)>20:\n",
    "        print(f'prb(last 2)={prb[-2:]}')\n",
    "    else: print(f'prb={prb}')\n",
    "    iter_terminate_list.append(iter_terminate)\n",
    "    prb_last_list.append(prb[-2])\n",
    "# print('theta_list=', theta_list)\n",
    "# print('iter_terminate_list=', iter_terminate_list)\n",
    "# print('prb_last_list=', prb_last_list)\n",
    "end_time = datetime.datetime.now()\n",
    "duration = end_time - start_time\n",
    "duration_in_s = duration.total_seconds()\n",
    "print(f'time consumed: {duration_in_s}s')"
   ]
  },
  {
   "cell_type": "code",
   "execution_count": 39,
   "id": "e7c25ef7-bf2e-42e6-8fb1-6baaa8214347",
   "metadata": {
    "scrolled": true,
    "tags": []
   },
   "outputs": [
    {
     "name": "stdout",
     "output_type": "stream",
     "text": [
      "time now:  2023-04-17 19:36:09.214672\n",
      "prb_last_list =  [(0.21027109963402663+0j)]\n",
      "iter_terminate_list= [300]\n"
     ]
    }
   ],
   "source": [
    "print('time now: ', end_time)\n",
    "print('prb_last_list = ',prb_last_list)\n",
    "# print('theta_list=', theta_list)\n",
    "print('iter_terminate_list=', iter_terminate_list)\n"
   ]
  },
  {
   "cell_type": "code",
   "execution_count": null,
   "id": "c276361a-a9f3-40a6-85c0-b74f4ab823f5",
   "metadata": {
    "scrolled": true,
    "tags": []
   },
   "outputs": [],
   "source": []
  }
 ],
 "metadata": {
  "kernelspec": {
   "display_name": "Python 3",
   "language": "python",
   "name": "python3"
  },
  "language_info": {
   "codemirror_mode": {
    "name": "ipython",
    "version": 3
   },
   "file_extension": ".py",
   "mimetype": "text/x-python",
   "name": "python",
   "nbconvert_exporter": "python",
   "pygments_lexer": "ipython3",
   "version": "3.9.7"
  }
 },
 "nbformat": 4,
 "nbformat_minor": 5
}

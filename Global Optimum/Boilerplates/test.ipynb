{
 "cells": [
  {
   "cell_type": "code",
   "execution_count": 12,
   "metadata": {},
   "outputs": [
    {
     "name": "stdout",
     "output_type": "stream",
     "text": [
      "{'0': 1024}\n",
      "       ┌───┐┌─────────┐┌─────┐┌─┐\n",
      "  q48: ┤ H ├┤ Unitary ├┤ QFT ├┤M├\n",
      "       └───┘└─────────┘└─────┘└╥┘\n",
      "  q49: ────────────────────────╫─\n",
      "                               ║ \n",
      "c10: 1/════════════════════════╩═\n",
      "                               0 \n"
     ]
    }
   ],
   "source": [
    "import numpy as np\n",
    "import inspect\n",
    "from qiskit import QuantumCircuit, QuantumRegister, ClassicalRegister, execute, Aer\n",
    "from qiskit.circuit.library import QFT\n",
    "\n",
    "def create_function_unitary(f, n):\n",
    "    \"\"\"Create a unitary matrix representing the function f\"\"\"\n",
    "    Uf = np.zeros((2**n, 2**n))\n",
    "    for x in range(2**n):\n",
    "        y = f(x)\n",
    "        Uf[x, y] = 1\n",
    "    return Uf\n",
    "\n",
    "def period_finding_circuit(f):\n",
    "    \"\"\"Create a quantum circuit to detect the period of a function f\"\"\"\n",
    "    # Determine the number of input bits required for f\n",
    "    n = len(inspect.signature(f).parameters)\n",
    "\n",
    "    # Create quantum registers\n",
    "    qr_input = QuantumRegister(n)\n",
    "    qr_output = QuantumRegister(n)\n",
    "    cr = ClassicalRegister(n)\n",
    "\n",
    "    # Create the circuit\n",
    "    qc = QuantumCircuit(qr_input, qr_output, cr)\n",
    "\n",
    "    # Apply Hadamard gates to the input register\n",
    "    qc.h(qr_input)\n",
    "\n",
    "    # Apply the function f as a unitary operator\n",
    "    Uf = create_function_unitary(f, n)\n",
    "    qc.unitary(Uf, qr_input)\n",
    "\n",
    "    # Apply the quantum Fourier transform to the input register\n",
    "    qc.append(QFT(n, inverse=False), qr_input)\n",
    "\n",
    "    # Measure the input register\n",
    "    qc.measure(qr_input, cr)\n",
    "\n",
    "    return qc\n",
    "\n",
    "# Example function to test\n",
    "def f(x):\n",
    "    return x \n",
    "\n",
    "# Create the circuit to detect the period of f\n",
    "qc = period_finding_circuit(f)\n",
    "\n",
    "# Simulate the circuit\n",
    "backend = Aer.get_backend('qasm_simulator')\n",
    "job = execute(qc, backend, shots=1024)\n",
    "counts = job.result().get_counts()\n",
    "\n",
    "print(counts)\n",
    "\n",
    "qc = period_finding_circuit(f)\n",
    "print(qc.draw())\n",
    "\n"
   ]
  }
 ],
 "metadata": {
  "kernelspec": {
   "display_name": "Python 3",
   "language": "python",
   "name": "python3"
  },
  "language_info": {
   "codemirror_mode": {
    "name": "ipython",
    "version": 3
   },
   "file_extension": ".py",
   "mimetype": "text/x-python",
   "name": "python",
   "nbconvert_exporter": "python",
   "pygments_lexer": "ipython3",
   "version": "3.7.6"
  },
  "orig_nbformat": 4
 },
 "nbformat": 4,
 "nbformat_minor": 2
}

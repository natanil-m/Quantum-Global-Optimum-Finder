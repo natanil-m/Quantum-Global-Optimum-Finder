{
 "cells": [
  {
   "cell_type": "code",
   "execution_count": 131,
   "metadata": {},
   "outputs": [],
   "source": [
    "import pennylane as qml\n",
    "import numpy as np\n",
    "import matplotlib.pyplot as plt\n"
   ]
  },
  {
   "cell_type": "code",
   "execution_count": 132,
   "metadata": {},
   "outputs": [],
   "source": [
    "import pennylane as qml\n",
    "from pennylane import numpy as np\n",
    "\n",
    "\n",
    "def add_k_fourier(k, wires):\n",
    "    for j in range(len(wires)):\n",
    "        qml.RZ(k * np.pi / (2**j), wires=wires[j])"
   ]
  },
  {
   "cell_type": "code",
   "execution_count": 133,
   "metadata": {},
   "outputs": [],
   "source": [
    "def add_k_sign(k, wires):\n",
    "    \n",
    "    #sign handling\n",
    "    k = int(np.binary_repr(k,len(wires)),2)\n",
    "    \n",
    "    qml.QFT(wires=wires)\n",
    "    for j in range(len(wires)):\n",
    "        qml.RZ(k * np.pi / (2**j), wires=wires[j])\n",
    "    qml.adjoint(qml.QFT)(wires=wires)\n",
    "    \n",
    "def add_k_sign_inverse(k, wires):\n",
    "    \n",
    "    #sign handling\n",
    "    k = int(np.binary_repr(k,len(wires)),2)\n",
    "    \n",
    "    qml.QFT(wires=wires)\n",
    "    for j in range(len(wires)):\n",
    "        new_j = len(wires)-1-j\n",
    "        qml.RZ(-1* k * np.pi / (2**new_j), wires=wires[new_j])\n",
    "    qml.adjoint(qml.QFT)(wires=wires)"
   ]
  },
  {
   "cell_type": "code",
   "execution_count": 134,
   "metadata": {},
   "outputs": [],
   "source": [
    "def multiplication(wires_m, wires_k, wires_solution):\n",
    "    # prepare sol-qubits to counting\n",
    "    qml.QFT(wires=wires_solution)\n",
    "\n",
    "    # add m to the counter\n",
    "    for i in range(len(wires_k)):\n",
    "        for j in range(len(wires_m)):\n",
    "            coeff = 2 ** (len(wires_m) + len(wires_k) - i - j - 2)\n",
    "            qml.ctrl(add_k_fourier, control=[wires_k[i], wires_m[j]])(coeff, wires_solution)\n",
    "\n",
    "    # return to computational basis\n",
    "    qml.adjoint(qml.QFT)(wires=wires_solution)\n",
    "    \n",
    "def multiplication_inverse(wires_m, wires_k, wires_solution):\n",
    "    # prepare sol-qubits to counting\n",
    "    qml.QFT(wires=wires_solution)\n",
    "\n",
    "    # add m to the counter\n",
    "    for i in range(len(wires_k)):\n",
    "        for j in range(len(wires_m)):\n",
    "            new_i = len(wires_k)-1-i\n",
    "            new_j = len(wires_m)-1-j\n",
    "            coeff = -1*2 ** (len(wires_m) + len(wires_k) - new_i - new_j - 2)\n",
    "            qml.ctrl(add_k_fourier, control=[wires_k[new_i], wires_m[new_j]])(coeff, wires_solution)\n",
    "\n",
    "    # return to computational basis\n",
    "    qml.adjoint(qml.QFT)(wires=wires_solution)"
   ]
  },
  {
   "cell_type": "code",
   "execution_count": 135,
   "metadata": {},
   "outputs": [],
   "source": [
    "wires_m = [0, 1, 2]           # qubits needed to encode m\n",
    "wires_k = [3, 4, 5]           # qubits needed to encode k\n",
    "wires_solution = [6, 7, 8, 9, 10,11,12,13]  # qubits needed to encode the solution\n",
    "\n",
    "dev = qml.device(\"default.qubit\", wires=wires_m + wires_k + wires_solution+[14], shots=1000)\n",
    "\n",
    "n_wires = len(dev.wires)\n"
   ]
  },
  {
   "cell_type": "code",
   "execution_count": 136,
   "metadata": {},
   "outputs": [],
   "source": [
    "@qml.qnode(dev)\n",
    "def circuit(m_k_a_t):\n",
    "    m, k,a,t = m_k_a_t\n",
    "    \n",
    "    # # m and k codification\n",
    "    # qml.BasisEmbedding(m, wires=wires_m)\n",
    "    # qml.BasisEmbedding(k, wires=wires_k)\n",
    "    \n",
    "    for i in wires_m+wires_k:\n",
    "        qml.Hadamard(wires=i)\n",
    "\n",
    "    \n",
    "\n",
    "    # Apply circuittiplication\n",
    "    multiplication(wires_m, wires_k, wires_solution)\n",
    "    add_k_sign(a,wires=wires_solution)\n",
    "    add_k_sign(t,wires=wires_solution)\n",
    "    \n",
    "    \n",
    "    # qml.PauliX(wires=6)\n",
    "    qml.ControlledPhaseShift(-np.pi,wires=[6,0])\n",
    "    qml.ControlledPhaseShift(-np.pi,wires=[6,1])\n",
    "    qml.ControlledPhaseShift(-np.pi,wires=[6,2])\n",
    "    qml.ControlledPhaseShift(-np.pi,wires=[6,3])\n",
    "    qml.ControlledPhaseShift(-np.pi,wires=[6,4])\n",
    "    qml.ControlledPhaseShift(-np.pi,wires=[6,5])\n",
    "    # qml.ControlledPhaseShift(-np.pi/2,wires=[6,1])\n",
    "    # qml.ControlledPhaseShift(-np.pi/4,wires=[6,2])\n",
    "    # qml.ControlledPhaseShift(-np.pi/8,wires=[6,3])\n",
    "    # qml.ControlledPhaseShift(-np.pi/10,wires=[6,4])\n",
    "    # qml.PauliX(wires=6)\n",
    "    \n",
    "    add_k_sign_inverse(t,wires=wires_solution)\n",
    "    add_k_sign_inverse(a,wires=wires_solution)\n",
    "    # Apply circuittiplication\n",
    "    multiplication_inverse(wires_m, wires_k, wires_solution)\n",
    "    \n",
    "    \n",
    "    for i in wires_m+wires_k:\n",
    "        qml.Hadamard(wires=i)\n",
    "    \n",
    "    \n",
    "    # return qml.probs(wires=wires_solution)\n",
    "    return qml.probs(wires=[0,1,2,3,4,5])\n",
    "input = (2,3,2,1)\n",
    "\n",
    "# res = circuit(input)\n",
    "\n",
    "# print(res)\n",
    "\n",
    "qml.draw_mpl(circuit, show_all_wires=True)(input)\n",
    "plt.show()"
   ]
  },
  {
   "cell_type": "code",
   "execution_count": null,
   "metadata": {},
   "outputs": [
    {
     "data": {
      "text/plain": [
       "[<matplotlib.lines.Line2D at 0x7fa18446ab10>]"
      ]
     },
     "execution_count": 130,
     "metadata": {},
     "output_type": "execute_result"
    },
    {
     "data": {
      "image/png": "[encoded data removed]",
      "text/plain": [
       "<Figure size 432x288 with 1 Axes>"
      ]
     },
     "metadata": {
      "needs_background": "light"
     },
     "output_type": "display_data"
    }
   ],
   "source": [
    "\n",
    "x=[i for i in range(-100,40)]\n",
    "y=[]\n",
    "for i in x:\n",
    "    # print('===')\n",
    "    # print(circuit((2,3,2,i)))\n",
    "    y.append(circuit((2,2,20,i))[0])\n",
    "\n",
    "# plot scatter plot with x and y data\n",
    "plt.scatter(x, y)\n",
    "  \n",
    "# plot with x and y data\n",
    "plt.plot(x, y)\n",
    "\n"
   ]
  }
 ],
 "metadata": {
  "kernelspec": {
   "display_name": "Python 3",
   "language": "python",
   "name": "python3"
  },
  "language_info": {
   "codemirror_mode": {
    "name": "ipython",
    "version": 3
   },
   "file_extension": ".py",
   "mimetype": "text/x-python",
   "name": "python",
   "nbconvert_exporter": "python",
   "pygments_lexer": "ipython3",
   "version": "3.7.6"
  },
  "orig_nbformat": 4
 },
 "nbformat": 4,
 "nbformat_minor": 2
}

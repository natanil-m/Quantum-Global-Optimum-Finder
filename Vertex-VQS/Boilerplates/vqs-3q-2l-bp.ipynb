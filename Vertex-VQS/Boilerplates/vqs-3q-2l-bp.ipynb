{
 "cells": [
  {
   "cell_type": "markdown",
   "id": "51563e4e-9c2d-4490-a30e-2361285fb8de",
   "metadata": {},
   "source": [
    "# use another position\n",
    "- initial_state2, 2nd last is flipped\n",
    "- has 2 circuits instead of 3 circuits.  11/16/2022"
   ]
  },
  {
   "cell_type": "code",
   "execution_count": 1,
   "id": "244f3c91",
   "metadata": {
    "scrolled": true
   },
   "outputs": [],
   "source": [
    "# !pip install pennylane\n",
    "# !pip install pennylane-qiskit"
   ]
  },
  {
   "cell_type": "code",
   "execution_count": 2,
   "id": "c9a9a96f-1ffe-4a1e-bf0e-b163cd430420",
   "metadata": {},
   "outputs": [],
   "source": [
    "# !pip install pennylane-lightning"
   ]
  },
  {
   "cell_type": "code",
   "execution_count": 3,
   "id": "5ec26cd5-2c29-4d16-afce-c0e7e39ef22a",
   "metadata": {},
   "outputs": [],
   "source": [
    "# !pip install pennylane-lightning[gpu]  # has erro"
   ]
  },
  {
   "cell_type": "code",
   "execution_count": 4,
   "id": "9e736988",
   "metadata": {
    "scrolled": true
   },
   "outputs": [],
   "source": [
    "import numpy as np\n",
    "from pennylane.optimize import AdamOptimizer\n",
    "from pennylane import numpy as qml_np\n",
    "import pennylane as qml\n",
    "\n",
    "import math\n",
    "import matplotlib.pyplot as plt\n",
    "import datetime"
   ]
  },
  {
   "cell_type": "markdown",
   "id": "c9d24f20-1107-49de-894c-a8542fd49480",
   "metadata": {},
   "source": [
    "# 2nd last flipped"
   ]
  },
  {
   "cell_type": "code",
   "execution_count": 5,
   "id": "9415dd44",
   "metadata": {
    "scrolled": true
   },
   "outputs": [
    {
     "name": "stdout",
     "output_type": "stream",
     "text": [
      "initial_state_phi1=[0.5, 0.5, 0, 0.5, 0, 0, 0.5, 0]\n"
     ]
    }
   ],
   "source": [
    "num_of_qubits = 1+3\n",
    "N = 2**(num_of_qubits-2)\n",
    "\n",
    "\n",
    "initial_state2 = [1/math.sqrt(N)]*(N-2) + [0, 1/math.sqrt(N)] + [0]*(N-2) + [1/math.sqrt(N), 0] # 2**(num_qubits-1)\n",
    "initial_state_phi1 = initial_state2\n",
    "print(f'initial_state_phi1={initial_state_phi1}')\n",
    "initial_state_0_phi1  = initial_state_phi1 + [0]*len(initial_state_phi1) # 2**num_of_qubits\n",
    "\n",
    "\n"
   ]
  },
  {
   "cell_type": "code",
   "execution_count": 6,
   "id": "3e1cbbaa",
   "metadata": {},
   "outputs": [
    {
     "data": {
      "image/png": "[encoded data removed]",
      "text/plain": [
       "<Figure size 432x288 with 1 Axes>"
      ]
     },
     "metadata": {
      "needs_background": "light"
     },
     "output_type": "display_data"
    }
   ],
   "source": [
    "x=[]\n",
    "y=[]\n",
    "results = initial_state_0_phi1\n",
    "for i in range(len(results)):\n",
    "    if(np.linalg.norm(results[i])>0.01):\n",
    "         x.append(np.binary_repr(i,3))\n",
    "         y.append(results[i])\n",
    "plt.bar(x,y);\n",
    "plt.xlabel('states');\n",
    "plt.ylabel('probability');\n",
    "# plt.xticks(rotation=90);\n",
    "plt.show()"
   ]
  },
  {
   "cell_type": "code",
   "execution_count": 7,
   "id": "1bae71f0-e8ee-4384-b258-a645c220fd0d",
   "metadata": {},
   "outputs": [],
   "source": [
    "## three quantum circuits\n",
    "def layer_with_HT(theta):\n",
    "    for i in range(num_of_qubits-1):\n",
    "        qml.CRY(theta[i], wires=(0,i+1))\n",
    "    for i in range(num_of_qubits-2):\n",
    "        qml.Toffoli(wires=(0,i+1,i+2))\n",
    "\n",
    "        \n",
    "def layer_no_HT(theta, qubit_posi):\n",
    "    for i in range(num_of_qubits-1):\n",
    "        qml.RY(theta[i], wires=(qubit_posi[i]))\n",
    "    for i in range(num_of_qubits-2):\n",
    "        qml.CNOT(wires=(qubit_posi[i],qubit_posi[i+1]))\n"
   ]
  },
  {
   "cell_type": "code",
   "execution_count": 8,
   "id": "a09991a7",
   "metadata": {
    "scrolled": true
   },
   "outputs": [],
   "source": [
    "device_name = 'default.qubit'  #'default.qubit' # \n",
    "device_name2 = 'default.qubit' # has qml.state()"
   ]
  },
  {
   "cell_type": "code",
   "execution_count": 9,
   "id": "9d027bd2",
   "metadata": {
    "scrolled": true
   },
   "outputs": [
    {
     "name": "stdout",
     "output_type": "stream",
     "text": [
      "0: ─╭QubitStateVector(M0)──H─╭●────────╭●────────╭●────────╭●─╭●──H─┤  <Z>\n",
      "1: ─├QubitStateVector(M0)────╰RY(0.10)─│─────────│─────────├●─│─────┤     \n",
      "2: ─├QubitStateVector(M0)──────────────╰RY(0.10)─│─────────╰X─├●────┤     \n",
      "3: ─╰QubitStateVector(M0)────────────────────────╰RY(0.10)────╰X────┤     \n"
     ]
    }
   ],
   "source": [
    "\n",
    "        \n",
    "# dev_with_HT=qml.device(device_name2, wires=num_of_qubits+1) #AerDevice(wires=num_of_qubits, shots=20000, backend='qasm_simulator')\n",
    "dev_with_HT=qml.device(device_name, wires=num_of_qubits)\n",
    "@qml.qnode(dev_with_HT)\n",
    "def quantum_circuit_with_HT(theta):\n",
    "    # initiate state vector |phi_1>\n",
    "    qml.QubitStateVector(np.array(initial_state_0_phi1), wires=range(num_of_qubits))\n",
    "    qml.Hadamard(0)\n",
    "    for theta_i in theta:\n",
    "        layer_with_HT(theta_i)\n",
    "    qml.Hadamard(0)    \n",
    "    return qml.expval(qml.PauliZ(0)) \n",
    "\n",
    "print(qml.draw(quantum_circuit_with_HT)([[0.1]*(num_of_qubits-1)]))\n",
    "\n",
    "\n",
    "\n"
   ]
  },
  {
   "cell_type": "code",
   "execution_count": 10,
   "id": "b019fe2d-39c1-4fc5-9549-322c0b563b90",
   "metadata": {},
   "outputs": [
    {
     "name": "stdout",
     "output_type": "stream",
     "text": [
      "newly added\n",
      "0: ─╭QubitStateVector(M0)──H─╭●────────╭●────────╭●────────╭●─╭●─╭●──H─┤  <Z>\n",
      "1: ─├QubitStateVector(M0)────╰RY(0.10)─│─────────│─────────├●─│──╰Z────┤     \n",
      "2: ─├QubitStateVector(M0)──────────────╰RY(0.10)─│─────────╰X─├●───────┤     \n",
      "3: ─╰QubitStateVector(M0)────────────────────────╰RY(0.10)────╰X───────┤     \n",
      "newly added 2\n",
      "0: ─╭QubitStateVector(M0)──RY(0.20)─╭●────┤  <Z>\n",
      "1: ─├QubitStateVector(M0)──RY(0.20)─╰X─╭●─┤     \n",
      "2: ─╰QubitStateVector(M0)──RY(0.20)────╰X─┤     \n",
      "newly added 3\n"
     ]
    }
   ],
   "source": [
    "\n",
    "# dev_with_HTZ=qml.device(device_name2, wires=num_of_qubits+1) #AerDevice(wires=num_of_qubits, shots=20000, backend='qasm_simulator')\n",
    "dev_with_HTZ=qml.device(device_name, wires=num_of_qubits)\n",
    "@qml.qnode(dev_with_HTZ)\n",
    "def quantum_circuit_with_HTZ(theta):\n",
    "    # initiate state vector |phi_1>\n",
    "    qml.QubitStateVector(np.array(initial_state_0_phi1), wires=range(num_of_qubits))\n",
    "    qml.Hadamard(0)\n",
    "    for theta_i in theta:\n",
    "        layer_with_HT(theta_i)\n",
    "    qml.CZ([0,1])\n",
    "    qml.Hadamard(0)    \n",
    "    return qml.expval(qml.PauliZ(0)) \n",
    "\n",
    "print('newly added')\n",
    "print(qml.draw(quantum_circuit_with_HTZ)([[0.1]*(num_of_qubits-1)]))\n",
    "\n",
    "\n",
    "\n",
    "# dev_no_HT_Z=qml.device(device_name2, wires=num_of_qubits+1) #AerDevice(wires=num_of_qubits-1, shots=20000, backend='qasm_simulator')\n",
    "dev_no_HT_Z=qml.device(device_name, wires=num_of_qubits-1)        \n",
    "@qml.qnode(dev_no_HT_Z)\n",
    "def quantum_circuit_no_HT_return_Z(theta):\n",
    "    # initiate state vector |phi_1>\n",
    "    qml.QubitStateVector(np.array(initial_state_phi1), wires=range(num_of_qubits-1))\n",
    "    for theta_i in theta:\n",
    "        layer_no_HT(theta_i, list(range(num_of_qubits-1)))\n",
    "    \n",
    "    return qml.expval(qml.PauliZ(0))  \n",
    "    # return qml.sample(qml.PauliZ(0)) \n",
    "print('newly added 2')   \n",
    "print(qml.draw(quantum_circuit_no_HT_return_Z)([[0.2]*(num_of_qubits-1)]))\n",
    "\n",
    "\n",
    "\n",
    "# dev_no_HT_S=qml.device(device_name2, wires=num_of_qubits+1) #AerDevice(wires=num_of_qubits-1, backend='qasm_simulator')\n",
    "dev_no_HT_S=qml.device(device_name2, wires=num_of_qubits-1)  \n",
    "@qml.qnode(dev_no_HT_S)\n",
    "def quantum_circuit_no_HT_return_state(theta):\n",
    "    # initiate state vector |phi_1>\n",
    "    qml.QubitStateVector(np.array(initial_state_phi1), wires=range(num_of_qubits-1))\n",
    "    for theta_i in theta:\n",
    "        layer_no_HT(theta_i, list(range(num_of_qubits-1)))    \n",
    "    return qml.state()\n",
    "\n",
    "print('newly added 3')"
   ]
  },
  {
   "cell_type": "code",
   "execution_count": 11,
   "id": "67b13f54",
   "metadata": {
    "scrolled": true
   },
   "outputs": [],
   "source": [
    "coef2 = 1\n",
    "def objective_fn(theta):\n",
    "    val1_1 = quantum_circuit_with_HT(theta)\n",
    "    val1_2 = quantum_circuit_with_HTZ(theta)\n",
    "#     val2 = quantum_circuit_no_HT_return_Z(theta)\n",
    "#     return coef2*val2-0.5*(val1_1 - val1_2)\n",
    "    return -0.5*(val1_1 - val1_2)"
   ]
  },
  {
   "cell_type": "code",
   "execution_count": 12,
   "id": "fa8a3c37",
   "metadata": {
    "scrolled": true
   },
   "outputs": [
    {
     "name": "stdout",
     "output_type": "stream",
     "text": [
      "\n",
      "\n",
      "rep=1\n",
      "iter=  1 :: obj= -0.00564778 :: val1_1= -0.17488072                  :: val1_2= -0.24067689 :: val2=  0.78086845                   coef2*val2-0.5*(val1_1 - val1_2)=  0.74797037                   :: theta=[[3.45898974 3.94749308 4.92690986]\n",
      " [0.89476698 3.84427806 1.71175874]\n",
      " [2.97225556 4.98596763 4.00538554]]\n",
      "iter=100 :: obj= -0.49994405 :: val1_1=  0.49763428                  :: val1_2= -0.50226657 :: val2= -0.99961228                   coef2*val2-0.5*(val1_1 - val1_2)= -1.49956270                   :: theta=[[3.95278672 5.2205889  3.52091223]\n",
      " [2.12240634 3.04647079 1.88363893]\n",
      " [1.76373911 5.42385823 3.52108464]]\n",
      "iter=200 :: obj= -0.50000000 :: val1_1=  0.50002657                  :: val1_2= -0.49997343 :: val2= -0.99999999                   coef2*val2-0.5*(val1_1 - val1_2)= -1.49999999                   :: theta=[[3.92677951 5.21339747 3.52484236]\n",
      " [2.13021718 3.03252116 1.86963619]\n",
      " [1.78520485 5.42482324 3.53578136]]\n",
      "iter=300 :: obj= -0.50000000 :: val1_1=  0.50000001                  :: val1_2= -0.49999999 :: val2= -1.00000000                   coef2*val2-0.5*(val1_1 - val1_2)= -1.50000000                   :: theta=[[3.92699113 5.21345452 3.52471545]\n",
      " [2.13019449 3.03253265 1.86960879]\n",
      " [1.78512226 5.42480426 3.53573466]]\n",
      "obj_list(last 3)=[-0.49999999999997025, -0.49999999999998235, -0.4999999999999907]\n",
      "prb=[(1.2697519036961691e-15+0j), (5.866664634378072e-16+0j), (1.0998180457947845e-14+0j), (1.1235949443069509e-15+0j), (4.268925214835213e-15+0j), (1.5304447847693684e-15+0j), (0.9999999999999796+0j), (9.823054299231042e-17+0j)]\n",
      "time consumed: 32.193337s\n"
     ]
    }
   ],
   "source": [
    "max_repeat = 1 #100\n",
    "iter_max = 300  #300\n",
    "num_of_layers = 3\n",
    "prb_last_list = []\n",
    "obj_list_rep = []\n",
    "theta_list = []\n",
    "debug_flag, print_flag = 0, True\n",
    "start_time = datetime.datetime.now()\n",
    "\n",
    "\n",
    "probs_last = []\n",
    "\n",
    "\n",
    "for rep in range(1,max_repeat+1):\n",
    "    if print_flag:\n",
    "        print(f'\\n\\nrep={rep}')\n",
    "    else:\n",
    "        print(f'\\n\\nrep={rep}', end='  ')\n",
    "    \n",
    "    optimizer = AdamOptimizer(0.05, beta1=0.9, beta2=0.999)\n",
    "    theta=qml_np.random.uniform(0, 2*math.pi, size=(num_of_layers, num_of_qubits-1), requires_grad=True)\n",
    "    obj_list = []\n",
    "    for iter in range(1, iter_max+1):    \n",
    "        theta, obj = optimizer.step_and_cost(objective_fn, theta)\n",
    "        val1_1 = quantum_circuit_with_HT(theta)\n",
    "        val1_2 = quantum_circuit_with_HTZ(theta)\n",
    "        val2 = quantum_circuit_no_HT_return_Z(theta)\n",
    "        if (iter==1 or iter%100==0 or iter==iter_max) and print_flag:\n",
    "            print(f'iter={iter:3d} :: obj={obj:12.8f} :: val1_1={val1_1:12.8f} \\\n",
    "                 :: val1_2={val1_2:12.8f} :: val2={val2:12.8f}  \\\n",
    "                 coef2*val2-0.5*(val1_1 - val1_2)={coef2*val2-0.5*(val1_1 - val1_2):12.8f}  \\\n",
    "                 :: theta={theta}')\n",
    "            # print(f'iter={iter:3d} :: obj={obj:12.8f} :: theta={theta}')\n",
    "        obj_list.append(obj)\n",
    "    theta_list.append(theta)\n",
    "    print(f'obj_list(last 3)={obj_list[-3:]}')\n",
    "    obj_list_rep.append(obj_list)\n",
    "    \n",
    "    ## display the amplified state\n",
    "    state = quantum_circuit_no_HT_return_state(theta)\n",
    "    prb = [i.item()**2 for i in state]\n",
    "    # print(f'state={state}')\n",
    "    probs_last = prb\n",
    "    if len(prb)>20:\n",
    "        print(f'prb(last 2)={prb[-2:]}')\n",
    "    else:\n",
    "        print(f'prb={prb}')\n",
    "    prb_last_list.append(prb[-1])\n",
    "    \n",
    "    \n",
    "    \n",
    "    \n",
    "    \n",
    "end_time = datetime.datetime.now()\n",
    "duration = end_time - start_time\n",
    "duration_in_s = duration.total_seconds()\n",
    "print(f'time consumed: {duration_in_s}s')"
   ]
  },
  {
   "cell_type": "code",
   "execution_count": 13,
   "id": "718e1740",
   "metadata": {},
   "outputs": [
    {
     "name": "stdout",
     "output_type": "stream",
     "text": [
      "time now:  2023-03-16 07:00:30.744902\n",
      "1.0\n"
     ]
    }
   ],
   "source": [
    "print('time now: ', end_time)\n",
    "print(np.linalg.norm(1j))"
   ]
  },
  {
   "cell_type": "code",
   "execution_count": 14,
   "id": "fea1c0a5",
   "metadata": {},
   "outputs": [
    {
     "name": "stderr",
     "output_type": "stream",
     "text": [
      "/opt/anaconda3/lib/python3.7/site-packages/matplotlib/transforms.py:796: ComplexWarning: Casting complex values to real discards the imaginary part\n",
      "  points = np.array(args, dtype=float).reshape(2, 2)\n"
     ]
    },
    {
     "data": {
      "image/png": "[encoded data removed]",
      "text/plain": [
       "<Figure size 432x288 with 1 Axes>"
      ]
     },
     "metadata": {
      "needs_background": "light"
     },
     "output_type": "display_data"
    }
   ],
   "source": [
    "x=[]\n",
    "y=[]\n",
    "results = probs_last\n",
    "for i in range(len(results)):\n",
    "    if(np.linalg.norm(results[i])>0.01):\n",
    "         x.append(np.binary_repr(i,3))\n",
    "         y.append(results[i])\n",
    "plt.bar(x,y);\n",
    "plt.xlabel('states');\n",
    "plt.ylabel('probability');\n",
    "# plt.xticks(rotation=90);\n",
    "plt.show()"
   ]
  }
 ],
 "metadata": {
  "kernelspec": {
   "display_name": "Python 3",
   "language": "python",
   "name": "python3"
  },
  "language_info": {
   "codemirror_mode": {
    "name": "ipython",
    "version": 3
   },
   "file_extension": ".py",
   "mimetype": "text/x-python",
   "name": "python",
   "nbconvert_exporter": "python",
   "pygments_lexer": "ipython3",
   "version": "3.7.6"
  }
 },
 "nbformat": 4,
 "nbformat_minor": 5
}

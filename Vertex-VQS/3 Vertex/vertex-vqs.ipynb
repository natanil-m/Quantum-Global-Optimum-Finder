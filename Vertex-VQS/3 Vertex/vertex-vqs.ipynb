{
 "cells": [
  {
   "cell_type": "markdown",
   "id": "51563e4e-9c2d-4490-a30e-2361285fb8de",
   "metadata": {},
   "source": [
    "# use another position\n",
    "- initial_state2, 2nd last is flipped\n",
    "- has 2 circuits instead of 3 circuits.  11/16/2022"
   ]
  },
  {
   "cell_type": "code",
   "execution_count": 2,
   "id": "244f3c91",
   "metadata": {
    "scrolled": true
   },
   "outputs": [],
   "source": [
    "# !pip install pennylane\n",
    "# !pip install pennylane-qiskit"
   ]
  },
  {
   "cell_type": "code",
   "execution_count": 3,
   "id": "c9a9a96f-1ffe-4a1e-bf0e-b163cd430420",
   "metadata": {},
   "outputs": [],
   "source": [
    "# !pip install pennylane-lightning"
   ]
  },
  {
   "cell_type": "code",
   "execution_count": 4,
   "id": "5ec26cd5-2c29-4d16-afce-c0e7e39ef22a",
   "metadata": {},
   "outputs": [],
   "source": [
    "# !pip install pennylane-lightning[gpu]  # has erro"
   ]
  },
  {
   "cell_type": "code",
   "execution_count": 5,
   "id": "9e736988",
   "metadata": {
    "scrolled": true
   },
   "outputs": [],
   "source": [
    "import numpy as np\n",
    "from pennylane.optimize import AdamOptimizer\n",
    "from pennylane import numpy as qml_np\n",
    "import pennylane as qml\n",
    "\n",
    "import math\n",
    "import matplotlib.pyplot as plt\n",
    "import datetime"
   ]
  },
  {
   "cell_type": "code",
   "execution_count": 8,
   "id": "a09991a7",
   "metadata": {
    "scrolled": true
   },
   "outputs": [],
   "source": [
    "device_name = 'default.qubit'  #'default.qubit' # \n",
    "device_name2 = 'default.qubit' # has qml.state()"
   ]
  },
  {
   "cell_type": "code",
   "execution_count": 11,
   "id": "67b13f54",
   "metadata": {
    "scrolled": true
   },
   "outputs": [],
   "source": [
    "coef2 = 1\n",
    "def objective_fn(theta):\n",
    "    val1_1 = quantum_circuit_with_HT(theta)\n",
    "    val1_2 = quantum_circuit_with_HTZ(theta)\n",
    "    return -0.5*(val1_1 - val1_2)"
   ]
  },
  {
   "cell_type": "markdown",
   "id": "1c124e78-c2b7-4cb2-b9e5-3a5a8ef58a0a",
   "metadata": {},
   "source": []
  },
  {
   "cell_type": "markdown",
   "id": "84661931-8c1c-4f25-8f0c-d051a7178482",
   "metadata": {},
   "source": [
    "# 3rd last flipped"
   ]
  },
  {
   "cell_type": "code",
   "execution_count": 14,
   "id": "bf5900fd-e342-4f4b-9ad6-804df4a3eb0a",
   "metadata": {
    "scrolled": true
   },
   "outputs": [
    {
     "name": "stdout",
     "output_type": "stream",
     "text": [
      "initial_state_phi1=[0.5, 0, 0.5, 0.5, 0, 0.5, 0, 0]\n"
     ]
    }
   ],
   "source": [
    "\n",
    "N = 2**(num_of_qubits-2)\n",
    "\n",
    "\n",
    "initial_state3 = [1/math.sqrt(N)]*(N-3) + [0, 1/math.sqrt(N), 1/math.sqrt(N)] + [0]*(N-3) + [1/math.sqrt(N), 0, 0] # 2**(num_qubits-1)\n",
    "initial_state_phi1 = initial_state3\n",
    "print(f'initial_state_phi1={initial_state_phi1}')\n",
    "initial_state_0_phi1  = initial_state_phi1 + [0]*len(initial_state_phi1) # 2**num_of_qubits\n",
    "\n",
    "\n"
   ]
  },
  {
   "cell_type": "code",
   "execution_count": 15,
   "id": "5dffe924-61a5-4973-ad75-7ec9c75b763e",
   "metadata": {},
   "outputs": [],
   "source": [
    "## three quantum circuits\n",
    "def layer_with_HT(theta):\n",
    "    for i in range(num_of_qubits-1):\n",
    "        qml.CRY(theta[i], wires=(0,i+1))\n",
    "    for i in range(num_of_qubits-2):\n",
    "        qml.Toffoli(wires=(0,i+1,i+2))\n",
    "\n",
    "        \n",
    "def layer_no_HT(theta, qubit_posi):\n",
    "    for i in range(num_of_qubits-1):\n",
    "        qml.RY(theta[i], wires=(qubit_posi[i]))\n",
    "    for i in range(num_of_qubits-2):\n",
    "        qml.CNOT(wires=(qubit_posi[i],qubit_posi[i+1]))\n",
    "    \n"
   ]
  },
  {
   "cell_type": "code",
   "execution_count": 16,
   "id": "72699250-0bba-418b-bd1c-df10c8f42c74",
   "metadata": {
    "scrolled": true
   },
   "outputs": [],
   "source": [
    "device_name = 'default.qubit'  #'default.qubit' # \n",
    "device_name2 = 'default.qubit' # has qml.state()"
   ]
  },
  {
   "cell_type": "code",
   "execution_count": 17,
   "id": "32b18c8d-2bee-41f1-bf9a-16a0e32ecb12",
   "metadata": {
    "scrolled": true
   },
   "outputs": [
    {
     "name": "stdout",
     "output_type": "stream",
     "text": [
      "0: ─╭QubitStateVector(M0)──H─╭●────────╭●────────╭●────────╭●─╭●──H─┤  <Z>\n",
      "1: ─├QubitStateVector(M0)────╰RY(0.10)─│─────────│─────────├●─│─────┤     \n",
      "2: ─├QubitStateVector(M0)──────────────╰RY(0.10)─│─────────╰X─├●────┤     \n",
      "3: ─╰QubitStateVector(M0)────────────────────────╰RY(0.10)────╰X────┤     \n"
     ]
    }
   ],
   "source": [
    "\n",
    "        \n",
    "# dev_with_HT=qml.device(device_name2, wires=num_of_qubits+1) #AerDevice(wires=num_of_qubits, shots=20000, backend='qasm_simulator')\n",
    "dev_with_HT=qml.device(device_name, wires=num_of_qubits)\n",
    "@qml.qnode(dev_with_HT)\n",
    "def quantum_circuit_with_HT(theta):\n",
    "    # initiate state vector |phi_1>\n",
    "    qml.QubitStateVector(np.array(initial_state_0_phi1), wires=range(num_of_qubits))\n",
    "    qml.Hadamard(0)\n",
    "    for theta_i in theta:\n",
    "        layer_with_HT(theta_i)\n",
    "    qml.Hadamard(0)    \n",
    "    return qml.expval(qml.PauliZ(0)) \n",
    "print(qml.draw(quantum_circuit_with_HT)([[0.1]*(num_of_qubits-1)]))\n",
    "\n",
    "\n",
    "\n"
   ]
  },
  {
   "cell_type": "code",
   "execution_count": 18,
   "id": "3940859b-a89e-41d1-860d-c0a3aa7f7947",
   "metadata": {},
   "outputs": [
    {
     "name": "stdout",
     "output_type": "stream",
     "text": [
      "newly added\n",
      "0: ─╭QubitStateVector(M0)──H─╭●────────╭●────────╭●────────╭●─╭●─╭●──H─┤  <Z>\n",
      "1: ─├QubitStateVector(M0)────╰RY(0.10)─│─────────│─────────├●─│──╰Z────┤     \n",
      "2: ─├QubitStateVector(M0)──────────────╰RY(0.10)─│─────────╰X─├●───────┤     \n",
      "3: ─╰QubitStateVector(M0)────────────────────────╰RY(0.10)────╰X───────┤     \n",
      "newly added 2\n",
      "0: ─╭QubitStateVector(M0)──RY(0.20)─╭●────┤  <Z>\n",
      "1: ─├QubitStateVector(M0)──RY(0.20)─╰X─╭●─┤     \n",
      "2: ─╰QubitStateVector(M0)──RY(0.20)────╰X─┤     \n",
      "newly added 3\n"
     ]
    }
   ],
   "source": [
    "\n",
    "# dev_with_HTZ=qml.device(device_name2, wires=num_of_qubits+1) #AerDevice(wires=num_of_qubits, shots=20000, backend='qasm_simulator')\n",
    "dev_with_HTZ=qml.device(device_name, wires=num_of_qubits)\n",
    "@qml.qnode(dev_with_HTZ)\n",
    "def quantum_circuit_with_HTZ(theta):\n",
    "    # initiate state vector |phi_1>\n",
    "    qml.QubitStateVector(np.array(initial_state_0_phi1), wires=range(num_of_qubits))\n",
    "#     qubit_position = list(range(1,num_of_qubits))\n",
    "#     initiate_state_0_phi1(qml, qubit_position, work_wires=num_of_qubits)\n",
    "    qml.Hadamard(0)\n",
    "    for theta_i in theta:\n",
    "        layer_with_HT(theta_i)\n",
    "    qml.CZ([0,1])\n",
    "    qml.Hadamard(0)    \n",
    "    return qml.expval(qml.PauliZ(0)) \n",
    "    # return qml.sample(qml.PauliZ(0)), qml.sample(qml.PauliZ(1))\n",
    "print('newly added')\n",
    "print(qml.draw(quantum_circuit_with_HTZ)([[0.1]*(num_of_qubits-1)]))\n",
    "# print(quantum_circuit_with_HTZ([[0.1]*(num_of_qubits-1)]))\n",
    "\n",
    "\n",
    "\n",
    "# dev_no_HT_Z=qml.device(device_name2, wires=num_of_qubits+1) #AerDevice(wires=num_of_qubits-1, shots=20000, backend='qasm_simulator')\n",
    "dev_no_HT_Z=qml.device(device_name, wires=num_of_qubits-1)        \n",
    "@qml.qnode(dev_no_HT_Z)\n",
    "def quantum_circuit_no_HT_return_Z(theta):\n",
    "    # initiate state vector |phi_1>\n",
    "    qml.QubitStateVector(np.array(initial_state_phi1), wires=range(num_of_qubits-1))\n",
    "#     qubit_position = list(range(num_of_qubits-1))\n",
    "#     initiate_state_0_phi1(qml, qubit_position, work_wires=num_of_qubits-1)\n",
    "    for theta_i in theta:\n",
    "        layer_no_HT(theta_i, list(range(num_of_qubits-1)))\n",
    "    \n",
    "    return qml.expval(qml.PauliZ(0))  \n",
    "    # return qml.sample(qml.PauliZ(0)) \n",
    "print('newly added 2')   \n",
    "print(qml.draw(quantum_circuit_no_HT_return_Z)([[0.2]*(num_of_qubits-1)]))\n",
    "# print(quantum_circuit_with_HT([[0.2]*(num_of_qubits-1)]))\n",
    "\n",
    "\n",
    "# dev_no_HT_S=qml.device(device_name2, wires=num_of_qubits+1) #AerDevice(wires=num_of_qubits-1, backend='qasm_simulator')\n",
    "dev_no_HT_S=qml.device(device_name2, wires=num_of_qubits-1)  \n",
    "@qml.qnode(dev_no_HT_S)\n",
    "def quantum_circuit_no_HT_return_state(theta):\n",
    "    # initiate state vector |phi_1>\n",
    "    qml.QubitStateVector(np.array(initial_state_phi1), wires=range(num_of_qubits-1))\n",
    "#     qubit_position = list(range(num_of_qubits-1))\n",
    "#     initiate_state_0_phi1(qml, qubit_position, work_wires=num_of_qubits-1)\n",
    "    for theta_i in theta:\n",
    "        layer_no_HT(theta_i, list(range(num_of_qubits-1)))    \n",
    "    return qml.state()\n",
    "\n",
    "print('newly added 3')"
   ]
  },
  {
   "cell_type": "code",
   "execution_count": 19,
   "id": "f9598e90-97f3-4ef9-b65f-1d90b625d9ad",
   "metadata": {
    "scrolled": true
   },
   "outputs": [],
   "source": []
  },
  {
   "cell_type": "code",
   "execution_count": 20,
   "id": "5dd5bc3e-e32c-44c9-ba2f-00755e87dba6",
   "metadata": {
    "scrolled": true
   },
   "outputs": [
    {
     "name": "stdout",
     "output_type": "stream",
     "text": [
      "\n",
      "\n",
      "rep=1\n",
      "iter=  1 :: obj= -0.20109512 :: val1_1=  0.33914298                  :: val1_2= -0.12906753 :: val2=  0.44324409                   coef2*val2-0.5*(val1_1 - val1_2)=  0.20913884                   :: theta=[[3.99739049 5.68831983 3.95643202]\n",
      " [3.99046664 1.18555397 5.20029614]\n",
      " [2.56423048 3.66516537 5.35397754]]\n",
      "iter= 20 :: obj= -0.46741621 :: val1_1=  0.52173836                  :: val1_2= -0.41619065 :: val2= -0.79112939                   coef2*val2-0.5*(val1_1 - val1_2)= -1.26009389                   :: theta=[[3.3036794  6.31140155 4.02203203]\n",
      " [3.14958868 2.01800679 4.79906547]\n",
      " [2.04482671 3.86803583 4.85855529]]\n",
      "iter= 40 :: obj= -0.49075962 :: val1_1=  0.42674793                  :: val1_2= -0.55718504 :: val2= -0.94350200                   coef2*val2-0.5*(val1_1 - val1_2)= -1.43546849                   :: theta=[[3.51044698 5.78114399 3.59980329]\n",
      " [2.88383334 2.3271018  5.20533672]\n",
      " [2.37870753 4.06935148 4.7702508 ]]\n",
      "iter= 60 :: obj= -0.49948379 :: val1_1=  0.47947535                  :: val1_2= -0.51964091 :: val2= -0.99748162                   coef2*val2-0.5*(val1_1 - val1_2)= -1.49703975                   :: theta=[[3.90262224 5.46653175 3.49442243]\n",
      " [2.83809972 2.35509894 5.29739115]\n",
      " [2.1689462  3.9239036  4.59995256]]\n",
      "iter= 80 :: obj= -0.49985711 :: val1_1=  0.51374861                  :: val1_2= -0.48599690 :: val2= -0.99915793                   coef2*val2-0.5*(val1_1 - val1_2)= -1.49903068                   :: theta=[[3.97009857 5.56703757 3.60842206]\n",
      " [2.82395549 2.34304843 5.22644118]\n",
      " [2.15678071 4.00594022 4.60767953]]\n",
      "iter=100 :: obj= -0.49998294 :: val1_1=  0.50037543                  :: val1_2= -0.49959288 :: val2= -0.99987677                   coef2*val2-0.5*(val1_1 - val1_2)= -1.49986092                   :: theta=[[3.92916978 5.54990565 3.5742025 ]\n",
      " [2.81547745 2.36771799 5.24284006]\n",
      " [2.18590454 4.0005401  4.61977926]]\n",
      "iter=120 :: obj= -0.49999832 :: val1_1=  0.49966797                  :: val1_2= -0.50032872 :: val2= -0.99998903                   coef2*val2-0.5*(val1_1 - val1_2)= -1.49998738                   :: theta=[[3.92367555 5.55798521 3.57632292]\n",
      " [2.82440617 2.3514534  5.24564249]\n",
      " [2.1825758  3.99479337 4.6174761 ]]\n",
      "iter=140 :: obj= -0.49999982 :: val1_1=  0.49960223                  :: val1_2= -0.50039749 :: val2= -0.99999909                   coef2*val2-0.5*(val1_1 - val1_2)= -1.49999895                   :: theta=[[3.92639311 5.554252   3.5754717 ]\n",
      " [2.82271076 2.35506107 5.24712291]\n",
      " [2.183379   3.99423563 4.6177702 ]]\n",
      "iter=160 :: obj= -0.49999996 :: val1_1=  0.50015929                  :: val1_2= -0.49984065 :: val2= -0.99999986                   coef2*val2-0.5*(val1_1 - val1_2)= -1.49999983                   :: theta=[[3.92737977 5.55615416 3.57760573]\n",
      " [2.82224975 2.35543511 5.24578369]\n",
      " [2.18367453 3.99592822 4.61830126]]\n",
      "iter=180 :: obj= -0.50000000 :: val1_1=  0.49999798                  :: val1_2= -0.50000201 :: val2= -0.99999999                   coef2*val2-0.5*(val1_1 - val1_2)= -1.49999999                   :: theta=[[3.92705792 5.55569694 3.57701858]\n",
      " [2.82255578 2.35506829 5.24634442]\n",
      " [2.18345955 3.99506882 4.61806009]]\n",
      "iter=200 :: obj= -0.50000000 :: val1_1=  0.49998677                  :: val1_2= -0.50001323 :: val2= -1.00000000                   coef2*val2-0.5*(val1_1 - val1_2)= -1.50000000                   :: theta=[[3.92689585 5.55581873 3.57705319]\n",
      " [2.82249569 2.35517751 5.24625517]\n",
      " [2.18359588 3.995178   4.6181303 ]]\n",
      "iter=220 :: obj= -0.50000000 :: val1_1=  0.50000989                  :: val1_2= -0.49999011 :: val2= -1.00000000                   coef2*val2-0.5*(val1_1 - val1_2)= -1.50000000                   :: theta=[[3.92701771 5.55580964 3.57710727]\n",
      " [2.82250136 2.35514813 5.24623607]\n",
      " [2.18354846 3.99520514 4.6181093 ]]\n",
      "iter=240 :: obj= -0.50000000 :: val1_1=  0.49999989                  :: val1_2= -0.50000011 :: val2= -1.00000000                   coef2*val2-0.5*(val1_1 - val1_2)= -1.50000000                   :: theta=[[3.92699078 5.55579408 3.57708054]\n",
      " [2.8224986  2.35516072 5.24624406]\n",
      " [2.18356567 3.99519527 4.61811053]]\n",
      "iter=260 :: obj= -0.50000000 :: val1_1=  0.49999938                  :: val1_2= -0.50000062 :: val2= -1.00000000                   coef2*val2-0.5*(val1_1 - val1_2)= -1.50000000                   :: theta=[[3.92698785 5.55579856 3.5770822 ]\n",
      " [2.82250165 2.35515538 5.24624468]\n",
      " [2.18356652 3.99519424 4.61811087]]\n",
      "iter=280 :: obj= -0.50000000 :: val1_1=  0.50000031                  :: val1_2= -0.49999969 :: val2= -1.00000000                   coef2*val2-0.5*(val1_1 - val1_2)= -1.50000000                   :: theta=[[3.92699188 5.55579917 3.57708516]\n",
      " [2.82250075 2.35515632 5.24624371]\n",
      " [2.1835664  3.9951967  4.61811157]]\n",
      "iter=300 :: obj= -0.50000000 :: val1_1=  0.49999992                  :: val1_2= -0.50000008 :: val2= -1.00000000                   coef2*val2-0.5*(val1_1 - val1_2)= -1.50000000                   :: theta=[[3.92699074 5.55579835 3.5770838 ]\n",
      " [2.82250083 2.35515648 5.2462442 ]\n",
      " [2.18356661 3.99519583 4.61811134]]\n",
      "obj_list(last 3)=[-0.4999999999999877, -0.4999999999999908, -0.4999999999999932]\n",
      "prb=[(4.13062393430729e-16+0j), (4.05558712778927e-15+0j), (3.842778803160411e-15+0j), (6.767660632831897e-15+0j), (1.6764995088469797e-16+0j), (0.9999999999999831+0j), (7.943932134190919e-17+0j), (1.5474910543797134e-15+0j)]\n",
      "time consumed: 18.346467s\n"
     ]
    }
   ],
   "source": [
    "max_repeat = 1 #100\n",
    "iter_max = 300  #300\n",
    "num_of_layers = 3\n",
    "prb_last_list = []\n",
    "obj_list_rep = []\n",
    "theta_list = []\n",
    "debug_flag, print_flag = 0, True\n",
    "start_time = datetime.datetime.now()\n",
    "for rep in range(1,max_repeat+1):\n",
    "    if print_flag:\n",
    "        print(f'\\n\\nrep={rep}')\n",
    "    else:\n",
    "        print(f'\\n\\nrep={rep}', end='  ')\n",
    "    \n",
    "    optimizer = AdamOptimizer(0.05, beta1=0.9, beta2=0.999)\n",
    "    theta=qml_np.random.uniform(0, 2*math.pi, size=(num_of_layers, num_of_qubits-1), requires_grad=True)\n",
    "    obj_list = []\n",
    "    for iter in range(1, iter_max+1):    \n",
    "        theta, obj = optimizer.step_and_cost(objective_fn, theta)\n",
    "        val1_1 = quantum_circuit_with_HT(theta)\n",
    "        val1_2 = quantum_circuit_with_HTZ(theta)\n",
    "        val2 = quantum_circuit_no_HT_return_Z(theta)\n",
    "        if (iter==1 or iter%20==0 or iter==iter_max) and print_flag:\n",
    "            print(f'iter={iter:3d} :: obj={obj:12.8f} :: val1_1={val1_1:12.8f} \\\n",
    "                 :: val1_2={val1_2:12.8f} :: val2={val2:12.8f}  \\\n",
    "                 coef2*val2-0.5*(val1_1 - val1_2)={coef2*val2-0.5*(val1_1 - val1_2):12.8f}  \\\n",
    "                 :: theta={theta}')\n",
    "            # print(f'iter={iter:3d} :: obj={obj:12.8f} :: theta={theta}')\n",
    "        obj_list.append(obj)\n",
    "    theta_list.append(theta)\n",
    "    print(f'obj_list(last 3)={obj_list[-3:]}')\n",
    "    obj_list_rep.append(obj_list)\n",
    "    \n",
    "    ## display the amplified state\n",
    "    state = quantum_circuit_no_HT_return_state(theta)\n",
    "    prb = [i.item()**2 for i in state]\n",
    "    # print(f'state={state}')\n",
    "    if len(prb)>20:\n",
    "        print(f'prb(last 3)={prb[-3:]}')\n",
    "    else: print(f'prb={prb}')\n",
    "    prb_last_list.append(prb[-3])\n",
    "end_time = datetime.datetime.now()\n",
    "duration = end_time - start_time\n",
    "duration_in_s = duration.total_seconds()\n",
    "print(f'time consumed: {duration_in_s}s')"
   ]
  },
  {
   "cell_type": "code",
   "execution_count": 21,
   "id": "307ea4de-2c59-4550-9fe8-b78bcabc31d6",
   "metadata": {},
   "outputs": [
    {
     "name": "stdout",
     "output_type": "stream",
     "text": [
      "time now:  2022-11-16 09:52:54.879305\n"
     ]
    }
   ],
   "source": [
    "print('time now: ', end_time)"
   ]
  },
  {
   "cell_type": "code",
   "execution_count": null,
   "id": "29462e42-9709-4439-bb6d-f7e464130158",
   "metadata": {},
   "outputs": [],
   "source": []
  },
  {
   "cell_type": "code",
   "execution_count": null,
   "id": "29bf975d-c0a3-45df-8fb6-12c23543f860",
   "metadata": {},
   "outputs": [],
   "source": []
  }
 ],
 "metadata": {
  "kernelspec": {
   "display_name": "Python 3",
   "language": "python",
   "name": "python3"
  },
  "language_info": {
   "codemirror_mode": {
    "name": "ipython",
    "version": 3
   },
   "file_extension": ".py",
   "mimetype": "text/x-python",
   "name": "python",
   "nbconvert_exporter": "python",
   "pygments_lexer": "ipython3",
   "version": "3.8.8"
  }
 },
 "nbformat": 4,
 "nbformat_minor": 5
}

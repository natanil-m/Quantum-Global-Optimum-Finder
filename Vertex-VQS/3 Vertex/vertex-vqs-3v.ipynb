{
 "cells": [
  {
   "cell_type": "markdown",
   "id": "51563e4e-9c2d-4490-a30e-2361285fb8de",
   "metadata": {},
   "source": [
    "# use another position\n",
    "- initial_state2, 2nd last is flipped\n",
    "- has 2 circuits instead of 3 circuits.  11/16/2022"
   ]
  },
  {
   "cell_type": "code",
   "execution_count": 1,
   "id": "244f3c91",
   "metadata": {
    "scrolled": true
   },
   "outputs": [],
   "source": [
    "# !pip install pennylane\n",
    "# !pip install pennylane-qiskit"
   ]
  },
  {
   "cell_type": "code",
   "execution_count": 2,
   "id": "c9a9a96f-1ffe-4a1e-bf0e-b163cd430420",
   "metadata": {},
   "outputs": [],
   "source": [
    "# !pip install pennylane-lightning"
   ]
  },
  {
   "cell_type": "code",
   "execution_count": 3,
   "id": "5ec26cd5-2c29-4d16-afce-c0e7e39ef22a",
   "metadata": {},
   "outputs": [],
   "source": [
    "# !pip install pennylane-lightning[gpu]  # has erro"
   ]
  },
  {
   "cell_type": "code",
   "execution_count": 4,
   "id": "9e736988",
   "metadata": {
    "scrolled": true
   },
   "outputs": [],
   "source": [
    "import numpy as np\n",
    "from pennylane.optimize import AdamOptimizer\n",
    "from pennylane import numpy as qml_np\n",
    "import pennylane as qml\n",
    "\n",
    "import math\n",
    "import matplotlib.pyplot as plt\n",
    "import datetime"
   ]
  },
  {
   "cell_type": "markdown",
   "id": "c9d24f20-1107-49de-894c-a8542fd49480",
   "metadata": {},
   "source": [
    "# 2nd last flipped"
   ]
  },
  {
   "cell_type": "code",
   "execution_count": 5,
   "id": "9415dd44",
   "metadata": {
    "scrolled": true
   },
   "outputs": [
    {
     "name": "stdout",
     "output_type": "stream",
     "text": [
      "initial_state_phi1=[0.5, 0.5, 0, 0.5, 0, 0, 0.5, 0]\n"
     ]
    }
   ],
   "source": [
    "num_of_qubits = 1+3\n",
    "N = 2**(num_of_qubits-2)\n",
    "\n",
    "\n",
    "initial_state2 = [1/math.sqrt(N)]*(N-2) + [0, 1/math.sqrt(N)] + [0]*(N-2) + [1/math.sqrt(N), 0] # 2**(num_qubits-1)\n",
    "initial_state_phi1 = initial_state2\n",
    "print(f'initial_state_phi1={initial_state_phi1}')\n",
    "initial_state_0_phi1  = initial_state_phi1 + [0]*len(initial_state_phi1) # 2**num_of_qubits\n",
    "\n"
   ]
  },
  {
   "cell_type": "code",
   "execution_count": 6,
   "id": "49305051",
   "metadata": {},
   "outputs": [],
   "source": [
    "def oracle(init_state, num_qubits):\n",
    "    qml.QubitStateVector(np.array(init_state), wires=range(num_qubits))\n"
   ]
  },
  {
   "cell_type": "code",
   "execution_count": 7,
   "id": "3e1cbbaa",
   "metadata": {},
   "outputs": [
    {
     "data": {
      "image/png": "[encoded data removed]",
      "text/plain": [
       "<Figure size 432x288 with 1 Axes>"
      ]
     },
     "metadata": {
      "needs_background": "light"
     },
     "output_type": "display_data"
    }
   ],
   "source": [
    "x=[]\n",
    "y=[]\n",
    "results = initial_state_0_phi1\n",
    "for i in range(len(results)):\n",
    "    if(np.linalg.norm(results[i])>0.01):\n",
    "         x.append(np.binary_repr(i,3))\n",
    "         y.append(results[i])\n",
    "plt.bar(x,y);\n",
    "plt.xlabel('states');\n",
    "plt.ylabel('probability');\n",
    "# plt.xticks(rotation=90);\n",
    "plt.show()"
   ]
  },
  {
   "cell_type": "code",
   "execution_count": 8,
   "id": "1bae71f0-e8ee-4384-b258-a645c220fd0d",
   "metadata": {},
   "outputs": [],
   "source": [
    "## three quantum circuits\n",
    "def layer_with_HT(theta):\n",
    "    for i in range(num_of_qubits-1):\n",
    "        qml.CRY(theta[i], wires=(0,i+1))\n",
    "    for i in range(num_of_qubits-2):\n",
    "        qml.Toffoli(wires=(0,i+1,i+2))\n",
    "\n",
    "        \n",
    "def layer_no_HT(theta, qubit_posi):\n",
    "    for i in range(num_of_qubits-1):\n",
    "        qml.RY(theta[i], wires=(qubit_posi[i]))\n",
    "    for i in range(num_of_qubits-2):\n",
    "        qml.CNOT(wires=(qubit_posi[i],qubit_posi[i+1]))\n"
   ]
  },
  {
   "cell_type": "code",
   "execution_count": 9,
   "id": "a09991a7",
   "metadata": {
    "scrolled": true
   },
   "outputs": [],
   "source": [
    "device_name = 'default.qubit'  #'default.qubit' # \n",
    "device_name2 = 'default.qubit' # has qml.state()"
   ]
  },
  {
   "cell_type": "code",
   "execution_count": 10,
   "id": "9d027bd2",
   "metadata": {
    "scrolled": true
   },
   "outputs": [
    {
     "name": "stdout",
     "output_type": "stream",
     "text": [
      "0: ─╭QubitStateVector(M0)──H─╭●────────╭●────────╭●────────╭●─╭●──H─┤  <Z>\n",
      "1: ─├QubitStateVector(M0)────╰RY(0.10)─│─────────│─────────├●─│─────┤     \n",
      "2: ─├QubitStateVector(M0)──────────────╰RY(0.10)─│─────────╰X─├●────┤     \n",
      "3: ─╰QubitStateVector(M0)────────────────────────╰RY(0.10)────╰X────┤     \n"
     ]
    }
   ],
   "source": [
    "\n",
    "        \n",
    "# dev_with_HT=qml.device(device_name2, wires=num_of_qubits+1) #AerDevice(wires=num_of_qubits, shots=20000, backend='qasm_simulator')\n",
    "dev_with_HT=qml.device(device_name, wires=num_of_qubits)\n",
    "@qml.qnode(dev_with_HT)\n",
    "def quantum_circuit_with_HT(theta):\n",
    "    # initiate state vector |phi_1>\n",
    "    oracle(init_state=initial_state_0_phi1 ,num_qubits=num_of_qubits)\n",
    "    qml.Hadamard(0)\n",
    "    for theta_i in theta:\n",
    "        layer_with_HT(theta_i)\n",
    "    qml.Hadamard(0)    \n",
    "    return qml.expval(qml.PauliZ(0)) \n",
    "\n",
    "print(qml.draw(quantum_circuit_with_HT)([[0.1]*(num_of_qubits-1)]))\n",
    "\n",
    "\n",
    "\n"
   ]
  },
  {
   "cell_type": "code",
   "execution_count": 11,
   "id": "b019fe2d-39c1-4fc5-9549-322c0b563b90",
   "metadata": {},
   "outputs": [
    {
     "name": "stdout",
     "output_type": "stream",
     "text": [
      "newly added\n",
      "0: ─╭QubitStateVector(M0)──H─╭●────────╭●────────╭●────────╭●─╭●─╭●──H─┤  <Z>\n",
      "1: ─├QubitStateVector(M0)────╰RY(0.10)─│─────────│─────────├●─│──╰Z────┤     \n",
      "2: ─├QubitStateVector(M0)──────────────╰RY(0.10)─│─────────╰X─├●───────┤     \n",
      "3: ─╰QubitStateVector(M0)────────────────────────╰RY(0.10)────╰X───────┤     \n",
      "newly added 2\n",
      "0: ─╭QubitStateVector(M0)──RY(0.20)─╭●────┤  <Z>\n",
      "1: ─├QubitStateVector(M0)──RY(0.20)─╰X─╭●─┤     \n",
      "2: ─╰QubitStateVector(M0)──RY(0.20)────╰X─┤     \n",
      "newly added 3\n"
     ]
    }
   ],
   "source": [
    "\n",
    "# dev_with_HTZ=qml.device(device_name2, wires=num_of_qubits+1) #AerDevice(wires=num_of_qubits, shots=20000, backend='qasm_simulator')\n",
    "dev_with_HTZ=qml.device(device_name, wires=num_of_qubits)\n",
    "@qml.qnode(dev_with_HTZ)\n",
    "def quantum_circuit_with_HTZ(theta):\n",
    "    # initiate state vector |phi_1>\n",
    "    oracle(init_state=initial_state_0_phi1 ,num_qubits=num_of_qubits)\n",
    "    qml.Hadamard(0)\n",
    "    for theta_i in theta:\n",
    "        layer_with_HT(theta_i)\n",
    "    qml.CZ([0,1])\n",
    "    qml.Hadamard(0)    \n",
    "    return qml.expval(qml.PauliZ(0)) \n",
    "\n",
    "print('newly added')\n",
    "print(qml.draw(quantum_circuit_with_HTZ)([[0.1]*(num_of_qubits-1)]))\n",
    "\n",
    "\n",
    "\n",
    "# dev_no_HT_Z=qml.device(device_name2, wires=num_of_qubits+1) #AerDevice(wires=num_of_qubits-1, shots=20000, backend='qasm_simulator')\n",
    "dev_no_HT_Z=qml.device(device_name, wires=num_of_qubits-1)        \n",
    "@qml.qnode(dev_no_HT_Z)\n",
    "def quantum_circuit_no_HT_return_Z(theta):\n",
    "    # initiate state vector |phi_1>\n",
    "    oracle(init_state=initial_state_phi1 ,num_qubits=num_of_qubits-1)\n",
    "    for theta_i in theta:\n",
    "        layer_no_HT(theta_i, list(range(num_of_qubits-1)))\n",
    "    \n",
    "    return qml.expval(qml.PauliZ(0))  \n",
    "    # return qml.sample(qml.PauliZ(0)) \n",
    "print('newly added 2')   \n",
    "print(qml.draw(quantum_circuit_no_HT_return_Z)([[0.2]*(num_of_qubits-1)]))\n",
    "\n",
    "\n",
    "\n",
    "# dev_no_HT_S=qml.device(device_name2, wires=num_of_qubits+1) #AerDevice(wires=num_of_qubits-1, backend='qasm_simulator')\n",
    "dev_no_HT_S=qml.device(device_name2, wires=num_of_qubits-1)  \n",
    "@qml.qnode(dev_no_HT_S)\n",
    "def quantum_circuit_no_HT_return_state(theta):\n",
    "    # initiate state vector |phi_1>\n",
    "    oracle(init_state=initial_state_phi1,num_qubits=num_of_qubits-1)\n",
    "    for theta_i in theta:\n",
    "        layer_no_HT(theta_i, list(range(num_of_qubits-1)))    \n",
    "    return qml.state()\n",
    "\n",
    "print('newly added 3')"
   ]
  },
  {
   "cell_type": "code",
   "execution_count": 12,
   "id": "67b13f54",
   "metadata": {
    "scrolled": true
   },
   "outputs": [],
   "source": [
    "coef2 = 1\n",
    "def objective_fn(theta):\n",
    "    val1_1 = quantum_circuit_with_HT(theta)\n",
    "    val1_2 = quantum_circuit_with_HTZ(theta)\n",
    "#     val2 = quantum_circuit_no_HT_return_Z(theta)\n",
    "#     return coef2*val2-0.5*(val1_1 - val1_2)\n",
    "    return -0.5*(val1_1 - val1_2)"
   ]
  },
  {
   "cell_type": "code",
   "execution_count": 13,
   "id": "fa8a3c37",
   "metadata": {
    "scrolled": true
   },
   "outputs": [
    {
     "name": "stdout",
     "output_type": "stream",
     "text": [
      "\n",
      "\n",
      "rep=1\n"
     ]
    },
    {
     "ename": "ValueError",
     "evalue": "State vector must have shape (2**wires,) or (batch_size, 2**wires).",
     "output_type": "error",
     "traceback": [
      "\u001b[0;31m---------------------------------------------------------------------------\u001b[0m",
      "\u001b[0;31mValueError\u001b[0m                                Traceback (most recent call last)",
      "\u001b[0;32m<ipython-input-13-c772235c581b>\u001b[0m in \u001b[0;36m<module>\u001b[0;34m\u001b[0m\n\u001b[1;32m     25\u001b[0m         \u001b[0mval1_1\u001b[0m \u001b[0;34m=\u001b[0m \u001b[0mquantum_circuit_with_HT\u001b[0m\u001b[0;34m(\u001b[0m\u001b[0mtheta\u001b[0m\u001b[0;34m)\u001b[0m\u001b[0;34m\u001b[0m\u001b[0;34m\u001b[0m\u001b[0m\n\u001b[1;32m     26\u001b[0m         \u001b[0mval1_2\u001b[0m \u001b[0;34m=\u001b[0m \u001b[0mquantum_circuit_with_HTZ\u001b[0m\u001b[0;34m(\u001b[0m\u001b[0mtheta\u001b[0m\u001b[0;34m)\u001b[0m\u001b[0;34m\u001b[0m\u001b[0;34m\u001b[0m\u001b[0m\n\u001b[0;32m---> 27\u001b[0;31m         \u001b[0mval2\u001b[0m \u001b[0;34m=\u001b[0m \u001b[0mquantum_circuit_no_HT_return_Z\u001b[0m\u001b[0;34m(\u001b[0m\u001b[0mtheta\u001b[0m\u001b[0;34m)\u001b[0m\u001b[0;34m\u001b[0m\u001b[0;34m\u001b[0m\u001b[0m\n\u001b[0m\u001b[1;32m     28\u001b[0m         \u001b[0;32mif\u001b[0m \u001b[0;34m(\u001b[0m\u001b[0miter\u001b[0m\u001b[0;34m==\u001b[0m\u001b[0;36m1\u001b[0m \u001b[0;32mor\u001b[0m \u001b[0miter\u001b[0m\u001b[0;34m%\u001b[0m\u001b[0;36m100\u001b[0m\u001b[0;34m==\u001b[0m\u001b[0;36m0\u001b[0m \u001b[0;32mor\u001b[0m \u001b[0miter\u001b[0m\u001b[0;34m==\u001b[0m\u001b[0miter_max\u001b[0m\u001b[0;34m)\u001b[0m \u001b[0;32mand\u001b[0m \u001b[0mprint_flag\u001b[0m\u001b[0;34m:\u001b[0m\u001b[0;34m\u001b[0m\u001b[0;34m\u001b[0m\u001b[0m\n\u001b[1;32m     29\u001b[0m             print(f'iter={iter:3d} :: obj={obj:12.8f} :: val1_1={val1_1:12.8f} \\\n",
      "\u001b[0;32m/opt/anaconda3/lib/python3.7/site-packages/pennylane/qnode.py\u001b[0m in \u001b[0;36m__call__\u001b[0;34m(self, *args, **kwargs)\u001b[0m\n\u001b[1;32m    666\u001b[0m             \u001b[0mgradient_kwargs\u001b[0m\u001b[0;34m=\u001b[0m\u001b[0mself\u001b[0m\u001b[0;34m.\u001b[0m\u001b[0mgradient_kwargs\u001b[0m\u001b[0;34m,\u001b[0m\u001b[0;34m\u001b[0m\u001b[0;34m\u001b[0m\u001b[0m\n\u001b[1;32m    667\u001b[0m             \u001b[0moverride_shots\u001b[0m\u001b[0;34m=\u001b[0m\u001b[0moverride_shots\u001b[0m\u001b[0;34m,\u001b[0m\u001b[0;34m\u001b[0m\u001b[0;34m\u001b[0m\u001b[0m\n\u001b[0;32m--> 668\u001b[0;31m             \u001b[0;34m**\u001b[0m\u001b[0mself\u001b[0m\u001b[0;34m.\u001b[0m\u001b[0mexecute_kwargs\u001b[0m\u001b[0;34m,\u001b[0m\u001b[0;34m\u001b[0m\u001b[0;34m\u001b[0m\u001b[0m\n\u001b[0m\u001b[1;32m    669\u001b[0m         )\n\u001b[1;32m    670\u001b[0m \u001b[0;34m\u001b[0m\u001b[0m\n",
      "\u001b[0;32m/opt/anaconda3/lib/python3.7/site-packages/pennylane/interfaces/execution.py\u001b[0m in \u001b[0;36mexecute\u001b[0;34m(tapes, device, gradient_fn, interface, mode, gradient_kwargs, cache, cachesize, max_diff, override_shots, expand_fn, max_expansion, device_batch_transform)\u001b[0m\n\u001b[1;32m    370\u001b[0m             qml.interfaces.cache_execute(\n\u001b[1;32m    371\u001b[0m                 \u001b[0mbatch_execute\u001b[0m\u001b[0;34m,\u001b[0m \u001b[0mcache\u001b[0m\u001b[0;34m,\u001b[0m \u001b[0mreturn_tuple\u001b[0m\u001b[0;34m=\u001b[0m\u001b[0;32mFalse\u001b[0m\u001b[0;34m,\u001b[0m \u001b[0mexpand_fn\u001b[0m\u001b[0;34m=\u001b[0m\u001b[0mexpand_fn\u001b[0m\u001b[0;34m\u001b[0m\u001b[0;34m\u001b[0m\u001b[0m\n\u001b[0;32m--> 372\u001b[0;31m             )(tapes)\n\u001b[0m\u001b[1;32m    373\u001b[0m         )\n\u001b[1;32m    374\u001b[0m \u001b[0;34m\u001b[0m\u001b[0m\n",
      "\u001b[0;32m/opt/anaconda3/lib/python3.7/site-packages/pennylane/interfaces/execution.py\u001b[0m in \u001b[0;36mwrapper\u001b[0;34m(tapes, **kwargs)\u001b[0m\n\u001b[1;32m    195\u001b[0m         \u001b[0;32melse\u001b[0m\u001b[0;34m:\u001b[0m\u001b[0;34m\u001b[0m\u001b[0;34m\u001b[0m\u001b[0m\n\u001b[1;32m    196\u001b[0m             \u001b[0;31m# execute all unique tapes that do not exist in the cache\u001b[0m\u001b[0;34m\u001b[0m\u001b[0;34m\u001b[0m\u001b[0;34m\u001b[0m\u001b[0m\n\u001b[0;32m--> 197\u001b[0;31m             \u001b[0mres\u001b[0m \u001b[0;34m=\u001b[0m \u001b[0mfn\u001b[0m\u001b[0;34m(\u001b[0m\u001b[0mexecution_tapes\u001b[0m\u001b[0;34m.\u001b[0m\u001b[0mvalues\u001b[0m\u001b[0;34m(\u001b[0m\u001b[0;34m)\u001b[0m\u001b[0;34m,\u001b[0m \u001b[0;34m**\u001b[0m\u001b[0mkwargs\u001b[0m\u001b[0;34m)\u001b[0m\u001b[0;34m\u001b[0m\u001b[0;34m\u001b[0m\u001b[0m\n\u001b[0m\u001b[1;32m    198\u001b[0m \u001b[0;34m\u001b[0m\u001b[0m\n\u001b[1;32m    199\u001b[0m         \u001b[0mfinal_res\u001b[0m \u001b[0;34m=\u001b[0m \u001b[0;34m[\u001b[0m\u001b[0;34m]\u001b[0m\u001b[0;34m\u001b[0m\u001b[0;34m\u001b[0m\u001b[0m\n",
      "\u001b[0;32m/opt/anaconda3/lib/python3.7/site-packages/pennylane/interfaces/execution.py\u001b[0m in \u001b[0;36mfn\u001b[0;34m(tapes, **kwargs)\u001b[0m\n\u001b[1;32m    120\u001b[0m         \u001b[0;32mdef\u001b[0m \u001b[0mfn\u001b[0m\u001b[0;34m(\u001b[0m\u001b[0mtapes\u001b[0m\u001b[0;34m,\u001b[0m \u001b[0;34m**\u001b[0m\u001b[0mkwargs\u001b[0m\u001b[0;34m)\u001b[0m\u001b[0;34m:\u001b[0m  \u001b[0;31m# pylint: disable=function-redefined\u001b[0m\u001b[0;34m\u001b[0m\u001b[0;34m\u001b[0m\u001b[0m\n\u001b[1;32m    121\u001b[0m             \u001b[0mtapes\u001b[0m \u001b[0;34m=\u001b[0m \u001b[0;34m[\u001b[0m\u001b[0mexpand_fn\u001b[0m\u001b[0;34m(\u001b[0m\u001b[0mtape\u001b[0m\u001b[0;34m)\u001b[0m \u001b[0;32mfor\u001b[0m \u001b[0mtape\u001b[0m \u001b[0;32min\u001b[0m \u001b[0mtapes\u001b[0m\u001b[0;34m]\u001b[0m\u001b[0;34m\u001b[0m\u001b[0;34m\u001b[0m\u001b[0m\n\u001b[0;32m--> 122\u001b[0;31m             \u001b[0;32mreturn\u001b[0m \u001b[0moriginal_fn\u001b[0m\u001b[0;34m(\u001b[0m\u001b[0mtapes\u001b[0m\u001b[0;34m,\u001b[0m \u001b[0;34m**\u001b[0m\u001b[0mkwargs\u001b[0m\u001b[0;34m)\u001b[0m\u001b[0;34m\u001b[0m\u001b[0;34m\u001b[0m\u001b[0m\n\u001b[0m\u001b[1;32m    123\u001b[0m \u001b[0;34m\u001b[0m\u001b[0m\n\u001b[1;32m    124\u001b[0m     \u001b[0;34m@\u001b[0m\u001b[0mwraps\u001b[0m\u001b[0;34m(\u001b[0m\u001b[0mfn\u001b[0m\u001b[0;34m)\u001b[0m\u001b[0;34m\u001b[0m\u001b[0;34m\u001b[0m\u001b[0m\n",
      "\u001b[0;32m/opt/anaconda3/lib/python3.7/contextlib.py\u001b[0m in \u001b[0;36minner\u001b[0;34m(*args, **kwds)\u001b[0m\n\u001b[1;32m     72\u001b[0m         \u001b[0;32mdef\u001b[0m \u001b[0minner\u001b[0m\u001b[0;34m(\u001b[0m\u001b[0;34m*\u001b[0m\u001b[0margs\u001b[0m\u001b[0;34m,\u001b[0m \u001b[0;34m**\u001b[0m\u001b[0mkwds\u001b[0m\u001b[0;34m)\u001b[0m\u001b[0;34m:\u001b[0m\u001b[0;34m\u001b[0m\u001b[0;34m\u001b[0m\u001b[0m\n\u001b[1;32m     73\u001b[0m             \u001b[0;32mwith\u001b[0m \u001b[0mself\u001b[0m\u001b[0;34m.\u001b[0m\u001b[0m_recreate_cm\u001b[0m\u001b[0;34m(\u001b[0m\u001b[0;34m)\u001b[0m\u001b[0;34m:\u001b[0m\u001b[0;34m\u001b[0m\u001b[0;34m\u001b[0m\u001b[0m\n\u001b[0;32m---> 74\u001b[0;31m                 \u001b[0;32mreturn\u001b[0m \u001b[0mfunc\u001b[0m\u001b[0;34m(\u001b[0m\u001b[0;34m*\u001b[0m\u001b[0margs\u001b[0m\u001b[0;34m,\u001b[0m \u001b[0;34m**\u001b[0m\u001b[0mkwds\u001b[0m\u001b[0;34m)\u001b[0m\u001b[0;34m\u001b[0m\u001b[0;34m\u001b[0m\u001b[0m\n\u001b[0m\u001b[1;32m     75\u001b[0m         \u001b[0;32mreturn\u001b[0m \u001b[0minner\u001b[0m\u001b[0;34m\u001b[0m\u001b[0;34m\u001b[0m\u001b[0m\n\u001b[1;32m     76\u001b[0m \u001b[0;34m\u001b[0m\u001b[0m\n",
      "\u001b[0;32m/opt/anaconda3/lib/python3.7/site-packages/pennylane/_qubit_device.py\u001b[0m in \u001b[0;36mbatch_execute\u001b[0;34m(self, circuits)\u001b[0m\n\u001b[1;32m    584\u001b[0m \u001b[0;34m\u001b[0m\u001b[0m\n\u001b[1;32m    585\u001b[0m             \u001b[0;31m# TODO: Insert control on value here\u001b[0m\u001b[0;34m\u001b[0m\u001b[0;34m\u001b[0m\u001b[0;34m\u001b[0m\u001b[0m\n\u001b[0;32m--> 586\u001b[0;31m             \u001b[0mres\u001b[0m \u001b[0;34m=\u001b[0m \u001b[0mself\u001b[0m\u001b[0;34m.\u001b[0m\u001b[0mexecute\u001b[0m\u001b[0;34m(\u001b[0m\u001b[0mcircuit\u001b[0m\u001b[0;34m)\u001b[0m\u001b[0;34m\u001b[0m\u001b[0;34m\u001b[0m\u001b[0m\n\u001b[0m\u001b[1;32m    587\u001b[0m             \u001b[0mresults\u001b[0m\u001b[0;34m.\u001b[0m\u001b[0mappend\u001b[0m\u001b[0;34m(\u001b[0m\u001b[0mres\u001b[0m\u001b[0;34m)\u001b[0m\u001b[0;34m\u001b[0m\u001b[0;34m\u001b[0m\u001b[0m\n\u001b[1;32m    588\u001b[0m \u001b[0;34m\u001b[0m\u001b[0m\n",
      "\u001b[0;32m/opt/anaconda3/lib/python3.7/site-packages/pennylane/_qubit_device.py\u001b[0m in \u001b[0;36mexecute\u001b[0;34m(self, circuit, **kwargs)\u001b[0m\n\u001b[1;32m    313\u001b[0m \u001b[0;34m\u001b[0m\u001b[0m\n\u001b[1;32m    314\u001b[0m         \u001b[0;31m# apply all circuit operations\u001b[0m\u001b[0;34m\u001b[0m\u001b[0;34m\u001b[0m\u001b[0;34m\u001b[0m\u001b[0m\n\u001b[0;32m--> 315\u001b[0;31m         \u001b[0mself\u001b[0m\u001b[0;34m.\u001b[0m\u001b[0mapply\u001b[0m\u001b[0;34m(\u001b[0m\u001b[0mcircuit\u001b[0m\u001b[0;34m.\u001b[0m\u001b[0moperations\u001b[0m\u001b[0;34m,\u001b[0m \u001b[0mrotations\u001b[0m\u001b[0;34m=\u001b[0m\u001b[0mcircuit\u001b[0m\u001b[0;34m.\u001b[0m\u001b[0mdiagonalizing_gates\u001b[0m\u001b[0;34m,\u001b[0m \u001b[0;34m**\u001b[0m\u001b[0mkwargs\u001b[0m\u001b[0;34m)\u001b[0m\u001b[0;34m\u001b[0m\u001b[0;34m\u001b[0m\u001b[0m\n\u001b[0m\u001b[1;32m    316\u001b[0m \u001b[0;34m\u001b[0m\u001b[0m\n\u001b[1;32m    317\u001b[0m         \u001b[0;31m# generate computational basis samples\u001b[0m\u001b[0;34m\u001b[0m\u001b[0;34m\u001b[0m\u001b[0;34m\u001b[0m\u001b[0m\n",
      "\u001b[0;32m/opt/anaconda3/lib/python3.7/site-packages/pennylane/devices/default_qubit.py\u001b[0m in \u001b[0;36mapply\u001b[0;34m(self, operations, rotations, **kwargs)\u001b[0m\n\u001b[1;32m    244\u001b[0m \u001b[0;34m\u001b[0m\u001b[0m\n\u001b[1;32m    245\u001b[0m             \u001b[0;32mif\u001b[0m \u001b[0misinstance\u001b[0m\u001b[0;34m(\u001b[0m\u001b[0moperation\u001b[0m\u001b[0;34m,\u001b[0m \u001b[0mQubitStateVector\u001b[0m\u001b[0;34m)\u001b[0m\u001b[0;34m:\u001b[0m\u001b[0;34m\u001b[0m\u001b[0;34m\u001b[0m\u001b[0m\n\u001b[0;32m--> 246\u001b[0;31m                 \u001b[0mself\u001b[0m\u001b[0;34m.\u001b[0m\u001b[0m_apply_state_vector\u001b[0m\u001b[0;34m(\u001b[0m\u001b[0moperation\u001b[0m\u001b[0;34m.\u001b[0m\u001b[0mparameters\u001b[0m\u001b[0;34m[\u001b[0m\u001b[0;36m0\u001b[0m\u001b[0;34m]\u001b[0m\u001b[0;34m,\u001b[0m \u001b[0moperation\u001b[0m\u001b[0;34m.\u001b[0m\u001b[0mwires\u001b[0m\u001b[0;34m)\u001b[0m\u001b[0;34m\u001b[0m\u001b[0;34m\u001b[0m\u001b[0m\n\u001b[0m\u001b[1;32m    247\u001b[0m             \u001b[0;32melif\u001b[0m \u001b[0misinstance\u001b[0m\u001b[0;34m(\u001b[0m\u001b[0moperation\u001b[0m\u001b[0;34m,\u001b[0m \u001b[0mBasisState\u001b[0m\u001b[0;34m)\u001b[0m\u001b[0;34m:\u001b[0m\u001b[0;34m\u001b[0m\u001b[0;34m\u001b[0m\u001b[0m\n\u001b[1;32m    248\u001b[0m                 \u001b[0mself\u001b[0m\u001b[0;34m.\u001b[0m\u001b[0m_apply_basis_state\u001b[0m\u001b[0;34m(\u001b[0m\u001b[0moperation\u001b[0m\u001b[0;34m.\u001b[0m\u001b[0mparameters\u001b[0m\u001b[0;34m[\u001b[0m\u001b[0;36m0\u001b[0m\u001b[0;34m]\u001b[0m\u001b[0;34m,\u001b[0m \u001b[0moperation\u001b[0m\u001b[0;34m.\u001b[0m\u001b[0mwires\u001b[0m\u001b[0;34m)\u001b[0m\u001b[0;34m\u001b[0m\u001b[0;34m\u001b[0m\u001b[0m\n",
      "\u001b[0;32m/opt/anaconda3/lib/python3.7/site-packages/pennylane/devices/default_qubit.py\u001b[0m in \u001b[0;36m_apply_state_vector\u001b[0;34m(self, state, device_wires)\u001b[0m\n\u001b[1;32m    682\u001b[0m \u001b[0;34m\u001b[0m\u001b[0m\n\u001b[1;32m    683\u001b[0m         \u001b[0;32mif\u001b[0m \u001b[0;32mnot\u001b[0m \u001b[0;34m(\u001b[0m\u001b[0mstate\u001b[0m\u001b[0;34m.\u001b[0m\u001b[0mshape\u001b[0m \u001b[0;32min\u001b[0m \u001b[0;34m[\u001b[0m\u001b[0;34m(\u001b[0m\u001b[0mdim\u001b[0m\u001b[0;34m,\u001b[0m\u001b[0;34m)\u001b[0m\u001b[0;34m,\u001b[0m \u001b[0;34m(\u001b[0m\u001b[0mbatch_size\u001b[0m\u001b[0;34m,\u001b[0m \u001b[0mdim\u001b[0m\u001b[0;34m)\u001b[0m\u001b[0;34m]\u001b[0m\u001b[0;34m)\u001b[0m\u001b[0;34m:\u001b[0m\u001b[0;34m\u001b[0m\u001b[0;34m\u001b[0m\u001b[0m\n\u001b[0;32m--> 684\u001b[0;31m             \u001b[0;32mraise\u001b[0m \u001b[0mValueError\u001b[0m\u001b[0;34m(\u001b[0m\u001b[0;34m\"State vector must have shape (2**wires,) or (batch_size, 2**wires).\"\u001b[0m\u001b[0;34m)\u001b[0m\u001b[0;34m\u001b[0m\u001b[0;34m\u001b[0m\u001b[0m\n\u001b[0m\u001b[1;32m    685\u001b[0m \u001b[0;34m\u001b[0m\u001b[0m\n\u001b[1;32m    686\u001b[0m         \u001b[0;32mif\u001b[0m \u001b[0;32mnot\u001b[0m \u001b[0mqml\u001b[0m\u001b[0;34m.\u001b[0m\u001b[0mmath\u001b[0m\u001b[0;34m.\u001b[0m\u001b[0mis_abstract\u001b[0m\u001b[0;34m(\u001b[0m\u001b[0mstate\u001b[0m\u001b[0;34m)\u001b[0m\u001b[0;34m:\u001b[0m\u001b[0;34m\u001b[0m\u001b[0;34m\u001b[0m\u001b[0m\n",
      "\u001b[0;31mValueError\u001b[0m: State vector must have shape (2**wires,) or (batch_size, 2**wires)."
     ]
    }
   ],
   "source": [
    "max_repeat = 1 #100\n",
    "iter_max = 300  #300\n",
    "num_of_layers = 3\n",
    "prb_last_list = []\n",
    "obj_list_rep = []\n",
    "theta_list = []\n",
    "debug_flag, print_flag = 0, True\n",
    "start_time = datetime.datetime.now()\n",
    "\n",
    "\n",
    "probs_last = []\n",
    "\n",
    "\n",
    "for rep in range(1,max_repeat+1):\n",
    "    if print_flag:\n",
    "        print(f'\\n\\nrep={rep}')\n",
    "    else:\n",
    "        print(f'\\n\\nrep={rep}', end='  ')\n",
    "    \n",
    "    optimizer = AdamOptimizer(0.05, beta1=0.9, beta2=0.999)\n",
    "    theta=qml_np.random.uniform(0, 2*math.pi, size=(num_of_layers, num_of_qubits-1), requires_grad=True)\n",
    "    obj_list = []\n",
    "    for iter in range(1, iter_max+1):    \n",
    "        theta, obj = optimizer.step_and_cost(objective_fn, theta)\n",
    "        val1_1 = quantum_circuit_with_HT(theta)\n",
    "        val1_2 = quantum_circuit_with_HTZ(theta)\n",
    "        val2 = quantum_circuit_no_HT_return_Z(theta)\n",
    "        if (iter==1 or iter%100==0 or iter==iter_max) and print_flag:\n",
    "            print(f'iter={iter:3d} :: obj={obj:12.8f} :: val1_1={val1_1:12.8f} \\\n",
    "                 :: val1_2={val1_2:12.8f} :: val2={val2:12.8f}  \\\n",
    "                 coef2*val2-0.5*(val1_1 - val1_2)={coef2*val2-0.5*(val1_1 - val1_2):12.8f}  \\\n",
    "                 :: theta={theta}')\n",
    "            # print(f'iter={iter:3d} :: obj={obj:12.8f} :: theta={theta}')\n",
    "        obj_list.append(obj)\n",
    "    theta_list.append(theta)\n",
    "    print(f'obj_list(last 3)={obj_list[-3:]}')\n",
    "    obj_list_rep.append(obj_list)\n",
    "    \n",
    "    ## display the amplified state\n",
    "    state = quantum_circuit_no_HT_return_state(theta)\n",
    "    prb = [i.item()**2 for i in state]\n",
    "    # print(f'state={state}')\n",
    "    probs_last = prb\n",
    "    if len(prb)>20:\n",
    "        print(f'prb(last 2)={prb[-2:]}')\n",
    "    else:\n",
    "        print(f'prb={prb}')\n",
    "    prb_last_list.append(prb[-1])\n",
    "    \n",
    "    \n",
    "    \n",
    "    \n",
    "    \n",
    "end_time = datetime.datetime.now()\n",
    "duration = end_time - start_time\n",
    "duration_in_s = duration.total_seconds()\n",
    "print(f'time consumed: {duration_in_s}s')"
   ]
  },
  {
   "cell_type": "code",
   "execution_count": null,
   "id": "718e1740",
   "metadata": {},
   "outputs": [
    {
     "name": "stdout",
     "output_type": "stream",
     "text": [
      "time now:  2023-03-16 07:00:30.744902\n",
      "1.0\n"
     ]
    }
   ],
   "source": [
    "print('time now: ', end_time)\n",
    "print(np.linalg.norm(1j))"
   ]
  },
  {
   "cell_type": "code",
   "execution_count": null,
   "id": "fea1c0a5",
   "metadata": {},
   "outputs": [
    {
     "name": "stderr",
     "output_type": "stream",
     "text": [
      "/opt/anaconda3/lib/python3.7/site-packages/matplotlib/transforms.py:796: ComplexWarning: Casting complex values to real discards the imaginary part\n",
      "  points = np.array(args, dtype=float).reshape(2, 2)\n"
     ]
    },
    {
     "data": {
      "image/png": "[encoded data removed]",
      "text/plain": [
       "<Figure size 432x288 with 1 Axes>"
      ]
     },
     "metadata": {
      "needs_background": "light"
     },
     "output_type": "display_data"
    }
   ],
   "source": [
    "x=[]\n",
    "y=[]\n",
    "results = probs_last\n",
    "for i in range(len(results)):\n",
    "    if(np.linalg.norm(results[i])>0.01):\n",
    "         x.append(np.binary_repr(i,3))\n",
    "         y.append(results[i])\n",
    "plt.bar(x,y);\n",
    "plt.xlabel('states');\n",
    "plt.ylabel('probability');\n",
    "# plt.xticks(rotation=90);\n",
    "plt.show()"
   ]
  }
 ],
 "metadata": {
  "kernelspec": {
   "display_name": "Python 3",
   "language": "python",
   "name": "python3"
  },
  "language_info": {
   "codemirror_mode": {
    "name": "ipython",
    "version": 3
   },
   "file_extension": ".py",
   "mimetype": "text/x-python",
   "name": "python",
   "nbconvert_exporter": "python",
   "pygments_lexer": "ipython3",
   "version": "3.7.6"
  }
 },
 "nbformat": 4,
 "nbformat_minor": 5
}

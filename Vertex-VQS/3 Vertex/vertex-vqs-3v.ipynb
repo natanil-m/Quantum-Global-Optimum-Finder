{
 "cells": [
  {
   "cell_type": "markdown",
   "id": "51563e4e-9c2d-4490-a30e-2361285fb8de",
   "metadata": {},
   "source": [
    "# use another position\n",
    "- initial_state2, 2nd last is flipped\n",
    "- has 2 circuits instead of 3 circuits.  11/16/2022"
   ]
  },
  {
   "cell_type": "code",
   "execution_count": 2,
   "id": "244f3c91",
   "metadata": {
    "scrolled": true
   },
   "outputs": [],
   "source": [
    "# !pip install pennylane\n",
    "# !pip install pennylane-qiskit"
   ]
  },
  {
   "cell_type": "code",
   "execution_count": 3,
   "id": "c9a9a96f-1ffe-4a1e-bf0e-b163cd430420",
   "metadata": {},
   "outputs": [],
   "source": [
    "# !pip install pennylane-lightning"
   ]
  },
  {
   "cell_type": "code",
   "execution_count": 4,
   "id": "5ec26cd5-2c29-4d16-afce-c0e7e39ef22a",
   "metadata": {},
   "outputs": [],
   "source": [
    "# !pip install pennylane-lightning[gpu]  # has erro"
   ]
  },
  {
   "cell_type": "code",
   "execution_count": 5,
   "id": "9e736988",
   "metadata": {
    "scrolled": true
   },
   "outputs": [],
   "source": [
    "import numpy as np\n",
    "from pennylane.optimize import AdamOptimizer\n",
    "from pennylane import numpy as qml_np\n",
    "import pennylane as qml\n",
    "\n",
    "import math\n",
    "import matplotlib.pyplot as plt\n",
    "import datetime"
   ]
  },
  {
   "cell_type": "markdown",
   "id": "c9d24f20-1107-49de-894c-a8542fd49480",
   "metadata": {},
   "source": [
    "# 2nd last flipped"
   ]
  },
  {
   "cell_type": "code",
   "execution_count": 6,
   "id": "9415dd44",
   "metadata": {
    "scrolled": true
   },
   "outputs": [
    {
     "name": "stdout",
     "output_type": "stream",
     "text": [
      "initial_state_phi1=[0.5, 0.5, 0, 0.5, 0, 0, 0.5, 0]\n"
     ]
    }
   ],
   "source": [
    "num_of_qubits = 1+3\n",
    "N = 2**(num_of_qubits-2)\n",
    "\n",
    "\n",
    "initial_state2 = [1/math.sqrt(N)]*(N-2) + [0, 1/math.sqrt(N)] + [0]*(N-2) + [1/math.sqrt(N), 0] # 2**(num_qubits-1)\n",
    "initial_state_phi1 = initial_state2\n",
    "print(f'initial_state_phi1={initial_state_phi1}')\n",
    "initial_state_0_phi1  = initial_state_phi1 + [0]*len(initial_state_phi1) # 2**num_of_qubits\n",
    "\n"
   ]
  },
  {
   "cell_type": "code",
   "execution_count": 22,
   "id": "3e1cbbaa",
   "metadata": {},
   "outputs": [
    {
     "data": {
      "image/png": "[encoded data removed]",
      "text/plain": [
       "<Figure size 432x288 with 1 Axes>"
      ]
     },
     "metadata": {
      "needs_background": "light"
     },
     "output_type": "display_data"
    }
   ],
   "source": [
    "x=[]\n",
    "y=[]\n",
    "results = initial_state_0_phi1\n",
    "for i in range(len(results)):\n",
    "    if(np.linalg.norm(results[i])>0.01):\n",
    "         x.append(np.binary_repr(i,3))\n",
    "         y.append(results[i])\n",
    "plt.bar(x,y);\n",
    "plt.xlabel('states');\n",
    "plt.ylabel('probability');\n",
    "# plt.xticks(rotation=90);\n",
    "plt.show()"
   ]
  },
  {
   "cell_type": "code",
   "execution_count": 7,
   "id": "1bae71f0-e8ee-4384-b258-a645c220fd0d",
   "metadata": {},
   "outputs": [],
   "source": [
    "## three quantum circuits\n",
    "def layer_with_HT(theta):\n",
    "    for i in range(num_of_qubits-1):\n",
    "        qml.CRY(theta[i], wires=(0,i+1))\n",
    "    for i in range(num_of_qubits-2):\n",
    "        qml.Toffoli(wires=(0,i+1,i+2))\n",
    "\n",
    "        \n",
    "def layer_no_HT(theta, qubit_posi):\n",
    "    for i in range(num_of_qubits-1):\n",
    "        qml.RY(theta[i], wires=(qubit_posi[i]))\n",
    "    for i in range(num_of_qubits-2):\n",
    "        qml.CNOT(wires=(qubit_posi[i],qubit_posi[i+1]))\n"
   ]
  },
  {
   "cell_type": "code",
   "execution_count": 8,
   "id": "a09991a7",
   "metadata": {
    "scrolled": true
   },
   "outputs": [],
   "source": [
    "device_name = 'default.qubit'  #'default.qubit' # \n",
    "device_name2 = 'default.qubit' # has qml.state()"
   ]
  },
  {
   "cell_type": "code",
   "execution_count": 9,
   "id": "9d027bd2",
   "metadata": {
    "scrolled": true
   },
   "outputs": [
    {
     "name": "stdout",
     "output_type": "stream",
     "text": [
      "0: ─╭QubitStateVector(M0)──H─╭●────────╭●────────╭●────────╭●─╭●──H─┤  <Z>\n",
      "1: ─├QubitStateVector(M0)────╰RY(0.10)─│─────────│─────────├●─│─────┤     \n",
      "2: ─├QubitStateVector(M0)──────────────╰RY(0.10)─│─────────╰X─├●────┤     \n",
      "3: ─╰QubitStateVector(M0)────────────────────────╰RY(0.10)────╰X────┤     \n"
     ]
    }
   ],
   "source": [
    "\n",
    "        \n",
    "# dev_with_HT=qml.device(device_name2, wires=num_of_qubits+1) #AerDevice(wires=num_of_qubits, shots=20000, backend='qasm_simulator')\n",
    "dev_with_HT=qml.device(device_name, wires=num_of_qubits)\n",
    "@qml.qnode(dev_with_HT)\n",
    "def quantum_circuit_with_HT(theta):\n",
    "    # initiate state vector |phi_1>\n",
    "    qml.QubitStateVector(np.array(initial_state_0_phi1), wires=range(num_of_qubits))\n",
    "    qml.Hadamard(0)\n",
    "    for theta_i in theta:\n",
    "        layer_with_HT(theta_i)\n",
    "    qml.Hadamard(0)    \n",
    "    return qml.expval(qml.PauliZ(0)) \n",
    "\n",
    "print(qml.draw(quantum_circuit_with_HT)([[0.1]*(num_of_qubits-1)]))\n",
    "\n",
    "\n",
    "\n"
   ]
  },
  {
   "cell_type": "code",
   "execution_count": 10,
   "id": "b019fe2d-39c1-4fc5-9549-322c0b563b90",
   "metadata": {},
   "outputs": [
    {
     "name": "stdout",
     "output_type": "stream",
     "text": [
      "newly added\n",
      "0: ─╭QubitStateVector(M0)──H─╭●────────╭●────────╭●────────╭●─╭●─╭●──H─┤  <Z>\n",
      "1: ─├QubitStateVector(M0)────╰RY(0.10)─│─────────│─────────├●─│──╰Z────┤     \n",
      "2: ─├QubitStateVector(M0)──────────────╰RY(0.10)─│─────────╰X─├●───────┤     \n",
      "3: ─╰QubitStateVector(M0)────────────────────────╰RY(0.10)────╰X───────┤     \n",
      "newly added 2\n",
      "0: ─╭QubitStateVector(M0)──RY(0.20)─╭●────┤  <Z>\n",
      "1: ─├QubitStateVector(M0)──RY(0.20)─╰X─╭●─┤     \n",
      "2: ─╰QubitStateVector(M0)──RY(0.20)────╰X─┤     \n",
      "newly added 3\n"
     ]
    }
   ],
   "source": [
    "\n",
    "# dev_with_HTZ=qml.device(device_name2, wires=num_of_qubits+1) #AerDevice(wires=num_of_qubits, shots=20000, backend='qasm_simulator')\n",
    "dev_with_HTZ=qml.device(device_name, wires=num_of_qubits)\n",
    "@qml.qnode(dev_with_HTZ)\n",
    "def quantum_circuit_with_HTZ(theta):\n",
    "    # initiate state vector |phi_1>\n",
    "    qml.QubitStateVector(np.array(initial_state_0_phi1), wires=range(num_of_qubits))\n",
    "    qml.Hadamard(0)\n",
    "    for theta_i in theta:\n",
    "        layer_with_HT(theta_i)\n",
    "    qml.CZ([0,1])\n",
    "    qml.Hadamard(0)    \n",
    "    return qml.expval(qml.PauliZ(0)) \n",
    "\n",
    "print('newly added')\n",
    "print(qml.draw(quantum_circuit_with_HTZ)([[0.1]*(num_of_qubits-1)]))\n",
    "\n",
    "\n",
    "\n",
    "# dev_no_HT_Z=qml.device(device_name2, wires=num_of_qubits+1) #AerDevice(wires=num_of_qubits-1, shots=20000, backend='qasm_simulator')\n",
    "dev_no_HT_Z=qml.device(device_name, wires=num_of_qubits-1)        \n",
    "@qml.qnode(dev_no_HT_Z)\n",
    "def quantum_circuit_no_HT_return_Z(theta):\n",
    "    # initiate state vector |phi_1>\n",
    "    qml.QubitStateVector(np.array(initial_state_phi1), wires=range(num_of_qubits-1))\n",
    "    for theta_i in theta:\n",
    "        layer_no_HT(theta_i, list(range(num_of_qubits-1)))\n",
    "    \n",
    "    return qml.expval(qml.PauliZ(0))  \n",
    "    # return qml.sample(qml.PauliZ(0)) \n",
    "print('newly added 2')   \n",
    "print(qml.draw(quantum_circuit_no_HT_return_Z)([[0.2]*(num_of_qubits-1)]))\n",
    "\n",
    "\n",
    "\n",
    "# dev_no_HT_S=qml.device(device_name2, wires=num_of_qubits+1) #AerDevice(wires=num_of_qubits-1, backend='qasm_simulator')\n",
    "dev_no_HT_S=qml.device(device_name2, wires=num_of_qubits-1)  \n",
    "@qml.qnode(dev_no_HT_S)\n",
    "def quantum_circuit_no_HT_return_state(theta):\n",
    "    # initiate state vector |phi_1>\n",
    "    qml.QubitStateVector(np.array(initial_state_phi1), wires=range(num_of_qubits-1))\n",
    "    for theta_i in theta:\n",
    "        layer_no_HT(theta_i, list(range(num_of_qubits-1)))    \n",
    "    return qml.state()\n",
    "\n",
    "print('newly added 3')"
   ]
  },
  {
   "cell_type": "code",
   "execution_count": 11,
   "id": "67b13f54",
   "metadata": {
    "scrolled": true
   },
   "outputs": [],
   "source": [
    "coef2 = 1\n",
    "def objective_fn(theta):\n",
    "    val1_1 = quantum_circuit_with_HT(theta)\n",
    "    val1_2 = quantum_circuit_with_HTZ(theta)\n",
    "#     val2 = quantum_circuit_no_HT_return_Z(theta)\n",
    "#     return coef2*val2-0.5*(val1_1 - val1_2)\n",
    "    return -0.5*(val1_1 - val1_2)"
   ]
  },
  {
   "cell_type": "code",
   "execution_count": 12,
   "id": "fa8a3c37",
   "metadata": {
    "scrolled": true
   },
   "outputs": [
    {
     "name": "stdout",
     "output_type": "stream",
     "text": [
      "\n",
      "\n",
      "rep=1\n",
      "iter=  1 :: obj= -0.12713313 :: val1_1=  0.59210290                  :: val1_2=  0.27980986 :: val2= -0.00491764                   coef2*val2-0.5*(val1_1 - val1_2)= -0.16106417                   :: theta=[[6.13400694 1.58030991 5.87363253]\n",
      " [1.64771616 2.14381393 5.8292769 ]\n",
      " [6.19919409 1.51823081 4.82427097]]\n",
      "iter=100 :: obj= -0.49998472 :: val1_1=  0.50090090                  :: val1_2= -0.49907096 :: val2= -0.99992896                   coef2*val2-0.5*(val1_1 - val1_2)= -1.49991489                   :: theta=[[7.06053458 0.86977967 5.40725452]\n",
      " [2.30333178 1.37970242 5.12859156]\n",
      " [5.60426932 0.59921269 3.83689191]]\n",
      "iter=200 :: obj= -0.50000000 :: val1_1=  0.50000591                  :: val1_2= -0.49999409 :: val2= -1.00000000                   coef2*val2-0.5*(val1_1 - val1_2)= -1.50000000                   :: theta=[[7.06854963 0.85992691 5.40183147]\n",
      " [2.30658375 1.37599993 5.13081255]\n",
      " [5.6037581  0.5992939  3.8381423 ]]\n",
      "iter=300 :: obj= -0.50000000 :: val1_1=  0.50000002                  :: val1_2= -0.49999998 :: val2= -1.00000000                   coef2*val2-0.5*(val1_1 - val1_2)= -1.50000000                   :: theta=[[7.06858338 0.85989293 5.40178659]\n",
      " [2.30657015 1.37598507 5.13082287]\n",
      " [5.60376921 0.59929824 3.83816039]]\n",
      "obj_list(last 3)=[-0.4999999999999867, -0.4999999999999887, -0.49999999999999106]\n",
      "prb=[(7.608169608804538e-15+0j), (6.444274040570762e-16+0j), (1.6528179410267532e-16+0j), (3.959529998956901e-15+0j), (4.402765376016493e-16+0j), (4.3648482166554474e-17+0j), (0.9999999999999771+0j), (9.944920651066583e-15+0j)]\n",
      "time consumed: 27.603892s\n"
     ]
    }
   ],
   "source": [
    "max_repeat = 1 #100\n",
    "iter_max = 300  #300\n",
    "num_of_layers = 3\n",
    "prb_last_list = []\n",
    "obj_list_rep = []\n",
    "theta_list = []\n",
    "debug_flag, print_flag = 0, True\n",
    "start_time = datetime.datetime.now()\n",
    "\n",
    "\n",
    "probs_last = []\n",
    "\n",
    "\n",
    "for rep in range(1,max_repeat+1):\n",
    "    if print_flag:\n",
    "        print(f'\\n\\nrep={rep}')\n",
    "    else:\n",
    "        print(f'\\n\\nrep={rep}', end='  ')\n",
    "    \n",
    "    optimizer = AdamOptimizer(0.05, beta1=0.9, beta2=0.999)\n",
    "    theta=qml_np.random.uniform(0, 2*math.pi, size=(num_of_layers, num_of_qubits-1), requires_grad=True)\n",
    "    obj_list = []\n",
    "    for iter in range(1, iter_max+1):    \n",
    "        theta, obj = optimizer.step_and_cost(objective_fn, theta)\n",
    "        val1_1 = quantum_circuit_with_HT(theta)\n",
    "        val1_2 = quantum_circuit_with_HTZ(theta)\n",
    "        val2 = quantum_circuit_no_HT_return_Z(theta)\n",
    "        if (iter==1 or iter%100==0 or iter==iter_max) and print_flag:\n",
    "            print(f'iter={iter:3d} :: obj={obj:12.8f} :: val1_1={val1_1:12.8f} \\\n",
    "                 :: val1_2={val1_2:12.8f} :: val2={val2:12.8f}  \\\n",
    "                 coef2*val2-0.5*(val1_1 - val1_2)={coef2*val2-0.5*(val1_1 - val1_2):12.8f}  \\\n",
    "                 :: theta={theta}')\n",
    "            # print(f'iter={iter:3d} :: obj={obj:12.8f} :: theta={theta}')\n",
    "        obj_list.append(obj)\n",
    "    theta_list.append(theta)\n",
    "    print(f'obj_list(last 3)={obj_list[-3:]}')\n",
    "    obj_list_rep.append(obj_list)\n",
    "    \n",
    "    ## display the amplified state\n",
    "    state = quantum_circuit_no_HT_return_state(theta)\n",
    "    prb = [i.item()**2 for i in state]\n",
    "    # print(f'state={state}')\n",
    "    probs_last = prb\n",
    "    if len(prb)>20:\n",
    "        print(f'prb(last 2)={prb[-2:]}')\n",
    "    else:\n",
    "        print(f'prb={prb}')\n",
    "    prb_last_list.append(prb[-1])\n",
    "    \n",
    "    \n",
    "    \n",
    "    \n",
    "    \n",
    "end_time = datetime.datetime.now()\n",
    "duration = end_time - start_time\n",
    "duration_in_s = duration.total_seconds()\n",
    "print(f'time consumed: {duration_in_s}s')"
   ]
  },
  {
   "cell_type": "code",
   "execution_count": 16,
   "id": "718e1740",
   "metadata": {},
   "outputs": [
    {
     "name": "stdout",
     "output_type": "stream",
     "text": [
      "time now:  2023-03-16 06:49:05.056700\n",
      "1.0\n"
     ]
    }
   ],
   "source": [
    "print('time now: ', end_time)\n",
    "print(np.linalg.norm(1j))"
   ]
  },
  {
   "cell_type": "code",
   "execution_count": 21,
   "id": "fea1c0a5",
   "metadata": {},
   "outputs": [
    {
     "data": {
      "image/png": "[encoded data removed]",
      "text/plain": [
       "<Figure size 432x288 with 1 Axes>"
      ]
     },
     "metadata": {
      "needs_background": "light"
     },
     "output_type": "display_data"
    }
   ],
   "source": [
    "x=[]\n",
    "y=[]\n",
    "results = probs_last\n",
    "for i in range(len(results)):\n",
    "    if(np.linalg.norm(results[i])>0.01):\n",
    "         x.append(np.binary_repr(i,3))\n",
    "         y.append(results[i])\n",
    "plt.bar(x,y);\n",
    "plt.xlabel('states');\n",
    "plt.ylabel('probability');\n",
    "# plt.xticks(rotation=90);\n",
    "plt.show()"
   ]
  }
 ],
 "metadata": {
  "kernelspec": {
   "display_name": "Python 3",
   "language": "python",
   "name": "python3"
  },
  "language_info": {
   "codemirror_mode": {
    "name": "ipython",
    "version": 3
   },
   "file_extension": ".py",
   "mimetype": "text/x-python",
   "name": "python",
   "nbconvert_exporter": "python",
   "pygments_lexer": "ipython3",
   "version": "3.7.6"
  }
 },
 "nbformat": 4,
 "nbformat_minor": 5
}

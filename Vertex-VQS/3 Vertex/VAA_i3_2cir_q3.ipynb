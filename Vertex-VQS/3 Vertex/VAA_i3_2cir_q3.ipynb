{
 "cells": [
  {
   "cell_type": "markdown",
   "id": "51563e4e-9c2d-4490-a30e-2361285fb8de",
   "metadata": {},
   "source": [
    "# use another position\n",
    "- initial_state2, 2nd last is flipped\n",
    "- has 2 circuits instead of 3 circuits.  11/16/2022"
   ]
  },
  {
   "cell_type": "code",
   "execution_count": 25,
   "id": "244f3c91",
   "metadata": {
    "scrolled": true
   },
   "outputs": [],
   "source": [
    "# !pip install pennylane\n",
    "# !pip install pennylane-qiskit"
   ]
  },
  {
   "cell_type": "code",
   "execution_count": 26,
   "id": "c9a9a96f-1ffe-4a1e-bf0e-b163cd430420",
   "metadata": {},
   "outputs": [],
   "source": [
    "# !pip install pennylane-lightning"
   ]
  },
  {
   "cell_type": "code",
   "execution_count": 27,
   "id": "5ec26cd5-2c29-4d16-afce-c0e7e39ef22a",
   "metadata": {},
   "outputs": [],
   "source": [
    "# !pip install pennylane-lightning[gpu]  # has erro"
   ]
  },
  {
   "cell_type": "code",
   "execution_count": 28,
   "id": "9e736988",
   "metadata": {
    "scrolled": true
   },
   "outputs": [],
   "source": [
    "import numpy as np\n",
    "from pennylane.optimize import AdamOptimizer\n",
    "from pennylane import numpy as qml_np\n",
    "import pennylane as qml\n",
    "\n",
    "import math\n",
    "import matplotlib.pyplot as plt\n",
    "import datetime"
   ]
  },
  {
   "cell_type": "markdown",
   "id": "c9d24f20-1107-49de-894c-a8542fd49480",
   "metadata": {},
   "source": [
    "# 2nd last flipped"
   ]
  },
  {
   "cell_type": "code",
   "execution_count": 29,
   "id": "9415dd44",
   "metadata": {
    "scrolled": true
   },
   "outputs": [
    {
     "name": "stdout",
     "output_type": "stream",
     "text": [
      "initial_state_phi1=[0.5, 0.5, 0, 0.5, 0, 0, 0.5, 0]\n"
     ]
    }
   ],
   "source": [
    "num_of_qubits = 1+3\n",
    "N = 2**(num_of_qubits-2)\n",
    "\n",
    "\n",
    "initial_state2 = [1/math.sqrt(N)]*(N-2) + [0, 1/math.sqrt(N)] + [0]*(N-2) + [1/math.sqrt(N), 0] # 2**(num_qubits-1)\n",
    "initial_state_phi1 = initial_state2\n",
    "print(f'initial_state_phi1={initial_state_phi1}')\n",
    "initial_state_0_phi1  = initial_state_phi1 + [0]*len(initial_state_phi1) # 2**num_of_qubits\n",
    "\n"
   ]
  },
  {
   "cell_type": "code",
   "execution_count": 30,
   "id": "1bae71f0-e8ee-4384-b258-a645c220fd0d",
   "metadata": {},
   "outputs": [],
   "source": [
    "## three quantum circuits\n",
    "def layer_with_HT(theta):\n",
    "    for i in range(num_of_qubits-1):\n",
    "        qml.CRY(theta[i], wires=(0,i+1))\n",
    "    for i in range(num_of_qubits-2):\n",
    "        qml.Toffoli(wires=(0,i+1,i+2))\n",
    "\n",
    "        \n",
    "def layer_no_HT(theta, qubit_posi):\n",
    "    for i in range(num_of_qubits-1):\n",
    "        qml.RY(theta[i], wires=(qubit_posi[i]))\n",
    "    for i in range(num_of_qubits-2):\n",
    "        qml.CNOT(wires=(qubit_posi[i],qubit_posi[i+1]))\n"
   ]
  },
  {
   "cell_type": "code",
   "execution_count": 31,
   "id": "a09991a7",
   "metadata": {
    "scrolled": true
   },
   "outputs": [],
   "source": [
    "device_name = 'default.qubit'  #'default.qubit' # \n",
    "device_name2 = 'default.qubit' # has qml.state()"
   ]
  },
  {
   "cell_type": "code",
   "execution_count": 32,
   "id": "9d027bd2",
   "metadata": {
    "scrolled": true
   },
   "outputs": [
    {
     "name": "stdout",
     "output_type": "stream",
     "text": [
      "0: ─╭QubitStateVector(M0)──H─╭●────────╭●────────╭●────────╭●─╭●──H─┤  <Z>\n",
      "1: ─├QubitStateVector(M0)────╰RY(0.10)─│─────────│─────────├●─│─────┤     \n",
      "2: ─├QubitStateVector(M0)──────────────╰RY(0.10)─│─────────╰X─├●────┤     \n",
      "3: ─╰QubitStateVector(M0)────────────────────────╰RY(0.10)────╰X────┤     \n"
     ]
    }
   ],
   "source": [
    "\n",
    "        \n",
    "# dev_with_HT=qml.device(device_name2, wires=num_of_qubits+1) #AerDevice(wires=num_of_qubits, shots=20000, backend='qasm_simulator')\n",
    "dev_with_HT=qml.device(device_name, wires=num_of_qubits)\n",
    "@qml.qnode(dev_with_HT)\n",
    "def quantum_circuit_with_HT(theta):\n",
    "    # initiate state vector |phi_1>\n",
    "    qml.QubitStateVector(np.array(initial_state_0_phi1), wires=range(num_of_qubits))\n",
    "    qml.Hadamard(0)\n",
    "    for theta_i in theta:\n",
    "        layer_with_HT(theta_i)\n",
    "    qml.Hadamard(0)    \n",
    "    return qml.expval(qml.PauliZ(0)) \n",
    "\n",
    "print(qml.draw(quantum_circuit_with_HT)([[0.1]*(num_of_qubits-1)]))\n",
    "\n",
    "\n",
    "\n"
   ]
  },
  {
   "cell_type": "code",
   "execution_count": 33,
   "id": "b019fe2d-39c1-4fc5-9549-322c0b563b90",
   "metadata": {},
   "outputs": [
    {
     "name": "stdout",
     "output_type": "stream",
     "text": [
      "newly added\n",
      "0: ─╭QubitStateVector(M0)──H─╭●────────╭●────────╭●────────╭●─╭●─╭●──H─┤  <Z>\n",
      "1: ─├QubitStateVector(M0)────╰RY(0.10)─│─────────│─────────├●─│──╰Z────┤     \n",
      "2: ─├QubitStateVector(M0)──────────────╰RY(0.10)─│─────────╰X─├●───────┤     \n",
      "3: ─╰QubitStateVector(M0)────────────────────────╰RY(0.10)────╰X───────┤     \n",
      "newly added 2\n",
      "0: ─╭QubitStateVector(M0)──RY(0.20)─╭●────┤  <Z>\n",
      "1: ─├QubitStateVector(M0)──RY(0.20)─╰X─╭●─┤     \n",
      "2: ─╰QubitStateVector(M0)──RY(0.20)────╰X─┤     \n",
      "newly added 3\n"
     ]
    }
   ],
   "source": [
    "\n",
    "# dev_with_HTZ=qml.device(device_name2, wires=num_of_qubits+1) #AerDevice(wires=num_of_qubits, shots=20000, backend='qasm_simulator')\n",
    "dev_with_HTZ=qml.device(device_name, wires=num_of_qubits)\n",
    "@qml.qnode(dev_with_HTZ)\n",
    "def quantum_circuit_with_HTZ(theta):\n",
    "    # initiate state vector |phi_1>\n",
    "    qml.QubitStateVector(np.array(initial_state_0_phi1), wires=range(num_of_qubits))\n",
    "    qml.Hadamard(0)\n",
    "    for theta_i in theta:\n",
    "        layer_with_HT(theta_i)\n",
    "    qml.CZ([0,1])\n",
    "    qml.Hadamard(0)    \n",
    "    return qml.expval(qml.PauliZ(0)) \n",
    "\n",
    "print('newly added')\n",
    "print(qml.draw(quantum_circuit_with_HTZ)([[0.1]*(num_of_qubits-1)]))\n",
    "\n",
    "\n",
    "\n",
    "# dev_no_HT_Z=qml.device(device_name2, wires=num_of_qubits+1) #AerDevice(wires=num_of_qubits-1, shots=20000, backend='qasm_simulator')\n",
    "dev_no_HT_Z=qml.device(device_name, wires=num_of_qubits-1)        \n",
    "@qml.qnode(dev_no_HT_Z)\n",
    "def quantum_circuit_no_HT_return_Z(theta):\n",
    "    # initiate state vector |phi_1>\n",
    "    qml.QubitStateVector(np.array(initial_state_phi1), wires=range(num_of_qubits-1))\n",
    "    for theta_i in theta:\n",
    "        layer_no_HT(theta_i, list(range(num_of_qubits-1)))\n",
    "    \n",
    "    return qml.expval(qml.PauliZ(0))  \n",
    "    # return qml.sample(qml.PauliZ(0)) \n",
    "print('newly added 2')   \n",
    "print(qml.draw(quantum_circuit_no_HT_return_Z)([[0.2]*(num_of_qubits-1)]))\n",
    "\n",
    "\n",
    "\n",
    "# dev_no_HT_S=qml.device(device_name2, wires=num_of_qubits+1) #AerDevice(wires=num_of_qubits-1, backend='qasm_simulator')\n",
    "dev_no_HT_S=qml.device(device_name2, wires=num_of_qubits-1)  \n",
    "@qml.qnode(dev_no_HT_S)\n",
    "def quantum_circuit_no_HT_return_state(theta):\n",
    "    # initiate state vector |phi_1>\n",
    "    qml.QubitStateVector(np.array(initial_state_phi1), wires=range(num_of_qubits-1))\n",
    "    for theta_i in theta:\n",
    "        layer_no_HT(theta_i, list(range(num_of_qubits-1)))    \n",
    "    return qml.state()\n",
    "\n",
    "print('newly added 3')"
   ]
  },
  {
   "cell_type": "code",
   "execution_count": 34,
   "id": "67b13f54",
   "metadata": {
    "scrolled": true
   },
   "outputs": [],
   "source": [
    "coef2 = 1\n",
    "def objective_fn(theta):\n",
    "    val1_1 = quantum_circuit_with_HT(theta)\n",
    "    val1_2 = quantum_circuit_with_HTZ(theta)\n",
    "#     val2 = quantum_circuit_no_HT_return_Z(theta)\n",
    "#     return coef2*val2-0.5*(val1_1 - val1_2)\n",
    "    return -0.5*(val1_1 - val1_2)"
   ]
  },
  {
   "cell_type": "code",
   "execution_count": 35,
   "id": "fa8a3c37",
   "metadata": {
    "scrolled": true
   },
   "outputs": [
    {
     "name": "stdout",
     "output_type": "stream",
     "text": [
      "\n",
      "\n",
      "rep=1\n",
      "iter=  1 :: obj=  0.01760640 :: val1_1= -0.39411074                  :: val1_2= -0.44067018 :: val2=  0.30898293                   coef2*val2-0.5*(val1_1 - val1_2)=  0.28570321                   :: theta=[[3.87531318 2.04032544 1.37355827]\n",
      " [0.86866042 3.12653155 1.6380021 ]\n",
      " [3.26262595 4.35987594 4.08205099]]\n",
      "iter=100 :: obj= -0.49999102 :: val1_1=  0.50181302                  :: val1_2= -0.49817207 :: val2= -0.99994517                   coef2*val2-0.5*(val1_1 - val1_2)= -1.49993771                   :: theta=[[ 3.92231311  1.01684323 -0.11622893]\n",
      " [ 1.57758722  3.77303614  1.65861811]\n",
      " [ 2.30794279  5.71441103  5.23413235]]\n",
      "iter=200 :: obj= -0.50000000 :: val1_1=  0.49999132                  :: val1_2= -0.50000868 :: val2= -1.00000000                   coef2*val2-0.5*(val1_1 - val1_2)= -1.50000000                   :: theta=[[ 3.92696915  1.01653922 -0.11387193]\n",
      " [ 1.58097121  3.76528145  1.66282201]\n",
      " [ 2.3136042   5.709055    5.2346443 ]]\n",
      "iter=300 :: obj= -0.50000000 :: val1_1=  0.50000007                  :: val1_2= -0.49999993 :: val2= -1.00000000                   coef2*val2-0.5*(val1_1 - val1_2)= -1.50000000                   :: theta=[[ 3.92699036  1.01652606 -0.11389139]\n",
      " [ 1.58095869  3.76530063  1.66283889]\n",
      " [ 2.31358658  5.70908076  5.23466106]]\n",
      "obj_list(last 3)=[-0.49999999999996864, -0.4999999999999697, -0.4999999999999727]\n",
      "prb=[(2.788873012433023e-14+0j), (2.1125543987536204e-14+0j), (1.871323352827658e-14+0j), (1.2028244199164248e-14+0j), (2.508938896189075e-16+0j), (2.307273144339133e-15+0j), (0.9999999999999056+0j), (1.189777372505824e-14+0j)]\n",
      "time consumed: 27.245023s\n"
     ]
    }
   ],
   "source": [
    "max_repeat = 1 #100\n",
    "iter_max = 300  #300\n",
    "num_of_layers = 3\n",
    "prb_last_list = []\n",
    "obj_list_rep = []\n",
    "theta_list = []\n",
    "debug_flag, print_flag = 0, True\n",
    "start_time = datetime.datetime.now()\n",
    "for rep in range(1,max_repeat+1):\n",
    "    if print_flag:\n",
    "        print(f'\\n\\nrep={rep}')\n",
    "    else:\n",
    "        print(f'\\n\\nrep={rep}', end='  ')\n",
    "    \n",
    "    optimizer = AdamOptimizer(0.05, beta1=0.9, beta2=0.999)\n",
    "    theta=qml_np.random.uniform(0, 2*math.pi, size=(num_of_layers, num_of_qubits-1), requires_grad=True)\n",
    "    obj_list = []\n",
    "    for iter in range(1, iter_max+1):    \n",
    "        theta, obj = optimizer.step_and_cost(objective_fn, theta)\n",
    "        val1_1 = quantum_circuit_with_HT(theta)\n",
    "        val1_2 = quantum_circuit_with_HTZ(theta)\n",
    "        val2 = quantum_circuit_no_HT_return_Z(theta)\n",
    "        if (iter==1 or iter%100==0 or iter==iter_max) and print_flag:\n",
    "            print(f'iter={iter:3d} :: obj={obj:12.8f} :: val1_1={val1_1:12.8f} \\\n",
    "                 :: val1_2={val1_2:12.8f} :: val2={val2:12.8f}  \\\n",
    "                 coef2*val2-0.5*(val1_1 - val1_2)={coef2*val2-0.5*(val1_1 - val1_2):12.8f}  \\\n",
    "                 :: theta={theta}')\n",
    "            # print(f'iter={iter:3d} :: obj={obj:12.8f} :: theta={theta}')\n",
    "        obj_list.append(obj)\n",
    "    theta_list.append(theta)\n",
    "    print(f'obj_list(last 3)={obj_list[-3:]}')\n",
    "    obj_list_rep.append(obj_list)\n",
    "    \n",
    "    ## display the amplified state\n",
    "    state = quantum_circuit_no_HT_return_state(theta)\n",
    "    prb = [i.item()**2 for i in state]\n",
    "    # print(f'state={state}')\n",
    "    if len(prb)>20:\n",
    "        print(f'prb(last 2)={prb[-2:]}')\n",
    "    else: print(f'prb={prb}')\n",
    "    prb_last_list.append(prb[-1])\n",
    "end_time = datetime.datetime.now()\n",
    "duration = end_time - start_time\n",
    "duration_in_s = duration.total_seconds()\n",
    "print(f'time consumed: {duration_in_s}s')"
   ]
  },
  {
   "cell_type": "code",
   "execution_count": 36,
   "id": "718e1740",
   "metadata": {},
   "outputs": [
    {
     "name": "stdout",
     "output_type": "stream",
     "text": [
      "time now:  2023-03-15 22:04:03.435379\n"
     ]
    }
   ],
   "source": [
    "print('time now: ', end_time)"
   ]
  }
 ],
 "metadata": {
  "kernelspec": {
   "display_name": "Python 3",
   "language": "python",
   "name": "python3"
  },
  "language_info": {
   "codemirror_mode": {
    "name": "ipython",
    "version": 3
   },
   "file_extension": ".py",
   "mimetype": "text/x-python",
   "name": "python",
   "nbconvert_exporter": "python",
   "pygments_lexer": "ipython3",
   "version": "3.7.6"
  }
 },
 "nbformat": 4,
 "nbformat_minor": 5
}
